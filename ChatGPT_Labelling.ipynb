{
 "cells": [
  {
   "cell_type": "markdown",
   "metadata": {},
   "source": [
    "## ChatGPT Labelling\n",
    "\n",
    "#### Glossary\n",
    "\n",
    "1. ChatGPT API Connection\n",
    "2. Verification of the labelling on text already labelled by us\n",
    "3. Labelling by ChatGPT"
   ]
  },
  {
   "cell_type": "code",
   "execution_count": 101,
   "metadata": {},
   "outputs": [],
   "source": [
    "#!pip install openai\n",
    "#!pip install langchain\n",
    "#!pip install python-Levenshtein\n",
    "#!pip install fuzzywuzzy\n",
    "#!pip install sentence_transformers"
   ]
  },
  {
   "cell_type": "code",
   "execution_count": 102,
   "metadata": {},
   "outputs": [],
   "source": [
    "import re\n",
    "import ast\n",
    "import pickle\n",
    "import Levenshtein\n",
    "import pandas as pd\n",
    "import numpy as np\n",
    "import matplotlib.pyplot as plt\n",
    "import seaborn as sns\n",
    "from tqdm import tqdm\n",
    "from ecbdata import ecbdata\n",
    "from fuzzywuzzy import fuzz\n",
    "from sklearn.metrics import accuracy_score, precision_score, recall_score, f1_score, roc_curve, auc, confusion_matrix\n",
    "\n",
    "from openai import OpenAI\n",
    "from jinja2 import Template\n",
    "\n",
    "tqdm.pandas()\n",
    "\n",
    "#ECB Color\n",
    "color = (17/255, 49/255, 147/255)\n",
    "\n",
    "# File containing the functions\n",
    "from src.Metaphor_Labelling_Functions import *"
   ]
  },
  {
   "cell_type": "code",
   "execution_count": 103,
   "metadata": {},
   "outputs": [],
   "source": [
    "# OpenAI Api Key: \n",
    "api_key = open(\"C:\\\\Users\\\\School\\\\Desktop\\\\GPT_KEY.txt\", \"r\").read()\n",
    "\n",
    "# Target words:\n",
    "words_to_match = [\"inflation\",\"deflation\",\"inflationary\",\"desinflationary\",\"hyperinflation\",\"disinflation\"]"
   ]
  },
  {
   "cell_type": "code",
   "execution_count": 104,
   "metadata": {},
   "outputs": [],
   "source": [
    "# Import dataset containing the interveiw data\n",
    "df = pd.read_csv('Data/Final_Data.csv')"
   ]
  },
  {
   "cell_type": "code",
   "execution_count": 105,
   "metadata": {},
   "outputs": [
    {
     "data": {
      "text/html": [
       "<div>\n",
       "<style scoped>\n",
       "    .dataframe tbody tr th:only-of-type {\n",
       "        vertical-align: middle;\n",
       "    }\n",
       "\n",
       "    .dataframe tbody tr th {\n",
       "        vertical-align: top;\n",
       "    }\n",
       "\n",
       "    .dataframe thead th {\n",
       "        text-align: right;\n",
       "    }\n",
       "</style>\n",
       "<table border=\"1\" class=\"dataframe\">\n",
       "  <thead>\n",
       "    <tr style=\"text-align: right;\">\n",
       "      <th></th>\n",
       "      <th>Unnamed: 0</th>\n",
       "      <th>Date</th>\n",
       "      <th>Media</th>\n",
       "      <th>Member</th>\n",
       "      <th>Link</th>\n",
       "      <th>Information</th>\n",
       "      <th>Questions</th>\n",
       "      <th>Answers</th>\n",
       "      <th>Metaphors</th>\n",
       "      <th>Metaphors Sentence</th>\n",
       "      <th>...</th>\n",
       "      <th>pos_metaphors_len</th>\n",
       "      <th>Sentences</th>\n",
       "      <th>Frequency</th>\n",
       "      <th>Sentences_len</th>\n",
       "      <th>Sentence_GPT_Majority</th>\n",
       "      <th>GPT_Majority_Category</th>\n",
       "      <th>Matched_Metaphors</th>\n",
       "      <th>pos_relationships</th>\n",
       "      <th>pos_sentences</th>\n",
       "      <th>pos_relationships_len</th>\n",
       "    </tr>\n",
       "  </thead>\n",
       "  <tbody>\n",
       "    <tr>\n",
       "      <th>0</th>\n",
       "      <td>0</td>\n",
       "      <td>2005-12-23</td>\n",
       "      <td>Interview with Der Spiegel</td>\n",
       "      <td>Jean-Claude Trichet</td>\n",
       "      <td>https://www.ecb.europa.eu/press/inter/date/200...</td>\n",
       "      <td>Information not found</td>\n",
       "      <td>SPIEGEL: Monsieur Trichet, any concrete uttera...</td>\n",
       "      <td>The publication of the translation was authori...</td>\n",
       "      <td>NaN</td>\n",
       "      <td>NaN</td>\n",
       "      <td>...</td>\n",
       "      <td>0</td>\n",
       "      <td>['We will in the future take the decisions tha...</td>\n",
       "      <td>5</td>\n",
       "      <td>3</td>\n",
       "      <td>['we will in the future take the decisions tha...</td>\n",
       "      <td>['machine', 'disease', 'plant']</td>\n",
       "      <td>[True, True, True]</td>\n",
       "      <td>[('inflationary', 'expectation'), ('inflation'...</td>\n",
       "      <td>[]</td>\n",
       "      <td>3</td>\n",
       "    </tr>\n",
       "    <tr>\n",
       "      <th>1</th>\n",
       "      <td>1</td>\n",
       "      <td>2005-12-19</td>\n",
       "      <td>Interview with Hospodářské Noviny</td>\n",
       "      <td>Otmar Issing</td>\n",
       "      <td>https://www.ecb.europa.eu/press/inter/date/200...</td>\n",
       "      <td>Information not found</td>\n",
       "      <td>The new EU member states want to adopt the eur...</td>\n",
       "      <td>These questions are all closely related to eac...</td>\n",
       "      <td>NaN</td>\n",
       "      <td>NaN</td>\n",
       "      <td>...</td>\n",
       "      <td>0</td>\n",
       "      <td>['We are not confronted with deflation but wit...</td>\n",
       "      <td>1</td>\n",
       "      <td>1</td>\n",
       "      <td>['we are not confronted with deflation but wit...</td>\n",
       "      <td>['warfare']</td>\n",
       "      <td>[True]</td>\n",
       "      <td>[]</td>\n",
       "      <td>[]</td>\n",
       "      <td>0</td>\n",
       "    </tr>\n",
       "    <tr>\n",
       "      <th>2</th>\n",
       "      <td>2</td>\n",
       "      <td>2005-12-19</td>\n",
       "      <td>Interview with Financial Times and Financial T...</td>\n",
       "      <td>Lucas Papademos</td>\n",
       "      <td>https://www.ecb.europa.eu/press/inter/date/200...</td>\n",
       "      <td>Information not found</td>\n",
       "      <td>Mr Papademos, you have responsibility as ECB V...</td>\n",
       "      <td>A comparison of the risks involved when short-...</td>\n",
       "      <td>NaN</td>\n",
       "      <td>NaN</td>\n",
       "      <td>...</td>\n",
       "      <td>2</td>\n",
       "      <td>['If longterm interest rates remain at a low l...</td>\n",
       "      <td>18</td>\n",
       "      <td>11</td>\n",
       "      <td>['in the us the policy stance changed and the ...</td>\n",
       "      <td>['fire', 'fire', 'fire', 'fire']</td>\n",
       "      <td>[True, True, True, True]</td>\n",
       "      <td>[('future', 'inflation'), ('low', 'inflation')...</td>\n",
       "      <td>['it a higher level of interest rates could fo...</td>\n",
       "      <td>8</td>\n",
       "    </tr>\n",
       "    <tr>\n",
       "      <th>3</th>\n",
       "      <td>3</td>\n",
       "      <td>2005-12-15</td>\n",
       "      <td>Interview with Paris Match</td>\n",
       "      <td>Jean-Claude Trichet</td>\n",
       "      <td>https://www.ecb.europa.eu/press/inter/date/200...</td>\n",
       "      <td>Information not found</td>\n",
       "      <td>Paris Match. After two uneventful years at the...</td>\n",
       "      <td>The publication of the translation was authori...</td>\n",
       "      <td>NaN</td>\n",
       "      <td>NaN</td>\n",
       "      <td>...</td>\n",
       "      <td>0</td>\n",
       "      <td>['You are exaggerating the increase in the cos...</td>\n",
       "      <td>7</td>\n",
       "      <td>5</td>\n",
       "      <td>['furthermore we must not wait until inflation...</td>\n",
       "      <td>['warfare', 'disease', 'disease', 'machine', '...</td>\n",
       "      <td>[True, True, True, True, True]</td>\n",
       "      <td>[('inflationary', 'remain'), ('inflationary', ...</td>\n",
       "      <td>[]</td>\n",
       "      <td>2</td>\n",
       "    </tr>\n",
       "    <tr>\n",
       "      <th>4</th>\n",
       "      <td>4</td>\n",
       "      <td>2005-12-09</td>\n",
       "      <td>Interview in Il Giornale</td>\n",
       "      <td>Lorenzo Bini Smaghi</td>\n",
       "      <td>https://www.ecb.europa.eu/press/inter/date/200...</td>\n",
       "      <td>Information not found</td>\n",
       "      <td>However, Europe’s politicians, with few except...</td>\n",
       "      <td>By Angelo Allegri, our correspondent in Frankf...</td>\n",
       "      <td>NaN</td>\n",
       "      <td>NaN</td>\n",
       "      <td>...</td>\n",
       "      <td>0</td>\n",
       "      <td>['The rise has helped to keep inflation expect...</td>\n",
       "      <td>7</td>\n",
       "      <td>7</td>\n",
       "      <td>['the rise has helped to keep inflation expect...</td>\n",
       "      <td>['orientation', 'orientation', 'orientation', ...</td>\n",
       "      <td>[True, True, True, True, True, True, True]</td>\n",
       "      <td>[('inflation', 'regard')]</td>\n",
       "      <td>[]</td>\n",
       "      <td>1</td>\n",
       "    </tr>\n",
       "  </tbody>\n",
       "</table>\n",
       "<p>5 rows × 30 columns</p>\n",
       "</div>"
      ],
      "text/plain": [
       "   Unnamed: 0        Date                                              Media  \\\n",
       "0           0  2005-12-23                         Interview with Der Spiegel   \n",
       "1           1  2005-12-19                  Interview with Hospodářské Noviny   \n",
       "2           2  2005-12-19  Interview with Financial Times and Financial T...   \n",
       "3           3  2005-12-15                         Interview with Paris Match   \n",
       "4           4  2005-12-09                           Interview in Il Giornale   \n",
       "\n",
       "                Member                                               Link  \\\n",
       "0  Jean-Claude Trichet  https://www.ecb.europa.eu/press/inter/date/200...   \n",
       "1         Otmar Issing  https://www.ecb.europa.eu/press/inter/date/200...   \n",
       "2      Lucas Papademos  https://www.ecb.europa.eu/press/inter/date/200...   \n",
       "3  Jean-Claude Trichet  https://www.ecb.europa.eu/press/inter/date/200...   \n",
       "4  Lorenzo Bini Smaghi  https://www.ecb.europa.eu/press/inter/date/200...   \n",
       "\n",
       "             Information                                          Questions  \\\n",
       "0  Information not found  SPIEGEL: Monsieur Trichet, any concrete uttera...   \n",
       "1  Information not found  The new EU member states want to adopt the eur...   \n",
       "2  Information not found  Mr Papademos, you have responsibility as ECB V...   \n",
       "3  Information not found  Paris Match. After two uneventful years at the...   \n",
       "4  Information not found  However, Europe’s politicians, with few except...   \n",
       "\n",
       "                                             Answers Metaphors  \\\n",
       "0  The publication of the translation was authori...       NaN   \n",
       "1  These questions are all closely related to eac...       NaN   \n",
       "2  A comparison of the risks involved when short-...       NaN   \n",
       "3  The publication of the translation was authori...       NaN   \n",
       "4  By Angelo Allegri, our correspondent in Frankf...       NaN   \n",
       "\n",
       "  Metaphors Sentence  ...  pos_metaphors_len  \\\n",
       "0                NaN  ...                  0   \n",
       "1                NaN  ...                  0   \n",
       "2                NaN  ...                  2   \n",
       "3                NaN  ...                  0   \n",
       "4                NaN  ...                  0   \n",
       "\n",
       "                                           Sentences Frequency Sentences_len  \\\n",
       "0  ['We will in the future take the decisions tha...         5             3   \n",
       "1  ['We are not confronted with deflation but wit...         1             1   \n",
       "2  ['If longterm interest rates remain at a low l...        18            11   \n",
       "3  ['You are exaggerating the increase in the cos...         7             5   \n",
       "4  ['The rise has helped to keep inflation expect...         7             7   \n",
       "\n",
       "                               Sentence_GPT_Majority  \\\n",
       "0  ['we will in the future take the decisions tha...   \n",
       "1  ['we are not confronted with deflation but wit...   \n",
       "2  ['in the us the policy stance changed and the ...   \n",
       "3  ['furthermore we must not wait until inflation...   \n",
       "4  ['the rise has helped to keep inflation expect...   \n",
       "\n",
       "                               GPT_Majority_Category  \\\n",
       "0                    ['machine', 'disease', 'plant']   \n",
       "1                                        ['warfare']   \n",
       "2                   ['fire', 'fire', 'fire', 'fire']   \n",
       "3  ['warfare', 'disease', 'disease', 'machine', '...   \n",
       "4  ['orientation', 'orientation', 'orientation', ...   \n",
       "\n",
       "                            Matched_Metaphors  \\\n",
       "0                          [True, True, True]   \n",
       "1                                      [True]   \n",
       "2                    [True, True, True, True]   \n",
       "3              [True, True, True, True, True]   \n",
       "4  [True, True, True, True, True, True, True]   \n",
       "\n",
       "                                   pos_relationships  \\\n",
       "0  [('inflationary', 'expectation'), ('inflation'...   \n",
       "1                                                 []   \n",
       "2  [('future', 'inflation'), ('low', 'inflation')...   \n",
       "3  [('inflationary', 'remain'), ('inflationary', ...   \n",
       "4                          [('inflation', 'regard')]   \n",
       "\n",
       "                                       pos_sentences pos_relationships_len  \n",
       "0                                                 []                     3  \n",
       "1                                                 []                     0  \n",
       "2  ['it a higher level of interest rates could fo...                     8  \n",
       "3                                                 []                     2  \n",
       "4                                                 []                     1  \n",
       "\n",
       "[5 rows x 30 columns]"
      ]
     },
     "execution_count": 105,
     "metadata": {},
     "output_type": "execute_result"
    }
   ],
   "source": [
    "df.head()"
   ]
  },
  {
   "cell_type": "code",
   "execution_count": 106,
   "metadata": {},
   "outputs": [
    {
     "data": {
      "text/plain": [
       "Unnamed: 0                                                               62\n",
       "Date                                                             2010-05-21\n",
       "Media                     Interview with Frankfurter Allgemeine Zeitung ...\n",
       "Member                                                  Jean-Claude Trichet\n",
       "Link                      https://www.ecb.europa.eu/press/inter/date/201...\n",
       "Information                                           Information not found\n",
       "Questions                 FAZ:[end_question] Trichet:[end_question] FAZ:...\n",
       "Answers                   Trichet: We are constantly urging the banks to...\n",
       "Metaphors                                                               NaN\n",
       "Metaphors Sentence                                                      NaN\n",
       "YoB                                                                    1942\n",
       "Gender                                                                    M\n",
       "Country                                                              France\n",
       "Period on the Board                                             2003 - 2011\n",
       "list_regex                                                               []\n",
       "list_regex_reduced                                                       []\n",
       "list_regex_len                                                            0\n",
       "list_regex_reduced_len                                                    0\n",
       "text_length                                                             693\n",
       "pos_metaphors                                                            []\n",
       "pos_metaphors_len                                                         0\n",
       "Sentences                                                                []\n",
       "Frequency                                                                 0\n",
       "Sentences_len                                                             0\n",
       "Sentence_GPT_Majority                                                    []\n",
       "GPT_Majority_Category                                                    []\n",
       "Matched_Metaphors                                                        []\n",
       "pos_relationships                                                        []\n",
       "pos_sentences                                                            []\n",
       "pos_relationships_len                                                     0\n",
       "Name: 62, dtype: object"
      ]
     },
     "execution_count": 106,
     "metadata": {},
     "output_type": "execute_result"
    }
   ],
   "source": [
    "df.iloc[62]"
   ]
  },
  {
   "cell_type": "markdown",
   "metadata": {},
   "source": [
    "# Pre-processing\n",
    "\n",
    "Prepare the data for the labeling"
   ]
  },
  {
   "cell_type": "code",
   "execution_count": 107,
   "metadata": {},
   "outputs": [
    {
     "name": "stderr",
     "output_type": "stream",
     "text": [
      "100%|██████████| 519/519 [00:00<00:00, 32528.56it/s]\n",
      "100%|██████████| 519/519 [00:00<00:00, 2973.66it/s]\n",
      "100%|██████████| 519/519 [00:00<00:00, 2177.05it/s]\n",
      "100%|██████████| 519/519 [00:00<00:00, 520651.47it/s]\n",
      "100%|██████████| 519/519 [00:00<00:00, 1634.85it/s]\n"
     ]
    }
   ],
   "source": [
    "def preprocess_text(df,words_to_match):\n",
    "        text_preproc = (\n",
    "                df.Answers\n",
    "                .astype(str)\n",
    "                .progress_apply(lambda row: remove_end_answer(row))\n",
    "                .progress_apply(lambda row: remove_special_characters_keep_point(row))\n",
    "                .progress_apply(lambda row: remove_unnecessary_spaces(row))\n",
    "                .progress_apply(lambda row: remove_starting_month(row))\n",
    "                .progress_apply(lambda row: extract_sentences(row,words_to_match)))\n",
    "\n",
    "        df[\"Sentences\"]=text_preproc\n",
    "\n",
    "        return df\n",
    "\n",
    "df = preprocess_text(df, words_to_match=words_to_match)"
   ]
  },
  {
   "cell_type": "code",
   "execution_count": 108,
   "metadata": {},
   "outputs": [],
   "source": [
    "df[\"Frequency\"] = df[\"Answers\"].apply(count_frequency, words_to_match=words_to_match)\n",
    "df['Sentences_len'] = df['Sentences'].apply(len)"
   ]
  },
  {
   "cell_type": "code",
   "execution_count": 109,
   "metadata": {},
   "outputs": [
    {
     "name": "stderr",
     "output_type": "stream",
     "text": [
      "c:\\ProgramData\\anaconda3\\Lib\\site-packages\\seaborn\\_oldcore.py:1119: FutureWarning: use_inf_as_na option is deprecated and will be removed in a future version. Convert inf values to NaN before operating instead.\n",
      "  with pd.option_context('mode.use_inf_as_na', True):\n",
      "c:\\ProgramData\\anaconda3\\Lib\\site-packages\\seaborn\\_oldcore.py:1119: FutureWarning: use_inf_as_na option is deprecated and will be removed in a future version. Convert inf values to NaN before operating instead.\n",
      "  with pd.option_context('mode.use_inf_as_na', True):\n"
     ]
    },
    {
     "data": {
      "image/png": "[encoded data removed]",
      "text/plain": [
       "<Figure size 1600x600 with 2 Axes>"
      ]
     },
     "metadata": {},
     "output_type": "display_data"
    }
   ],
   "source": [
    "# Plot the distribution of Frequency and Sentences_len\n",
    "fig, ax = plt.subplots(1, 2, figsize=(16, 6))\n",
    "sns.histplot(df[\"Frequency\"], ax=ax[0], color=color)\n",
    "ax[0].set_title(\"Frequency distribution\")\n",
    "sns.histplot(df[\"Sentences_len\"], ax=ax[1], color=color)\n",
    "ax[1].set_title(\"Sentences length distribution\")\n",
    "plt.show()"
   ]
  },
  {
   "cell_type": "markdown",
   "metadata": {},
   "source": [
    "# Labeled Data\n",
    "\n",
    "We will use the human labeled data to verify the perfromance of Chat GPT 4o to extract, identify and classify conceptual metaphors. \n",
    "\n",
    "If the perfromance of Chat GPT is considered as equal to human perfromance, then we will use GPT to label the entire dataset."
   ]
  },
  {
   "cell_type": "code",
   "execution_count": 110,
   "metadata": {},
   "outputs": [
    {
     "name": "stdout",
     "output_type": "stream",
     "text": [
      "Shape of the labeled data: (68, 56)\n"
     ]
    }
   ],
   "source": [
    "\"\"\"# Dataframe with the labeled Metaphors\n",
    "df_labels = df[df['Metaphors'].notnull()].copy()\n",
    "print(\"Shape of the dataset with labeled Metaphors: \", df_labels.shape)\"\"\"\n",
    "\n",
    "df_labels = pd.read_csv('Data/Labeled_Data.csv')\n",
    "print(\"Shape of the labeled data:\", df_labels.shape)"
   ]
  },
  {
   "cell_type": "code",
   "execution_count": 111,
   "metadata": {},
   "outputs": [],
   "source": [
    "# This cell could be unnecessay in later versions (or only run ones!)\n",
    "\n",
    "# lambda function to convert string representations of lists into actual lists\n",
    "parse_list = lambda x: ast.literal_eval(x) if x != '[\\'None\\']' else []\n",
    "df_labels.loc[:, 'Metaphors Sentence'] = df_labels['Metaphors Sentence'].apply(parse_list)\n",
    "df_labels.loc[:, 'Sentences'] = df_labels['Sentences'].apply(parse_list)\n",
    "df_labels.loc[:, 'Category_Labeled'] = df_labels['Category_Labeled'].apply(parse_list)\n",
    "\n",
    "# lambda function to count the elements in each list\n",
    "df_labels.loc[:, 'Metaphors_len'] = df_labels['Metaphors Sentence'].apply(len)\n",
    "df_labels.loc[:, 'Sentences_len'] = df_labels['Sentences'].apply(len)\n",
    "df_labels.loc[:, 'Category_len'] = df_labels['Category_Labeled'].apply(len)"
   ]
  },
  {
   "cell_type": "code",
   "execution_count": 112,
   "metadata": {},
   "outputs": [
    {
     "name": "stdout",
     "output_type": "stream",
     "text": [
      "Total number of Metaphors (Label):  493\n",
      "Total number of Sentences (with words_to_match):  577\n",
      "Average number of Metaphors per Interview:  7.25\n",
      "Ratio of Metaphors to Sentences:  0.854419410745234\n"
     ]
    }
   ],
   "source": [
    "# Print total number of Metaphors\n",
    "print(\"Total number of Metaphors (Label): \", df_labels['Metaphors_len'].sum())\n",
    "print(\"Total number of Sentences (with words_to_match): \", df_labels['Sentences'].apply(len).sum())\n",
    "print(\"Average number of Metaphors per Interview: \", df_labels['Metaphors_len'].mean())\n",
    "print(\"Ratio of Metaphors to Sentences: \", df_labels['Metaphors_len'].sum() / df_labels['Sentences'].apply(len).sum())"
   ]
  },
  {
   "cell_type": "code",
   "execution_count": 113,
   "metadata": {},
   "outputs": [],
   "source": [
    "# Some of the labeled Metaphors have the Starting date of the interview, we need to remove it as it was removed from the Sentences\n",
    "df_labels['Metaphors Sentence'] = df_labels['Metaphors Sentence'].apply(lambda x: [remove_starting_month(sentence) for sentence in x])\n",
    "\n",
    "# Some of the labeled Metaphors have a \"low;\" in the string resulting from an error, we need to remove it as it not present in the Sentences\n",
    "df_labels['Metaphors Sentence'] = df_labels['Metaphors Sentence'].apply(lambda x: [sentence.replace(\"low;\", \" \") for sentence in x])"
   ]
  },
  {
   "cell_type": "code",
   "execution_count": 114,
   "metadata": {},
   "outputs": [
    {
     "data": {
      "text/plain": [
       "(475, 493)"
      ]
     },
     "execution_count": 114,
     "metadata": {},
     "output_type": "execute_result"
    }
   ],
   "source": [
    "# Sanity check: Match 'Metaphors Sentence' with 'Sentences' to see if they are present\n",
    "df_temp = add_match_column(df_labels.copy(), threshold=0.5)\n",
    "\n",
    "# Compare the 'Matched_Labeled_len' with 'Metaphors_len' to see if all the Metaphors are matched\n",
    "df_temp['Matched_Labeled_len'].sum(), df_temp['Metaphors_len'].sum()"
   ]
  },
  {
   "cell_type": "markdown",
   "metadata": {},
   "source": [
    "Some of the labeled sentences do not match with the 'Sentences' extracted from the interviews. The Fuzzy threshold had to be set to 0.5 to match the most possible Metaphors. This might be due to Human error while labeling or the preprocessing step removing special characters such as \"-\" that might change the meaning of a word."
   ]
  },
  {
   "cell_type": "markdown",
   "metadata": {},
   "source": [
    "### 1. ChatGPT API Connection\n"
   ]
  },
  {
   "cell_type": "code",
   "execution_count": 115,
   "metadata": {},
   "outputs": [],
   "source": [
    "initial_prompt = open(\"GPT_Prompts/Prompt_1.txt\", \"r\").read()\n",
    "\n",
    "following_prompts = \"\"\"Detect and extract the conceptual metaphors related to inflation, deflation, inflationary, disinflationary, hyperinflation, and disinflation in the following sentences:\n",
    "{{list_sentences}}\n",
    "\n",
    "Return the metaphors in the format:\n",
    "Sentence: [Sentence text] Category: [Category]\n",
    "\n",
    "Where, Category is one of the following:\n",
    "Fire, Liquids, Plant, Animal, Disease, Warfare, Sports, Machine, Orientation, Other\n",
    "\n",
    "The output has to be in the right format. The categories are predefined and you have to choose the right category based on the metaphor used in the sentence.\n",
    "\"\"\"\n",
    "\n",
    "following_prompts = Template(following_prompts)"
   ]
  },
  {
   "cell_type": "code",
   "execution_count": 116,
   "metadata": {},
   "outputs": [
    {
     "data": {
      "text/plain": [
       "['On the other hand in July there were upside risks to inflation but now they are balanced.',\n",
       " 'This is a major asset for Europe it protects us from the materialisation of the risk of inflation as well as the materialisation of the risk of deflation.']"
      ]
     },
     "execution_count": 116,
     "metadata": {},
     "output_type": "execute_result"
    }
   ],
   "source": [
    "df_labels[\"Sentences\"].iloc[3]"
   ]
  },
  {
   "cell_type": "code",
   "execution_count": 117,
   "metadata": {},
   "outputs": [
    {
     "name": "stdout",
     "output_type": "stream",
     "text": [
      "Detect and extract the conceptual metaphors related to inflation, deflation, inflationary, disinflationary, hyperinflation, and disinflation in the following sentences:\n",
      "['If longterm interest rates remain at a low level as a result of favourable inflation expectations influenced by a credible monetary policy oriented towards price stability and as a consequence of the impact of other factors then the effect on economic activity of a rise in shortterm interest rates is going to be more muted.', 'Public perceptions and expectations of future inflation should be favourably influenced by a change in the monetary policy stance that aims at preserving price stability.', 'It a higher level of interest rates could foster expectations of lower inflation and higher real disposable incomes and increase confidence particularly in countries where public perceptions of current inflation are less favourable than actual inflation and financial markets inflation expectations.', 'It was necessary in order to preserve price stability over the medium term in view of several upside risks to price stability that had been identified and in order to send a clear signal that the ECB is determined to continue pursuing a credible policy that will preserve price stability over the medium term and continue to anchor inflation expectations to price stability.', 'It was also prudent to decide on a moderate change in the stance taking into account the uncertainty surrounding the evolution and effects of other determinants of inflation dynamics.', 'In the US the policy stance changed and the decision to preannounce a measured increase in interest rates was made at a time when interest rates were at the very low level of 1 per cent and had stayed at that level for a considerable period and also at a time when it was assessed that inflationary pressures were building up on both the demand and the supply sides of the American economy.', 'Second our assessment about the outlook for price stability is that inflation is expected to stay above 2 per cent for a period of time but it is expected to moderate gradually.', 'In the absence of secondround effects the relatively modest increase in unit labour costs partly related to the fact that the pace of the recovery is moderate and there is still an output gap and a high rate of unemployment is expected to help contain inflationary pressures.', 'They are useful benchmarks not intermediate objectives that can be used together with other measures such as the output gap and the difference between the unemployment rate and what could be labelled the natural rate of unemployment to provide information about the strength of inflationary pressures in the economy.', 'Recent research at the ECB and by academic economists and international institutions suggests that the natural rate of unemployment or the NAIRU nonaccelerating inflation rate of unemployment is currently close to 8 per cent.', 'If the NAIRU is reduced a higher level of employment and a lower rate of unemployment can be supported by monetary policy without creating inflationary pressures.']\n",
      "\n",
      "Return the metaphors in the format:\n",
      "Sentence: [Sentence text] Category: [Category]\n",
      "\n",
      "Where, Category is one of the following:\n",
      "Fire, Liquids, Plant, Animal, Disease, Warfare, Sports, Machine, Orientation, Other\n",
      "\n",
      "The output has to be in the right format. The categories are predefined and you have to choose the right category based on the metaphor used in the sentence.\n",
      "405\n"
     ]
    }
   ],
   "source": [
    "print(following_prompts.render(list_sentences=df[\"Sentences\"].iloc[2]))\n",
    "\n",
    "# Limit size of df to 10\n",
    "#df_labels = df_labels.iloc[:10]\n",
    "\n",
    "sentences_list = []\n",
    "\n",
    "for index, row in df.iterrows():\n",
    "    sentences = row[\"Sentences\"]\n",
    "    if len(sentences) > 0:\n",
    "        sentences_list.append(sentences)\n",
    "\n",
    "print(len(sentences_list))"
   ]
  },
  {
   "cell_type": "code",
   "execution_count": 118,
   "metadata": {},
   "outputs": [
    {
     "data": {
      "text/plain": [
       "['Title: Conceptual Metaphor Detection\\n\\nDescription: Detect and extract conceptual Metaphors in a set of sentences.\\n\\nTask: Given a set of sentences, you are required to identify and extract conceptual metaphors present.  \\nOnly consider conceptual metaphors related to inflation, deflation, inflationary, disinflationary, hyperinflation, and disinflation.\\nAfter identifying the metaphors, return the sentences that contain the metaphors and label it in the format:\\n\\nSentence: [Sentence text] Category: [Category]\\n\\nWhere, Category is one of the following 10 options (with a set of examples):\\nFire = [\\'ignite\\', \\'fuel\\', \\'spark\\', \\'dampen\\', \\'stoke\\', \\'kindle\\', \\'choke\\', \\'stifle\\', \\'fan\\', \\'flare-up\\', \\'douse\\', \\'snuff\\']\\nLiquids = [\\'erode\\', \\'surge\\', \\'subside\\', \\'simmers\\', \\'emergence\\', \\'ebb\\', \\'dilute\\', \\'spurt\\', \\'recede\\', \\'buoy\\']\\nPlant = [\\'hedge\\', \\'nip\\']\\nAnimal = [\\'soar\\', \\'rampant\\', \\'curb\\', \\'tame\\', \\'rein\\', \\'creep\\', \\'whip\\', \\'gallop\\', \\'halt\\', \\'roar\\', \\'curtail\\', \\'gnaw\\', \\'hibernation\\',\\'Pounce\\',\\'Stalk\\',\\'Bite\\',\\'Claw\\',\\'Snarl\\',\\'Charge\\',\\'Hunt\\',\\'Intimidate\\',\\'Defend\\',\\'Rend\\',\\'Tear\\',\\'Dominated\\',\\'Fangs\\',\\'Claws\\',\\'Predation\\',\\'Territoriality\\',\\'Hackles\\',\\'Prowess\\',\\'Strength\\',\\'Ferocity\\',\\'Dominance\\',\\'Menace\\',\\'Threat\\',\\'piercing\\',\\'glaring\\',\\'Talons\\',\\'Paws\\',\\'Horns\\',\\'Tusks\\',\\'Fierce\\',\\'Savage\\',\\'Ruthless\\',\\'Daunting\\',\\'Wild\\',\\'Untamed\\',\\'Ferocious\\',\\'prey\\']\\nDisease = [\\'plague\\', \\'worsen\\', \\'benign\\', \\'virulent\\', \\'debilitate\\', \\'bout\\', \\'chronically\\']\\nWarfare = [\\'threat\\', \\'subdue\\', \\'target\\', \\'beat\\', \\'preempt\\', \\'vigilant\\', \\'ravage\\', \\'undermine\\', \\'forestall\\', \\'counteract\\', \\'eliminate\\', \\'ferocious\\', \\'ruinous\\', \\'clobber\\', \\'buster\\', \\'eradicate\\', \\'besieged\\', \\'thwart\\', \\'bash\\', \\'beset\\']\\nSports = [\\'pace\\', \\'outstrip\\', \\'lag\\', \\'surpass\\', \\'quicken\\', \\'outrun\\', \\'bout\\', \\'best\\', \\'tug-of-war\\', \\'zip\\', \\'overtake\\']\\nMachine = [\\'accelerate\\', \\'faster\\', \\'control\\', \\'slow\\', \\'trigger\\', \\'skyrocket\\', \\'rapid\\', \\'heat\\', \\'escalate\\', \\'decelerate\\', \\'ratchet\\', \\'unchecked\\', \\'readjusted\\', \\'chug\\', \\'damper\\', \\'zoom\\']\\nOrientation = [\\'low\\', \\'rise\\', \\'high\\', \\'increase\\', \\'reduce\\', \\'decline\\', \\'fall\\', \\'exceed\\', \\'spiral\\', \\'hyper\\', \\'upward\\', \\'uptick\\', \\'downward\\', \\'boost\\', \\'peak\\', \\'diminish\\', \\'upturn\\', \\'hike\\', \\'plummet\\', \\'upswing\\']\\nOther = [any other metaphor not covered by the above categories]\\n\\nDefinition: Conceptual metaphors refer to linguistic expressions that metaphorically represent abstract concepts in terms of more concrete concepts.\\n\\nIdentifying Metaphorical and Non-Metaphorical Usage:\\nTo identify whether the use of \"inflation\" is metaphorical or non-metaphorical, consider the following questions:\\n\\nIs another domain being used to describe inflation?: Check if the sentence draws on concepts from a different area of experience to explain or depict inflation.\\nMetaphorical: \"Inflation is eroding our savings.\" (Here, \"eroding\" draws on the domain of natural wear and tear, often associated with physical erosion.)\\nNon-Metaphorical: \"Inflation is measured by the Consumer Price Index.\" (This is a straightforward, literal description.)\\n\\nIs the language used more concrete and vivid?: Metaphors often use vivid and concrete imagery to make abstract ideas more relatable.\\nMetaphorical: \"Inflation is a beast that must be tamed.\" (The use of \"beast\" provides a vivid and concrete image.)\\nNon-Metaphorical: \"Inflation affects the purchasing power of money.\" (This is a direct explanation without vivid imagery.)\\n\\nIs the purpose to simplify and relate?: Metaphors are often used to simplify complex ideas and relate them to common experiences.\\nMetaphorical: \"The economy is overheating due to inflation.\" (This uses the concept of overheating, which is a familiar experience, to explain economic stress.)\\nNon-Metaphorical: \"High inflation rates can lead to increased interest rates.\" (This is a factual statement explaining a cause-and-effect relationship.)\\n\\nAdditional Instructions:\\n- If one sentence contains multiple metaphors, return the sentence multiple times with each metaphor labeled separately.\\n\\nExample Input:\\n[\"China worries that such rapid growth could ignite inflation, and the countrys banking industry has been trying since last year to bring the rate down to 7 percent a year.\",\\n\"But the evidence from that earlier period is tainted by the fact that inflation was roaring at the time creating bracket creep, over-taxation of illusory capital gains and paper profits, and rising interest rates.\"]\\n\\nExample Output:\\n\"Sentence: China worries that such rapid growth could ignite inflation, and the countrys banking industry has been trying since last year to bring the rate down to 7 percent a year. Category: Fire\", \\n\"Sentence: \"But the evidence from that earlier period is tainted by the fact that inflation was roaring at the time creating bracket creep, over-taxation of illusory capital gains and paper profits, and rising interest rates.\" Category: Animal\"\\n\\nThe output has to be in the right format as shown in the example output. The categories are predefined and you have to choose the right category based on the metaphor used in the sentence.',\n",
       " \"Detect and extract the conceptual metaphors related to inflation, deflation, inflationary, disinflationary, hyperinflation, and disinflation in the following sentences:\\n['We will in the future take the decisions that will be necessary to deliver price stability to be credible in delivering price stability over time and to preserve the solid anchoring of inflationary expectations at levels consistent with price stability.', 'This is a risk which in turn would affect inflation permanently in the future.', 'Our decision by stabilising inflationary expectations preserves a financial environment which is favourable to sustainable growth and job creation.']\\n\\nReturn the metaphors in the format:\\nSentence: [Sentence text] Category: [Category]\\n\\nWhere, Category is one of the following:\\nFire, Liquids, Plant, Animal, Disease, Warfare, Sports, Machine, Orientation, Other\\n\\nThe output has to be in the right format. The categories are predefined and you have to choose the right category based on the metaphor used in the sentence.\",\n",
       " \"Detect and extract the conceptual metaphors related to inflation, deflation, inflationary, disinflationary, hyperinflation, and disinflation in the following sentences:\\n['We are not confronted with deflation but with increased risks to price stability this in the reason why we raised our interest rates.']\\n\\nReturn the metaphors in the format:\\nSentence: [Sentence text] Category: [Category]\\n\\nWhere, Category is one of the following:\\nFire, Liquids, Plant, Animal, Disease, Warfare, Sports, Machine, Orientation, Other\\n\\nThe output has to be in the right format. The categories are predefined and you have to choose the right category based on the metaphor used in the sentence.\"]"
      ]
     },
     "execution_count": 118,
     "metadata": {},
     "output_type": "execute_result"
    }
   ],
   "source": [
    "all_prompts = [initial_prompt] + [following_prompts.render(list_sentences=sentences) for sentences in sentences_list]\n",
    "all_prompts[:3]"
   ]
  },
  {
   "cell_type": "code",
   "execution_count": 119,
   "metadata": {},
   "outputs": [],
   "source": [
    "all_prompts = [[{\"role\": \"system\", \"content\": prompt}] for prompt in all_prompts]\n",
    "#all_prompts"
   ]
  },
  {
   "cell_type": "code",
   "execution_count": 120,
   "metadata": {},
   "outputs": [
    {
     "data": {
      "text/plain": [
       "'client = OpenAI(api_key=api_key)\\n\\n# model: \"gpt-3.5-turbo\", \"gpt-4o\"\\n# temperature: Controls the creativity of the responses. Lower values make the output more focused and deterministic, while higher values make it more random\\n# We want GPT to be more deterministic and focused, and return the metaphors in the right format - Default value: 0\\ngpt_answer = [client.chat.completions.create(messages=msg, model=\\'gpt-4o\\', temperature=0).choices[0].message.content for msg in all_prompts]'"
      ]
     },
     "execution_count": 120,
     "metadata": {},
     "output_type": "execute_result"
    }
   ],
   "source": [
    "\"\"\"client = OpenAI(api_key=api_key)\n",
    "\n",
    "# model: \"gpt-3.5-turbo\", \"gpt-4o\"\n",
    "# temperature: Controls the creativity of the responses. Lower values make the output more focused and deterministic, while higher values make it more random\n",
    "# We want GPT to be more deterministic and focused, and return the metaphors in the right format - Default value: 0\n",
    "gpt_answer = [client.chat.completions.create(messages=msg, model='gpt-4o', temperature=0).choices[0].message.content for msg in all_prompts]\"\"\""
   ]
  },
  {
   "cell_type": "code",
   "execution_count": 121,
   "metadata": {},
   "outputs": [
    {
     "data": {
      "text/plain": [
       "'gpt_answer\\nprint(len(gpt_answer))'"
      ]
     },
     "execution_count": 121,
     "metadata": {},
     "output_type": "execute_result"
    }
   ],
   "source": [
    "\"\"\"gpt_answer\n",
    "print(len(gpt_answer))\"\"\""
   ]
  },
  {
   "cell_type": "code",
   "execution_count": 122,
   "metadata": {},
   "outputs": [
    {
     "data": {
      "text/plain": [
       "\"# Save the GPT-4 output to a pickle file\\nwith open('gpt_answer_all_3.pkl', 'wb') as f:\\n    pickle.dump(gpt_answer, f)\""
      ]
     },
     "execution_count": 122,
     "metadata": {},
     "output_type": "execute_result"
    }
   ],
   "source": [
    "\"\"\"# Save the GPT-4 output to a pickle file\n",
    "with open('gpt_answer_all_3.pkl', 'wb') as f:\n",
    "    pickle.dump(gpt_answer, f)\"\"\""
   ]
  },
  {
   "cell_type": "markdown",
   "metadata": {},
   "source": [
    "### Investigate the 3 different outputs:\n",
    "\n",
    "As 3 different prompts were tested and saved, now we will analyse the outputs and keep the metaphors appearing at least twice in a final 'robust' dataset."
   ]
  },
  {
   "cell_type": "code",
   "execution_count": 123,
   "metadata": {},
   "outputs": [
    {
     "name": "stdout",
     "output_type": "stream",
     "text": [
      "The length of the GPT-4 output for the first prompt:  58\n",
      "The length of the GPT-4 output for the second prompt:  58\n",
      "The length of the GPT-4 output for the third prompt:  58\n"
     ]
    }
   ],
   "source": [
    "# Load the GPT-4 output from the pickle file\n",
    "with open('GPT_Output/gpt_answer_1.pkl', 'rb') as f:\n",
    "    gpt_answer_1 = pickle.load(f)\n",
    "\n",
    "with open('GPT_Output/gpt_answer_2.pkl', 'rb') as f:\n",
    "    gpt_answer_2 = pickle.load(f)\n",
    "\n",
    "with open('GPT_Output/gpt_answer_3.pkl', 'rb') as f:\n",
    "    gpt_answer_3 = pickle.load(f)\n",
    "\n",
    "# Drop the first element which is the initial prompt\n",
    "gpt_answer_1 = gpt_answer_1[1:]\n",
    "gpt_answer_2 = gpt_answer_2[1:]\n",
    "gpt_answer_3 = gpt_answer_3[1:]\n",
    "\n",
    "gpt_names = [\"GPT_1\", \"GPT_2\", \"GPT_3\", \"GPT_Majority\"]\n",
    "\n",
    "print(\"The length of the GPT-4 output for the first prompt: \", len(gpt_answer_1))\n",
    "print(\"The length of the GPT-4 output for the second prompt: \", len(gpt_answer_2))\n",
    "print(\"The length of the GPT-4 output for the third prompt: \", len(gpt_answer_3))"
   ]
  },
  {
   "cell_type": "code",
   "execution_count": 124,
   "metadata": {},
   "outputs": [
    {
     "name": "stdout",
     "output_type": "stream",
     "text": [
      "Shape of the dataset before adding GPT-4 output:  (68, 56)\n",
      "Shape of the dataset after dropping empty Sentences:  (68, 56)\n",
      "Shape of the dataset after adding GPT-4 output:  (68, 56)\n"
     ]
    }
   ],
   "source": [
    "print(\"Shape of the dataset before adding GPT-4 output: \", df_labels.shape)\n",
    "\n",
    "# Drop the rows where the Sentences are empty\n",
    "#df_labels = df_labels[df_labels['Sentences'].apply(len) > 0]\n",
    "\n",
    "print(\"Shape of the dataset after dropping empty Sentences: \", df_labels.shape)\n",
    "\n",
    "for gpt_name, gpt_answer in zip(gpt_names, [gpt_answer_1, gpt_answer_2, gpt_answer_3]):\n",
    "    df_labels = add_columns_to_dataframe(df_labels, gpt_answer, name=gpt_name)\n",
    "\n",
    "print(\"Shape of the dataset after adding GPT-4 output: \", df_labels.shape)"
   ]
  },
  {
   "cell_type": "code",
   "execution_count": 125,
   "metadata": {},
   "outputs": [
    {
     "name": "stdout",
     "output_type": "stream",
     "text": [
      "Total number of Metaphors labeled:  493\n",
      "Total number of Sentences (with words_to_match):  577\n",
      "\n",
      "Total number of sentences in the 'Sentence_GPT_1' column:  497\n",
      "Total number of sentences in the 'Sentence_GPT_2' column:  497\n",
      "Total number of sentences in the 'Sentence_GPT_3' column:  505\n",
      "\n",
      "Ratio of GPT (Prompt 1) Metaphors to Sentences:  0.8613518197573656\n",
      "Ratio of GPT (Prompt 2) Metaphors to Sentences:  0.8613518197573656\n",
      "Ratio of GPT (Prompt 3) Metaphors to Sentences:  0.8752166377816292\n"
     ]
    }
   ],
   "source": [
    "# Sanity check:\n",
    "print(\"Total number of Metaphors labeled: \", df_labels['Metaphors_len'].sum())\n",
    "print(\"Total number of Sentences (with words_to_match): \", df_labels['Sentences'].apply(len).sum())\n",
    "print(\"\")\n",
    "print(\"Total number of sentences in the 'Sentence_GPT_1' column: \", df_labels['Sentence_GPT_1'].apply(len).sum())\n",
    "print(\"Total number of sentences in the 'Sentence_GPT_2' column: \", df_labels['Sentence_GPT_2'].apply(len).sum())\n",
    "print(\"Total number of sentences in the 'Sentence_GPT_3' column: \", df_labels['Sentence_GPT_3'].apply(len).sum())\n",
    "print(\"\")\n",
    "print(\"Ratio of GPT (Prompt 1) Metaphors to Sentences: \", df_labels['Sentence_GPT_1'].apply(len).sum() / df_labels['Sentences'].apply(len).sum())\n",
    "print(\"Ratio of GPT (Prompt 2) Metaphors to Sentences: \", df_labels['Sentence_GPT_2'].apply(len).sum() / df_labels['Sentences'].apply(len).sum())\n",
    "print(\"Ratio of GPT (Prompt 3) Metaphors to Sentences: \", df_labels['Sentence_GPT_3'].apply(len).sum() / df_labels['Sentences'].apply(len).sum())"
   ]
  },
  {
   "cell_type": "markdown",
   "metadata": {},
   "source": [
    "### Majority voting:\n",
    "\n",
    "Keep only the Metaphors that appear in at least two of the 3 outputs given by 3 different prompts."
   ]
  },
  {
   "cell_type": "code",
   "execution_count": 126,
   "metadata": {},
   "outputs": [
    {
     "name": "stdout",
     "output_type": "stream",
     "text": [
      "Ratio of GPT (Majority Vote) Metaphors to Sentences:  0.8769497400346621\n"
     ]
    }
   ],
   "source": [
    "df_labels = majority_voting_with_category(df_labels)\n",
    "print(\"Ratio of GPT (Majority Vote) Metaphors to Sentences: \", df_labels['Sentence_GPT_Majority'].apply(len).sum() / df_labels['Sentences'].apply(len).sum())"
   ]
  },
  {
   "cell_type": "markdown",
   "metadata": {},
   "source": [
    "The ratio of metaphor per sentence containing the word 'inflation' went up after majority voting, hence resulting in more robust results for the rest of the analysis."
   ]
  },
  {
   "cell_type": "markdown",
   "metadata": {},
   "source": [
    "### Preprocessing the labeled sentences and GPT answers to perform analysis:"
   ]
  },
  {
   "cell_type": "code",
   "execution_count": 127,
   "metadata": {},
   "outputs": [],
   "source": [
    "for gpt_name in gpt_names:\n",
    "    df_labels = add_comparison_column(df_labels, threshold=30, name=gpt_name)"
   ]
  },
  {
   "cell_type": "markdown",
   "metadata": {},
   "source": [
    "## Metaphor matching using Levenstein distance:"
   ]
  },
  {
   "cell_type": "code",
   "execution_count": 128,
   "metadata": {},
   "outputs": [
    {
     "name": "stdout",
     "output_type": "stream",
     "text": [
      "Total number of Metaphors (prompt GPT_1):  497\n",
      "Total number of True values for (prompt GPT_1):  383\n",
      "Ratio of Metaphors correctly identified (vs labeled data) (prompt GPT_1):  0.7706237424547284\n",
      "Ratio of Categories correctly identified (vs labeled data) (prompt GPT_1):  0.8048289738430584\n",
      "\n",
      "Total number of Metaphors (prompt GPT_2):  497\n",
      "Total number of True values for (prompt GPT_2):  389\n",
      "Ratio of Metaphors correctly identified (vs labeled data) (prompt GPT_2):  0.7826961770623743\n",
      "Ratio of Categories correctly identified (vs labeled data) (prompt GPT_2):  0.7806841046277666\n",
      "\n",
      "Total number of Metaphors (prompt GPT_3):  505\n",
      "Total number of True values for (prompt GPT_3):  386\n",
      "Ratio of Metaphors correctly identified (vs labeled data) (prompt GPT_3):  0.7643564356435644\n",
      "Ratio of Categories correctly identified (vs labeled data) (prompt GPT_3):  0.7782178217821782\n",
      "\n",
      "Total number of Metaphors (prompt GPT_Majority):  506\n",
      "Total number of True values for (prompt GPT_Majority):  389\n",
      "Ratio of Metaphors correctly identified (vs labeled data) (prompt GPT_Majority):  0.7687747035573123\n",
      "Ratio of Categories correctly identified (vs labeled data) (prompt GPT_Majority):  0.8003952569169961\n",
      "\n"
     ]
    }
   ],
   "source": [
    "for gpt_name in gpt_names:\n",
    "    print(f\"Total number of Metaphors (prompt {gpt_name}): \", df_labels[f'Sentence_{gpt_name}'].apply(len).sum())\n",
    "    print(f\"Total number of True values for (prompt {gpt_name}): \", df_labels[f'Comparison_Result_{gpt_name}'].apply(sum).sum())\n",
    "    print(f\"Ratio of Metaphors correctly identified (vs labeled data) (prompt {gpt_name}): \", df_labels[f'Comparison_Result_{gpt_name}'].apply(sum).sum() / df_labels[f'Comparison_Result_{gpt_name}'].apply(len).sum())\n",
    "    print(f\"Ratio of Categories correctly identified (vs labeled data) (prompt {gpt_name}): \", df_labels[f'Category_Result_{gpt_name}'].apply(sum).sum() / df_labels[f'Category_Result_{gpt_name}'].apply(len).sum())\n",
    "    print(\"\")"
   ]
  },
  {
   "cell_type": "markdown",
   "metadata": {},
   "source": [
    "## Metrics Metaphors: "
   ]
  },
  {
   "cell_type": "code",
   "execution_count": 129,
   "metadata": {},
   "outputs": [],
   "source": [
    "sentences_list = extract_sentences_column(df_labels)\n",
    "metaphors_list = extract_metaphors(df_labels)\n",
    "\n",
    "# Get the true Y values (sentences matching with metaphors labeled)\n",
    "df_true = metrics_dataframe(sentences_list, metaphors_list) "
   ]
  },
  {
   "cell_type": "code",
   "execution_count": 130,
   "metadata": {},
   "outputs": [
    {
     "name": "stdout",
     "output_type": "stream",
     "text": [
      "Accuracy (prompt GPT_1): 0.7706237424547284\n",
      "Precision (prompt GPT_1): 0.7706237424547284\n",
      "Recall (prompt GPT_1): 0.7768762677484787\n",
      "F1 Score (prompt GPT_1): 0.7737373737373737\n",
      "\n",
      "Confusion Matrix:\n",
      "[[ 31  93]\n",
      " [ 52 401]]\n",
      "True Positives (TP): 401\n",
      "True Negatives (TN): 31\n",
      "False Positives (FP): 93\n",
      "False Negatives (FN): 52\n",
      "\n",
      "Accuracy (prompt GPT_2): 0.7826961770623743\n",
      "Precision (prompt GPT_2): 0.7826961770623743\n",
      "Recall (prompt GPT_2): 0.7890466531440162\n",
      "F1 Score (prompt GPT_2): 0.7858585858585859\n",
      "\n",
      "Confusion Matrix:\n",
      "[[ 34  90]\n",
      " [ 49 404]]\n",
      "True Positives (TP): 404\n",
      "True Negatives (TN): 34\n",
      "False Positives (FP): 90\n",
      "False Negatives (FN): 49\n",
      "\n",
      "Accuracy (prompt GPT_3): 0.7643564356435644\n",
      "Precision (prompt GPT_3): 0.7643564356435644\n",
      "Recall (prompt GPT_3): 0.7829614604462475\n",
      "F1 Score (prompt GPT_3): 0.7735470941883769\n",
      "\n",
      "Confusion Matrix:\n",
      "[[ 26  98]\n",
      " [ 49 404]]\n",
      "True Positives (TP): 404\n",
      "True Negatives (TN): 26\n",
      "False Positives (FP): 98\n",
      "False Negatives (FN): 49\n",
      "\n",
      "Accuracy (prompt GPT_Majority): 0.7687747035573123\n",
      "Precision (prompt GPT_Majority): 0.7687747035573123\n",
      "Recall (prompt GPT_Majority): 0.7890466531440162\n",
      "F1 Score (prompt GPT_Majority): 0.7787787787787788\n",
      "\n",
      "Confusion Matrix:\n",
      "[[ 28  96]\n",
      " [ 46 407]]\n",
      "True Positives (TP): 407\n",
      "True Negatives (TN): 28\n",
      "False Positives (FP): 96\n",
      "False Negatives (FN): 46\n",
      "\n"
     ]
    }
   ],
   "source": [
    "for gpt_name in gpt_names:\n",
    "    df_pred = metrics_dataframe(sentences_list, extract_metaphors(df_labels, name=gpt_name))\n",
    "    calculate_metrics(df_labels, gpt_name, Fuzzy=False)\n",
    "    get_confusion_matrix(df_true, df_pred, model_name=gpt_name)\n",
    "    print(\"\")"
   ]
  },
  {
   "cell_type": "markdown",
   "metadata": {},
   "source": [
    "## Metaphor matching using Fuzzy distance:"
   ]
  },
  {
   "cell_type": "code",
   "execution_count": 131,
   "metadata": {},
   "outputs": [],
   "source": [
    "for gpt_name in gpt_names:\n",
    "    df_labels = add_comparison_column_Fuzzy(df_labels, threshold=0.45, name=gpt_name)"
   ]
  },
  {
   "cell_type": "code",
   "execution_count": 132,
   "metadata": {},
   "outputs": [
    {
     "name": "stdout",
     "output_type": "stream",
     "text": [
      "Total number of Metaphors (prompt GPT_1):  497\n",
      "Total number of True values for (prompt GPT_1):  451\n",
      "Ratio of Metaphors correctly identified (vs labeled data) (prompt GPT_1):  0.9074446680080482\n",
      "Ratio of Categories correctly identified (vs labeled data) (prompt GPT_1):  0.8048289738430584\n",
      "\n",
      "Total number of Metaphors (prompt GPT_2):  497\n",
      "Total number of True values for (prompt GPT_2):  453\n",
      "Ratio of Metaphors correctly identified (vs labeled data) (prompt GPT_2):  0.9114688128772636\n",
      "Ratio of Categories correctly identified (vs labeled data) (prompt GPT_2):  0.7806841046277666\n",
      "\n",
      "Total number of Metaphors (prompt GPT_3):  505\n",
      "Total number of True values for (prompt GPT_3):  460\n",
      "Ratio of Metaphors correctly identified (vs labeled data) (prompt GPT_3):  0.9108910891089109\n",
      "Ratio of Categories correctly identified (vs labeled data) (prompt GPT_3):  0.7782178217821782\n",
      "\n",
      "Total number of Metaphors (prompt GPT_Majority):  506\n",
      "Total number of True values for (prompt GPT_Majority):  461\n",
      "Ratio of Metaphors correctly identified (vs labeled data) (prompt GPT_Majority):  0.9110671936758893\n",
      "Ratio of Categories correctly identified (vs labeled data) (prompt GPT_Majority):  0.8003952569169961\n",
      "\n"
     ]
    }
   ],
   "source": [
    "for gpt_name in gpt_names:\n",
    "        print(f\"Total number of Metaphors (prompt {gpt_name}): \", df_labels[f'Sentence_{gpt_name}'].apply(len).sum())\n",
    "        print(f\"Total number of True values for (prompt {gpt_name}): \", df_labels[f'Matched_Metaphors_Fuzzy_{gpt_name}'].apply(sum).sum())\n",
    "        print(f\"Ratio of Metaphors correctly identified (vs labeled data) (prompt {gpt_name}): \", df_labels[f'Matched_Metaphors_Fuzzy_{gpt_name}'].apply(sum).sum() / df_labels[f'Matched_Metaphors_Fuzzy_{gpt_name}'].apply(len).sum())\n",
    "        print(f\"Ratio of Categories correctly identified (vs labeled data) (prompt {gpt_name}): \", df_labels[f'Matched_Categories_Fuzzy_{gpt_name}'].apply(sum).sum() / df_labels[f'Matched_Categories_Fuzzy_{gpt_name}'].apply(len).sum())\n",
    "        print(\"\")"
   ]
  },
  {
   "cell_type": "code",
   "execution_count": 133,
   "metadata": {},
   "outputs": [
    {
     "name": "stdout",
     "output_type": "stream",
     "text": [
      "Accuracy (prompt GPT_1): 0.9074446680080482\n",
      "Precision (prompt GPT_1): 0.9074446680080482\n",
      "Recall (prompt GPT_1): 0.9148073022312373\n",
      "F1 Score (prompt GPT_1): 0.9111111111111112\n",
      "\n",
      "Confusion Matrix:\n",
      "[[ 31  93]\n",
      " [ 52 401]]\n",
      "True Positives (TP): 401\n",
      "True Negatives (TN): 31\n",
      "False Positives (FP): 93\n",
      "False Negatives (FN): 52\n",
      "\n",
      "Accuracy (prompt GPT_2): 0.9114688128772636\n",
      "Precision (prompt GPT_2): 0.9114688128772636\n",
      "Recall (prompt GPT_2): 0.9188640973630832\n",
      "F1 Score (prompt GPT_2): 0.915151515151515\n",
      "\n",
      "Confusion Matrix:\n",
      "[[ 34  90]\n",
      " [ 49 404]]\n",
      "True Positives (TP): 404\n",
      "True Negatives (TN): 34\n",
      "False Positives (FP): 90\n",
      "False Negatives (FN): 49\n",
      "\n",
      "Accuracy (prompt GPT_3): 0.9108910891089109\n",
      "Precision (prompt GPT_3): 0.9108910891089109\n",
      "Recall (prompt GPT_3): 0.9330628803245437\n",
      "F1 Score (prompt GPT_3): 0.9218436873747495\n",
      "\n",
      "Confusion Matrix:\n",
      "[[ 26  98]\n",
      " [ 49 404]]\n",
      "True Positives (TP): 404\n",
      "True Negatives (TN): 26\n",
      "False Positives (FP): 98\n",
      "False Negatives (FN): 49\n",
      "\n",
      "Accuracy (prompt GPT_Majority): 0.9110671936758893\n",
      "Precision (prompt GPT_Majority): 0.9110671936758893\n",
      "Recall (prompt GPT_Majority): 0.9350912778904665\n",
      "F1 Score (prompt GPT_Majority): 0.922922922922923\n",
      "\n",
      "Confusion Matrix:\n",
      "[[ 28  96]\n",
      " [ 46 407]]\n",
      "True Positives (TP): 407\n",
      "True Negatives (TN): 28\n",
      "False Positives (FP): 96\n",
      "False Negatives (FN): 46\n",
      "\n"
     ]
    }
   ],
   "source": [
    "for gpt_name in gpt_names:\n",
    "    df_pred = metrics_dataframe(sentences_list, extract_metaphors(df_labels, name=gpt_name))\n",
    "    calculate_metrics(df_labels, gpt_name, Fuzzy=True)\n",
    "    get_confusion_matrix(df_true, df_pred, model_name=gpt_name)\n",
    "    print(\"\")"
   ]
  },
  {
   "cell_type": "markdown",
   "metadata": {},
   "source": [
    "## Metrics Categories:"
   ]
  },
  {
   "cell_type": "code",
   "execution_count": 134,
   "metadata": {},
   "outputs": [],
   "source": [
    "category_list = extract_category(df_labels, name=\"Labeled\")\n",
    "metaphors_list = extract_metaphors(df_labels)\n",
    "\n",
    "\n",
    "# Get the true Y values (sentences matching with metaphors labeled)\n",
    "df_true = metrics_dataframe(category_list, metaphors_list)"
   ]
  },
  {
   "cell_type": "code",
   "execution_count": 135,
   "metadata": {},
   "outputs": [
    {
     "name": "stdout",
     "output_type": "stream",
     "text": [
      "Accuracy (prompt GPT_1): 0.7706237424547284\n",
      "Precision (prompt GPT_1): 0.7706237424547284\n",
      "Recall (prompt GPT_1): 0.7768762677484787\n",
      "F1 Score (prompt GPT_1): 0.7737373737373737\n",
      "\n",
      "\n",
      "Accuracy (prompt GPT_2): 0.7826961770623743\n",
      "Precision (prompt GPT_2): 0.7826961770623743\n",
      "Recall (prompt GPT_2): 0.7890466531440162\n",
      "F1 Score (prompt GPT_2): 0.7858585858585859\n",
      "\n",
      "\n",
      "Accuracy (prompt GPT_3): 0.7643564356435644\n",
      "Precision (prompt GPT_3): 0.7643564356435644\n",
      "Recall (prompt GPT_3): 0.7829614604462475\n",
      "F1 Score (prompt GPT_3): 0.7735470941883769\n",
      "\n",
      "\n",
      "Accuracy (prompt GPT_Majority): 0.7687747035573123\n",
      "Precision (prompt GPT_Majority): 0.7687747035573123\n",
      "Recall (prompt GPT_Majority): 0.7890466531440162\n",
      "F1 Score (prompt GPT_Majority): 0.7787787787787788\n",
      "\n",
      "\n"
     ]
    }
   ],
   "source": [
    "for gpt_name in gpt_names:\n",
    "    df_pred = metrics_dataframe(category_list, extract_category(df_labels, name=gpt_name))\n",
    "    calculate_metrics(df_labels, gpt_name, Fuzzy=False)\n",
    "    print(\"\")"
   ]
  },
  {
   "cell_type": "markdown",
   "metadata": {},
   "source": [
    "# Chat GPT Labels for entire dataset EDA:"
   ]
  },
  {
   "cell_type": "code",
   "execution_count": 136,
   "metadata": {},
   "outputs": [
    {
     "name": "stdout",
     "output_type": "stream",
     "text": [
      "Lenght of GPT-4 output for the first prompt:  406\n",
      "Lenght of GPT-4 output for the second prompt:  406\n",
      "Lenght of GPT-4 output for the third prompt:  406\n"
     ]
    }
   ],
   "source": [
    "# Load the GPT-4 output from the pickle file\n",
    "with open('GPT_Output/gpt_answer_all_1.pkl', 'rb') as f:\n",
    "    gpt_answer_all_1 = pickle.load(f)\n",
    "\n",
    "with open('GPT_Output/gpt_answer_all_2.pkl', 'rb') as f:\n",
    "    gpt_answer_all_2 = pickle.load(f)\n",
    "\n",
    "with open('GPT_Output/gpt_answer_all_3.pkl', 'rb') as f:\n",
    "    gpt_answer_all_3 = pickle.load(f)\n",
    "\n",
    "print(\"Lenght of GPT-4 output for the first prompt: \", len(gpt_answer_all_1))\n",
    "print(\"Lenght of GPT-4 output for the second prompt: \", len(gpt_answer_all_2))\n",
    "print(\"Lenght of GPT-4 output for the third prompt: \", len(gpt_answer_all_3))"
   ]
  },
  {
   "cell_type": "code",
   "execution_count": 137,
   "metadata": {},
   "outputs": [
    {
     "name": "stdout",
     "output_type": "stream",
     "text": [
      "Shape of the dataset before adding GPT-4 output:  (519, 30)\n",
      "Shape of the dataset after adding GPT-4 output:  (519, 36)\n"
     ]
    }
   ],
   "source": [
    "# Drop the first element which is the initial prompt\n",
    "gpt_answer_all_1 = gpt_answer_all_1[1:]\n",
    "gpt_answer_all_2 = gpt_answer_all_2[1:]\n",
    "gpt_answer_all_3 = gpt_answer_all_3[1:]\n",
    "\n",
    "print(\"Shape of the dataset before adding GPT-4 output: \", df.shape)\n",
    "\n",
    "for gpt_name, gpt_answer in zip(gpt_names, [gpt_answer_all_1, gpt_answer_all_2, gpt_answer_all_3]):\n",
    "    df = add_columns_to_dataframe(df, gpt_answer, name=gpt_name)\n",
    "\n",
    "print(\"Shape of the dataset after adding GPT-4 output: \", df.shape)"
   ]
  },
  {
   "cell_type": "code",
   "execution_count": 138,
   "metadata": {},
   "outputs": [
    {
     "name": "stdout",
     "output_type": "stream",
     "text": [
      "Total number of Sentences (with words_to_match):  3437\n",
      "\n",
      "Total number of sentences in the 'Sentence_GPT_1' column:  3060\n",
      "Total number of sentences in the 'Sentence_GPT_2' column:  3073\n",
      "Total number of sentences in the 'Sentence_GPT_3' column:  2999\n",
      "\n",
      "Ratio of GPT (Prompt 1) Metaphors to Sentences:  0.8903113180098924\n",
      "Ratio of GPT (Prompt 2) Metaphors to Sentences:  0.8940936863543788\n",
      "Ratio of GPT (Prompt 3) Metaphors to Sentences:  0.8725632819319173\n"
     ]
    }
   ],
   "source": [
    "# Sanity check:\n",
    "print(\"Total number of Sentences (with words_to_match): \", df['Sentences'].apply(len).sum())\n",
    "print(\"\")\n",
    "print(\"Total number of sentences in the 'Sentence_GPT_1' column: \", df['Sentence_GPT_1'].apply(len).sum())\n",
    "print(\"Total number of sentences in the 'Sentence_GPT_2' column: \", df['Sentence_GPT_2'].apply(len).sum())\n",
    "print(\"Total number of sentences in the 'Sentence_GPT_3' column: \", df['Sentence_GPT_3'].apply(len).sum())\n",
    "print(\"\")\n",
    "print(\"Ratio of GPT (Prompt 1) Metaphors to Sentences: \", df['Sentence_GPT_1'].apply(len).sum() / df['Sentences'].apply(len).sum())\n",
    "print(\"Ratio of GPT (Prompt 2) Metaphors to Sentences: \", df['Sentence_GPT_2'].apply(len).sum() / df['Sentences'].apply(len).sum())\n",
    "print(\"Ratio of GPT (Prompt 3) Metaphors to Sentences: \", df['Sentence_GPT_3'].apply(len).sum() / df['Sentences'].apply(len).sum())"
   ]
  },
  {
   "cell_type": "markdown",
   "metadata": {},
   "source": [
    "# Majority Voting:"
   ]
  },
  {
   "cell_type": "code",
   "execution_count": 139,
   "metadata": {},
   "outputs": [
    {
     "name": "stdout",
     "output_type": "stream",
     "text": [
      "Total number of sentences in the 'Sentence_GPT_Majority' column:  3038\n",
      "Ratio of GPT (Majority Vote) Metaphors to Sentences:  0.8839103869653768\n"
     ]
    }
   ],
   "source": [
    "df = majority_voting_with_category(df)\n",
    "print(\"Total number of sentences in the 'Sentence_GPT_Majority' column: \", df['Sentence_GPT_Majority'].apply(len).sum())\n",
    "print(\"Ratio of GPT (Majority Vote) Metaphors to Sentences: \", df['Sentence_GPT_Majority'].apply(len).sum() / df['Sentences'].apply(len).sum())"
   ]
  },
  {
   "cell_type": "code",
   "execution_count": 140,
   "metadata": {},
   "outputs": [],
   "source": [
    "df = add_comparison_column_GPT(df)"
   ]
  },
  {
   "cell_type": "code",
   "execution_count": 141,
   "metadata": {},
   "outputs": [
    {
     "name": "stdout",
     "output_type": "stream",
     "text": [
      "Total number of Metaphors:  3038\n",
      "Total number of True values:  2962\n",
      "Total number of False values:  76\n",
      "Ratio of Metaphors correctly matched with the 'original set of' Sentences:  0.9749835418038183\n"
     ]
    }
   ],
   "source": [
    "# Flatten the lists in the \"Matched_Metaphors\" column\n",
    "flattened_results = [item for sublist in df['Matched_Metaphors'] for item in sublist]\n",
    "\n",
    "# Count the True and False values\n",
    "true_count = flattened_results.count(True)\n",
    "false_count = flattened_results.count(False)\n",
    "\n",
    "print(\"Total number of Metaphors: \", df['Sentence_GPT_Majority'].apply(len).sum())\n",
    "print(\"Total number of True values: \", true_count)\n",
    "print(\"Total number of False values: \", false_count)\n",
    "print(\"Ratio of Metaphors correctly matched with the 'original set of' Sentences: \", true_count / len(flattened_results))"
   ]
  },
  {
   "cell_type": "markdown",
   "metadata": {},
   "source": [
    "Out of the 3437 sentences containing the word 'inflation', 3038 were labeled as metaphors by Chat GPT 4o. \n",
    "\n",
    "However, 76 of them could not be matched to the original sentences again, which might be because Chat GPT returned a different sentence (not the exact same one). Or due to preprocessing issues."
   ]
  },
  {
   "cell_type": "code",
   "execution_count": 142,
   "metadata": {},
   "outputs": [],
   "source": [
    "# Drop the unnecessary columns: Sentence_GPT_1, Sentence_GPT_2, Sentence_GPT_3, Category_GPT_1, Category_GPT_2, Category_GPT_3 if they exist\n",
    "if 'Sentence_GPT_1' in df.columns:\n",
    "    df.drop(['Sentence_GPT_1', 'Sentence_GPT_2', 'Sentence_GPT_3', 'Category_GPT_1', 'Category_GPT_2', 'Category_GPT_3'], axis=1, inplace=True)"
   ]
  },
  {
   "cell_type": "code",
   "execution_count": 151,
   "metadata": {},
   "outputs": [],
   "source": [
    "\"\"\"# Save the final dataset to a CSV file\n",
    "df.to_csv('Data/Final_Data.csv', index=False)\"\"\""
   ]
  },
  {
   "cell_type": "markdown",
   "metadata": {},
   "source": [
    "### Dataset: \n",
    "\n",
    "Create second dataset with all the senteces, their Metaphor classification and if metaphor also their category."
   ]
  },
  {
   "cell_type": "code",
   "execution_count": 42,
   "metadata": {},
   "outputs": [
    {
     "name": "stdout",
     "output_type": "stream",
     "text": [
      "Length of Sentences list:  3437\n",
      "Length of Metaphors list:  3038\n",
      "Length of Category list:  3038\n",
      "Length of the new dataframe:  3437\n"
     ]
    },
    {
     "data": {
      "text/html": [
       "<div>\n",
       "<style scoped>\n",
       "    .dataframe tbody tr th:only-of-type {\n",
       "        vertical-align: middle;\n",
       "    }\n",
       "\n",
       "    .dataframe tbody tr th {\n",
       "        vertical-align: top;\n",
       "    }\n",
       "\n",
       "    .dataframe thead th {\n",
       "        text-align: right;\n",
       "    }\n",
       "</style>\n",
       "<table border=\"1\" class=\"dataframe\">\n",
       "  <thead>\n",
       "    <tr style=\"text-align: right;\">\n",
       "      <th></th>\n",
       "      <th>Sentence</th>\n",
       "      <th>Matched</th>\n",
       "      <th>Category</th>\n",
       "    </tr>\n",
       "  </thead>\n",
       "  <tbody>\n",
       "    <tr>\n",
       "      <th>0</th>\n",
       "      <td>We will in the future take the decisions that ...</td>\n",
       "      <td>True</td>\n",
       "      <td>machine</td>\n",
       "    </tr>\n",
       "    <tr>\n",
       "      <th>1</th>\n",
       "      <td>This is a risk which in turn would affect infl...</td>\n",
       "      <td>True</td>\n",
       "      <td>disease</td>\n",
       "    </tr>\n",
       "    <tr>\n",
       "      <th>2</th>\n",
       "      <td>Our decision by stabilising inflationary expec...</td>\n",
       "      <td>True</td>\n",
       "      <td>plant</td>\n",
       "    </tr>\n",
       "    <tr>\n",
       "      <th>3</th>\n",
       "      <td>We are not confronted with deflation but with ...</td>\n",
       "      <td>True</td>\n",
       "      <td>warfare</td>\n",
       "    </tr>\n",
       "    <tr>\n",
       "      <th>4</th>\n",
       "      <td>If longterm interest rates remain at a low lev...</td>\n",
       "      <td>False</td>\n",
       "      <td>None</td>\n",
       "    </tr>\n",
       "  </tbody>\n",
       "</table>\n",
       "</div>"
      ],
      "text/plain": [
       "                                            Sentence  Matched Category\n",
       "0  We will in the future take the decisions that ...     True  machine\n",
       "1  This is a risk which in turn would affect infl...     True  disease\n",
       "2  Our decision by stabilising inflationary expec...     True    plant\n",
       "3  We are not confronted with deflation but with ...     True  warfare\n",
       "4  If longterm interest rates remain at a low lev...    False     None"
      ]
     },
     "execution_count": 42,
     "metadata": {},
     "output_type": "execute_result"
    }
   ],
   "source": [
    "sentences_list = extract_sentences_column(df)\n",
    "metaphors_list = extract_metaphors(df, \"GPT_Majority\")\n",
    "category_list = extract_category(df, \"GPT_Majority\")\n",
    "\n",
    "print(\"Length of Sentences list: \", len(sentences_list))\n",
    "print(\"Length of Metaphors list: \", len(metaphors_list))\n",
    "print(\"Length of Category list: \", len(category_list))\n",
    "\n",
    "df_new = metrics_dataframe(sentences_list, metaphors_list, category_list) \n",
    "\n",
    "print(\"Length of the new dataframe: \", len(df_new))\n",
    "\n",
    "df_new.head()"
   ]
  },
  {
   "cell_type": "code",
   "execution_count": 49,
   "metadata": {},
   "outputs": [
    {
     "name": "stdout",
     "output_type": "stream",
     "text": [
      "Ratio of Metaphors to Sentences:  0.8658713994762874\n"
     ]
    }
   ],
   "source": [
    "# Ratio of Metaphors to Sentences\n",
    "print(\"Ratio of Metaphors to Sentences: \", df_new['Matched'].sum() / len(df_new))"
   ]
  },
  {
   "cell_type": "code",
   "execution_count": 51,
   "metadata": {},
   "outputs": [
    {
     "data": {
      "text/plain": [
       "Category\n",
       "orientation    1310\n",
       "other           770\n",
       "disease         267\n",
       "machine         237\n",
       "warfare         204\n",
       "plant            67\n",
       "fire             39\n",
       "liquids          39\n",
       "sports           25\n",
       "animal           18\n",
       "Name: count, dtype: int64"
      ]
     },
     "execution_count": 51,
     "metadata": {},
     "output_type": "execute_result"
    }
   ],
   "source": [
    "df_new['Category'].value_counts()"
   ]
  },
  {
   "cell_type": "code",
   "execution_count": 53,
   "metadata": {},
   "outputs": [],
   "source": [
    "\"\"\"#Save the final dataset to a CSV file\n",
    "df_new.to_csv('Data/Prediction_Data.csv', index=False)\"\"\""
   ]
  },
  {
   "cell_type": "code",
   "execution_count": null,
   "metadata": {},
   "outputs": [],
   "source": []
  }
 ],
 "metadata": {
  "kernelspec": {
   "display_name": "base",
   "language": "python",
   "name": "python3"
  },
  "language_info": {
   "codemirror_mode": {
    "name": "ipython",
    "version": 3
   },
   "file_extension": ".py",
   "mimetype": "text/x-python",
   "name": "python",
   "nbconvert_exporter": "python",
   "pygments_lexer": "ipython3",
   "version": "3.11.4"
  }
 },
 "nbformat": 4,
 "nbformat_minor": 2
}
