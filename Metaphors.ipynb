{
 "cells": [
  {
   "cell_type": "code",
   "execution_count": 1,
   "metadata": {},
   "outputs": [],
   "source": [
    "# Libraries\n",
    "import numpy as np\n",
    "import matplotlib.pyplot as plt\n",
    "import pandas as pd\n",
    "import seaborn as sns\n",
    "import os\n",
    "import aux_functions \n",
    "import re"
   ]
  },
  {
   "cell_type": "code",
   "execution_count": 2,
   "metadata": {},
   "outputs": [],
   "source": [
    "workingdir = os.getcwd()\n",
    "# read cleaned_data.csv file\n",
    "df = pd.read_csv(workingdir + '/data_complete.csv')\n",
    "\n",
    "#copy the dataset for later verifications\n",
    "df_copy = df.copy()\n",
    "df_copy.reset_index(drop=True, inplace=True)"
   ]
  },
  {
   "cell_type": "code",
   "execution_count": 3,
   "metadata": {},
   "outputs": [
    {
     "data": {
      "text/html": [
       "<div>\n",
       "<style scoped>\n",
       "    .dataframe tbody tr th:only-of-type {\n",
       "        vertical-align: middle;\n",
       "    }\n",
       "\n",
       "    .dataframe tbody tr th {\n",
       "        vertical-align: top;\n",
       "    }\n",
       "\n",
       "    .dataframe thead th {\n",
       "        text-align: right;\n",
       "    }\n",
       "</style>\n",
       "<table border=\"1\" class=\"dataframe\">\n",
       "  <thead>\n",
       "    <tr style=\"text-align: right;\">\n",
       "      <th></th>\n",
       "      <th>Date</th>\n",
       "      <th>Media</th>\n",
       "      <th>Member</th>\n",
       "      <th>Link</th>\n",
       "      <th>Information</th>\n",
       "      <th>Questions</th>\n",
       "      <th>Answers</th>\n",
       "    </tr>\n",
       "  </thead>\n",
       "  <tbody>\n",
       "    <tr>\n",
       "      <th>0</th>\n",
       "      <td>23 December 2005</td>\n",
       "      <td>Interview with Der Spiegel</td>\n",
       "      <td>Jean-Claude Trichet</td>\n",
       "      <td>https://www.ecb.europa.eu/press/inter/date/200...</td>\n",
       "      <td>Information not found</td>\n",
       "      <td>SPIEGEL: Monsieur Trichet, any concrete uttera...</td>\n",
       "      <td>The publication of the translation was authori...</td>\n",
       "    </tr>\n",
       "    <tr>\n",
       "      <th>1</th>\n",
       "      <td>19 December 2005</td>\n",
       "      <td>Interview with Hospodářské Noviny</td>\n",
       "      <td>Otmar Issing</td>\n",
       "      <td>https://www.ecb.europa.eu/press/inter/date/200...</td>\n",
       "      <td>Information not found</td>\n",
       "      <td>The new EU member states want to adopt the eur...</td>\n",
       "      <td>These questions are all closely related to eac...</td>\n",
       "    </tr>\n",
       "    <tr>\n",
       "      <th>2</th>\n",
       "      <td>19 December 2005</td>\n",
       "      <td>Interview with Financial Times and Financial T...</td>\n",
       "      <td>Lucas Papademos</td>\n",
       "      <td>https://www.ecb.europa.eu/press/inter/date/200...</td>\n",
       "      <td>Information not found</td>\n",
       "      <td>Mr Papademos, you have responsibility as ECB V...</td>\n",
       "      <td>A comparison of the risks involved when short-...</td>\n",
       "    </tr>\n",
       "    <tr>\n",
       "      <th>3</th>\n",
       "      <td>15 December 2005</td>\n",
       "      <td>Interview with Paris Match</td>\n",
       "      <td>Jean-Claude Trichet</td>\n",
       "      <td>https://www.ecb.europa.eu/press/inter/date/200...</td>\n",
       "      <td>Information not found</td>\n",
       "      <td>Paris Match. After two uneventful years at the...</td>\n",
       "      <td>The publication of the translation was authori...</td>\n",
       "    </tr>\n",
       "    <tr>\n",
       "      <th>4</th>\n",
       "      <td>9 December 2005</td>\n",
       "      <td>Interview in Il Giornale</td>\n",
       "      <td>Lorenzo Bini Smaghi</td>\n",
       "      <td>https://www.ecb.europa.eu/press/inter/date/200...</td>\n",
       "      <td>Information not found</td>\n",
       "      <td>However, Europe’s politicians, with few except...</td>\n",
       "      <td>By Angelo Allegri, our correspondent in Frankf...</td>\n",
       "    </tr>\n",
       "  </tbody>\n",
       "</table>\n",
       "</div>"
      ],
      "text/plain": [
       "               Date                                              Media  \\\n",
       "0  23 December 2005                         Interview with Der Spiegel   \n",
       "1  19 December 2005                  Interview with Hospodářské Noviny   \n",
       "2  19 December 2005  Interview with Financial Times and Financial T...   \n",
       "3  15 December 2005                         Interview with Paris Match   \n",
       "4   9 December 2005                           Interview in Il Giornale   \n",
       "\n",
       "                Member                                               Link  \\\n",
       "0  Jean-Claude Trichet  https://www.ecb.europa.eu/press/inter/date/200...   \n",
       "1         Otmar Issing  https://www.ecb.europa.eu/press/inter/date/200...   \n",
       "2      Lucas Papademos  https://www.ecb.europa.eu/press/inter/date/200...   \n",
       "3  Jean-Claude Trichet  https://www.ecb.europa.eu/press/inter/date/200...   \n",
       "4  Lorenzo Bini Smaghi  https://www.ecb.europa.eu/press/inter/date/200...   \n",
       "\n",
       "             Information                                          Questions  \\\n",
       "0  Information not found  SPIEGEL: Monsieur Trichet, any concrete uttera...   \n",
       "1  Information not found  The new EU member states want to adopt the eur...   \n",
       "2  Information not found  Mr Papademos, you have responsibility as ECB V...   \n",
       "3  Information not found  Paris Match. After two uneventful years at the...   \n",
       "4  Information not found  However, Europe’s politicians, with few except...   \n",
       "\n",
       "                                             Answers  \n",
       "0  The publication of the translation was authori...  \n",
       "1  These questions are all closely related to eac...  \n",
       "2  A comparison of the risks involved when short-...  \n",
       "3  The publication of the translation was authori...  \n",
       "4  By Angelo Allegri, our correspondent in Frankf...  "
      ]
     },
     "execution_count": 3,
     "metadata": {},
     "output_type": "execute_result"
    }
   ],
   "source": [
    "df_copy.head()"
   ]
  },
  {
   "cell_type": "code",
   "execution_count": 4,
   "metadata": {},
   "outputs": [],
   "source": [
    "def preprocess_text(text):\n",
    "    # Remove non-breaking space character '\\xa0' and replace it with a space\n",
    "    text = text.replace('\\xa0', ' ')\n",
    "    return text\n",
    "\n",
    "def uppercase_bold_words(text, word_list):\n",
    "    modified_text = text\n",
    "    for word in word_list:\n",
    "        # Create a regex pattern to match the word\n",
    "        pattern = re.escape(word)\n",
    "        # Use re.sub() to replace all occurrences of the word with its uppercase and bold version\n",
    "        modified_text = re.sub(pattern, lambda match: f\"\\033[1m{match.group().upper()}\\033[0m\", modified_text, flags=re.IGNORECASE)\n",
    "    return modified_text\n",
    "\n",
    "#Maybe try doing bold font and upper to identify easier."
   ]
  },
  {
   "cell_type": "markdown",
   "metadata": {},
   "source": [
    "Mathieu Dictionnary"
   ]
  },
  {
   "cell_type": "markdown",
   "metadata": {},
   "source": [
    "________"
   ]
  },
  {
   "cell_type": "markdown",
   "metadata": {},
   "source": [
    "INTERVIEWS INDEXES\n",
    "\n",
    "DONE :\n",
    "439, 133, 73, 385, 388, 373, 158, 168, 138, 210, 149,  79, 346,  434, 380, 65, 85, 406, 421, 357, 402, 136,  47, 462, 226, 245, 338, 516, 170, 463, 313, 416, 172, 491, 116, 169, 268, 490, 477, 509, 354,\n",
    "\n",
    "TO DO : \n",
    " 262\n",
    "\n",
    "\n",
    "Luis:\n",
    "316 , 343,  352, 266, 444, 264, 454, 290, 281, 207, 282, 400, 295, 345,\n",
    "       296,  83, 129, 499, 482, 153, 303, 451, 213, 187, 339, 449, 318,  390"
   ]
  },
  {
   "cell_type": "code",
   "execution_count": 42,
   "metadata": {},
   "outputs": [
    {
     "data": {
      "text/html": [
       "8 February 2023[end_answer] No, weshould still be concerned a<span style=\"background-color: yel<span style=\"background-color: yellow;\">low</span>;\"><span style=\"background-color: yel<span style=\"background-color: yellow;\">low</span>;\">bout</span></span> <span style=\"background-color: red; color: white;\">inflation</span>. There are indeed some favourable developments which are alleviating the pressure of <span style=\"background-color: red; color: white;\">inflation</span>, including the easing of energy prices you mention. The euro’s appreciation in the foreign exchange markets is also contributing. Moreover, there are fewer pandemic-related supply shortages. However, we see that the reopening of the economy in China after the lockdown is leading to greater demand, for energy, for metals and for commodities. That can generate more price pressures. And wages are rising too.[end_answer] Yes, of course they are. Buta wage-price <span style=\"background-color: yellow;\">spiral</span> must be avoided. Parties in the ongoing wage negotiations are looking back to the <span style=\"background-color: yellow;\">high</span> <span style=\"background-color: red; color: white;\">inflation</span> of the past year. But <span style=\"background-color: red; color: white;\">inflation</span> will abate in the course of the year: we expect an average <span style=\"background-color: red; color: white;\">inflation</span> rate of around 6% this year, with 3.6% in the last quarter. The trade unions may, however, be inclined to ask for excessive pay <span style=\"background-color: yellow;\">rise</span>s. We need to be careful.[end_answer] If we enter into a wage-price <span style=\"background-color: yellow;\">spiral</span>, the ECB will have to raise interest rates by more than would otherwise have been needed. In a wage-price <span style=\"background-color: yellow;\">spiral</span> no one wins. Governments need to offer support to those who are worst affected, by introducing <span style=\"background-color: yel<span style=\"background-color: yellow;\">low</span>;\">target</span>ed subsidies to mitigate the impact of <span style=\"background-color: red; color: white;\">inflation</span>. People could then <span style=\"background-color: yellow;\">reduce</span> their wage demands and the ECB would not have to tighten its monetary policy so much. That would benefit everyone.[end_answer] That’s true. Even if <span style=\"background-color: red; color: white;\">inflation</span> is gradually <span style=\"background-color: yel<span style=\"background-color: yellow;\">low</span>;\">s<span style=\"background-color: yellow;\">low</span></span>ing down, prices are now generally at <span style=\"background-color: yellow;\">high</span>er levels than they were one or one and a half years ago. I understand that people find that disappointing. But this <span style=\"background-color: red; color: white;\">inflation</span> was caused by extraordinary shocks: the sudden reopening of the economy after the pandemic and the war against Ukraine. The ECB now has to ensure that <span style=\"background-color: red; color: white;\">inflation</span> returns to our 2% <span style=\"background-color: yel<span style=\"background-color: yellow;\">low</span>;\">target</span>.[end_answer] Central banks and many other organisations believed for a long time that the <span style=\"background-color: yellow;\">increase</span> in <span style=\"background-color: red; color: white;\">inflation</span> was temporary. I have to admit: that was a mistake, but the level of uncertainty was enormous. We all underestimated the persistence of <span style=\"background-color: red; color: white;\">inflation</span>. In December 2021 we already decided to stop our pandemic-related net asset purchases and in July of the fol<span style=\"background-color: yellow;\">low</span>ing year we started to raise interest rates. With the benefit of hindsight, we should have started reacting even sooner.[end_answer] We can’t change the past, we need to look towards the future. The <span style=\"background-color: yel<span style=\"background-color: yellow;\">low</span>;\">best</span> thing we can do is to bring <span style=\"background-color: red; color: white;\">inflation</span> back down to our <span style=\"background-color: yel<span style=\"background-color: yellow;\">low</span>;\">target</span> of 2% as soon as possible.[end_answer] Surveys show that most people trust us to be able to bring <span style=\"background-color: red; color: white;\">inflation</span> back down to 2%. That emerges clearly from measurable <span style=\"background-color: red; color: white;\">inflation</span> expectations: households and firms expect <span style=\"background-color: red; color: white;\">inflation</span> to <span style=\"background-color: yellow;\">fall</span> back again soon.[end_answer] Financial markets may well be overly optimistic with regard to <span style=\"background-color: red; color: white;\">inflation</span> developments and our monetary policy response.[end_answer] We <span style=\"background-color: yellow;\">increase</span>d our policy rates by 0.5 percentage points last week, and will very likely raise them by another 0.5 percentage points at our next meeting in March. We will then see what we will do. I would not rule out further rate <span style=\"background-color: yellow;\">hike</span>s after March.The battle against <span style=\"background-color: red; color: white;\">inflation</span> is not over yet. In the euro area consumer prices still <span style=\"background-color: yellow;\">increase</span>d by 8.5% in January (considering an estimate for Germany), despite the <span style=\"background-color: yellow;\">fall</span>-off in energy prices. At 5.2%, core <span style=\"background-color: red; color: white;\">inflation</span>, which excludes energy and food prices, is at its <span style=\"background-color: yellow;\">high</span>est level in the history of the monetary union. That is not good.[end_answer] Our mandate is to maintain price stability. That’s it. That’s the only mandate we have. High <span style=\"background-color: red; color: white;\">inflation</span> harms everyone in society.[end_answer] Our interest rate policy takes one to two years to have an impact. But we are already seeing its initial effects: borrowing costs for households and businesses are rising, for example, and this is weakening demand for loans. In turn, that is helping to cool the economy and is leading to <span style=\"background-color: yellow;\">low</span>er price <span style=\"background-color: yellow;\">increase</span>s.[end_answer] We don’t comment on individual companies. Leaving that aside, European banks have proven to be very robust on average. Their profit margins shot up recently, making them more resilient, partly due to <span style=\"background-color: yellow;\">high</span>er interest rates. On the other hand, the current economic <span style=\"background-color: yel<span style=\"background-color: yellow;\">low</span>;\">s<span style=\"background-color: yellow;\">low</span></span>down could also have consequences. We are of course keeping a close eye on the non-bank financial sector, or shadow banks. Two years ago, for example, the difficulties at the private investment firm Archegos caused several banks to suffer major losses. We need to closely monitor risks like this. More generally,we basically see two main risks for financial stability in the euro area. For one thing an overoptimism in the financial markets a<span style=\"background-color: yel<span style=\"background-color: yellow;\">low</span>;\"><span style=\"background-color: yel<span style=\"background-color: yellow;\">low</span>;\">bout</span></span> the <span style=\"background-color: red; color: white;\">inflation</span> outlook and the monetary policy response, and for another a possible contradiction in the direction of fiscal and monetary policies."
      ],
      "text/plain": [
       "<IPython.core.display.HTML object>"
      ]
     },
     "metadata": {},
     "output_type": "display_data"
    }
   ],
   "source": [
    "import pandas as pd\n",
    "from IPython.display import display, HTML\n",
    "\n",
    "\n",
    "# List of words to highlight\n",
    "paper_words = ['ignite', 'fuel', 'spark', 'dampen', 'stoke', 'kindle', 'choke',\n",
    "               'stifle', 'fan', 'flare-up', 'douse', 'snuff', 'erode', 'surge',\n",
    "               'subside', 'simmers', 'emergence', 'ebb', 'dilute', 'spurt', 'recede',\n",
    "               'buoy', 'hedge', 'nip', 'soar', 'runaway', 'rampant', 'curb', 'tame', 'rein',\n",
    "               'spur', 'creep', 'whip', 'gallop', 'halt', 'roar', 'hover', 'curtail', 'spawn',\n",
    "               'gnaw', 'hibernation', 'plague', 'worsen', 'benign', 'virulent', 'debilitate', \n",
    "               'bout', 'chronically', 'threat', 'subdue', 'target', 'beat', 'preempt', 'vigilant',\n",
    "               'ravage', 'undermine', 'forestall', 'counteract', 'eliminate', 'ferocious',\n",
    "               'ruinous', 'clobber', 'buster', 'eradicate', 'besieged', 'thwart', 'bash',\n",
    "               'beset', 'pace', 'outstrip', 'lag', 'surpass', 'quicken', 'outrun',\n",
    "               'bout', 'best', 'tug-of-war', 'zip', 'overtake', 'accelerate', 'faster',\n",
    "               'control', 'slow', 'trigger', 'skyrocket', 'rapid', 'heat', 'escalate',\n",
    "               'decelerate', 'ratchet', 'unchecked', 'readjusted', 'chug', 'damper',\n",
    "               'zoom', 'low', 'rise', 'high', 'increase', 'reduce', 'decline', 'fall',\n",
    "               'exceed', 'spiral', 'hyper', 'upward', 'uptick', 'downward', 'boost', 'peak',\n",
    "               'diminish', 'upturn', 'hike', 'plummet', 'upswing', 'inflation','deflation']\n",
    "\n",
    "def highlight_words(text, words_to_highlight):\n",
    "    highlighted_text = text\n",
    "    for word in words_to_highlight:\n",
    "        if word == 'inflation' or word == 'deflation':\n",
    "            highlighted_text = highlighted_text.replace(word, f'<span style=\"background-color: red; color: white;\">{word}</span>')\n",
    "        else:\n",
    "            highlighted_text = highlighted_text.replace(word, f'<span style=\"background-color: yellow;\">{word}</span>')\n",
    "    return highlighted_text\n",
    "\n",
    "# Function to highlight and display text by index\n",
    "def display_highlighted_text(df, index, words_to_highlight):\n",
    "    text = df.at[index, 'Answers']\n",
    "    highlighted_text = highlight_words(text, words_to_highlight)\n",
    "    display(HTML(highlighted_text))\n",
    "\n",
    "# Specify the index of the text to highlight\n",
    "index_to_highlight = 507  # Change this index to the specific text you want to highlight\n",
    "display_highlighted_text(df, index_to_highlight, paper_words)"
   ]
  },
  {
   "cell_type": "code",
   "execution_count": 43,
   "metadata": {},
   "outputs": [
    {
     "data": {
      "text/html": [
       "<div>\n",
       "<style scoped>\n",
       "    .dataframe tbody tr th:only-of-type {\n",
       "        vertical-align: middle;\n",
       "    }\n",
       "\n",
       "    .dataframe tbody tr th {\n",
       "        vertical-align: top;\n",
       "    }\n",
       "\n",
       "    .dataframe thead th {\n",
       "        text-align: right;\n",
       "    }\n",
       "</style>\n",
       "<table border=\"1\" class=\"dataframe\">\n",
       "  <thead>\n",
       "    <tr style=\"text-align: right;\">\n",
       "      <th></th>\n",
       "      <th>Date</th>\n",
       "      <th>Media</th>\n",
       "      <th>Member</th>\n",
       "      <th>Link</th>\n",
       "      <th>Information</th>\n",
       "      <th>Questions</th>\n",
       "      <th>Answers</th>\n",
       "      <th>Metaphors</th>\n",
       "    </tr>\n",
       "  </thead>\n",
       "  <tbody>\n",
       "    <tr>\n",
       "      <th>507</th>\n",
       "      <td>8 February 2023</td>\n",
       "      <td>Interview with Süddeutsche Zeitung</td>\n",
       "      <td>Luis de Guindos</td>\n",
       "      <td>https://www.ecb.europa.eu/press/inter/date/202...</td>\n",
       "      <td>Interview with Luis de Guindos, Vice-President...</td>\n",
       "      <td>Mr de Guindos, energy prices have fallen recen...</td>\n",
       "      <td>8 February 2023[end_answer] No, weshould still...</td>\n",
       "      <td>[concerned alow;\"&gt;low;\"&gt;bout inflation, pressu...</td>\n",
       "    </tr>\n",
       "  </tbody>\n",
       "</table>\n",
       "</div>"
      ],
      "text/plain": [
       "                Date                               Media           Member  \\\n",
       "507  8 February 2023  Interview with Süddeutsche Zeitung  Luis de Guindos   \n",
       "\n",
       "                                                  Link  \\\n",
       "507  https://www.ecb.europa.eu/press/inter/date/202...   \n",
       "\n",
       "                                           Information  \\\n",
       "507  Interview with Luis de Guindos, Vice-President...   \n",
       "\n",
       "                                             Questions  \\\n",
       "507  Mr de Guindos, energy prices have fallen recen...   \n",
       "\n",
       "                                               Answers  \\\n",
       "507  8 February 2023[end_answer] No, weshould still...   \n",
       "\n",
       "                                             Metaphors  \n",
       "507  [concerned alow;\">low;\">bout inflation, pressu...  "
      ]
     },
     "execution_count": 43,
     "metadata": {},
     "output_type": "execute_result"
    }
   ],
   "source": [
    "# Add 'Metaphors' column to DataFrame if it does not exist\n",
    "if 'Metaphors' not in df.columns:\n",
    "    df['Metaphors'] = [[] for _ in range(len(df))]\n",
    "\n",
    "# Manually specify the metaphors for the selected text index\n",
    "metaphors_to_add = ['concerned alow;\">low;\">bout inflation', 'pressure of inflation', 'high inflation', 'inflation will abate', 'mitigate the impact of inflation',\n",
    "                    'inflation is gradually low;\">slowing down', 'ensure that inflation returns', 'increase in inflation', 'persistence of inflation',\n",
    "                    'bring inflation back down', 'bring inflation back down', 'inflation to fall back', 'battle against inflation', 'High inflation harms']\n",
    "\n",
    "# Add the metaphors to the specified text index\n",
    "df.at[index_to_highlight, 'Metaphors'] = metaphors_to_add\n",
    "\n",
    "# Display the DataFrame with the added metaphors\n",
    "df.loc[[index_to_highlight]]"
   ]
  },
  {
   "cell_type": "code",
   "execution_count": 34,
   "metadata": {},
   "outputs": [],
   "source": [
    "# Save df_copy to a new CSV file \"data_complete_with_metaphors_mathieu.csv\"\n",
    "df.to_csv(workingdir + '/data_complete_with_metaphors_mathieu.csv', index=False)"
   ]
  },
  {
   "cell_type": "markdown",
   "metadata": {},
   "source": [
    "#### Some observations: \n",
    "- 'imported inflation'\n",
    "- many times it appears the 'low;\">tame' symbol for the low target and that messes up our identificator\n",
    "- inflation as something on a determined path ('steer inflation', 'convergance to aim', etc.)\n",
    "- bring inflation back down"
   ]
  }
 ],
 "metadata": {
  "kernelspec": {
   "display_name": "NeuralNet_Env",
   "language": "python",
   "name": "python3"
  },
  "language_info": {
   "codemirror_mode": {
    "name": "ipython",
    "version": 3
   },
   "file_extension": ".py",
   "mimetype": "text/x-python",
   "name": "python",
   "nbconvert_exporter": "python",
   "pygments_lexer": "ipython3",
   "version": "3.10.13"
  }
 },
 "nbformat": 4,
 "nbformat_minor": 2
}
