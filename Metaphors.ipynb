{
 "cells": [
  {
   "cell_type": "code",
   "execution_count": 1,
   "metadata": {},
   "outputs": [],
   "source": [
    "# Libraries\n",
    "import numpy as np\n",
    "import matplotlib.pyplot as plt\n",
    "import pandas as pd\n",
    "import seaborn as sns\n",
    "import os\n",
    "import aux_functions \n",
    "import re"
   ]
  },
  {
   "cell_type": "code",
   "execution_count": 2,
   "metadata": {},
   "outputs": [],
   "source": [
    "workingdir = os.getcwd()\n",
    "# read cleaned_data.csv file\n",
    "df = pd.read_csv(workingdir + '/data_complete.csv')\n",
    "\n",
    "#copy the dataset for later verifications\n",
    "df_copy = df.copy()\n",
    "df_copy.reset_index(drop=True, inplace=True)"
   ]
  },
  {
   "cell_type": "code",
   "execution_count": 3,
   "metadata": {},
   "outputs": [
    {
     "data": {
      "text/html": [
       "<div>\n",
       "<style scoped>\n",
       "    .dataframe tbody tr th:only-of-type {\n",
       "        vertical-align: middle;\n",
       "    }\n",
       "\n",
       "    .dataframe tbody tr th {\n",
       "        vertical-align: top;\n",
       "    }\n",
       "\n",
       "    .dataframe thead th {\n",
       "        text-align: right;\n",
       "    }\n",
       "</style>\n",
       "<table border=\"1\" class=\"dataframe\">\n",
       "  <thead>\n",
       "    <tr style=\"text-align: right;\">\n",
       "      <th></th>\n",
       "      <th>Date</th>\n",
       "      <th>Media</th>\n",
       "      <th>Member</th>\n",
       "      <th>Link</th>\n",
       "      <th>Information</th>\n",
       "      <th>Questions</th>\n",
       "      <th>Answers</th>\n",
       "    </tr>\n",
       "  </thead>\n",
       "  <tbody>\n",
       "    <tr>\n",
       "      <th>0</th>\n",
       "      <td>23 December 2005</td>\n",
       "      <td>Interview with Der Spiegel</td>\n",
       "      <td>Jean-Claude Trichet</td>\n",
       "      <td>https://www.ecb.europa.eu/press/inter/date/200...</td>\n",
       "      <td>Information not found</td>\n",
       "      <td>SPIEGEL: Monsieur Trichet, any concrete uttera...</td>\n",
       "      <td>The publication of the translation was authori...</td>\n",
       "    </tr>\n",
       "    <tr>\n",
       "      <th>1</th>\n",
       "      <td>19 December 2005</td>\n",
       "      <td>Interview with Hospodářské Noviny</td>\n",
       "      <td>Otmar Issing</td>\n",
       "      <td>https://www.ecb.europa.eu/press/inter/date/200...</td>\n",
       "      <td>Information not found</td>\n",
       "      <td>The new EU member states want to adopt the eur...</td>\n",
       "      <td>These questions are all closely related to eac...</td>\n",
       "    </tr>\n",
       "    <tr>\n",
       "      <th>2</th>\n",
       "      <td>19 December 2005</td>\n",
       "      <td>Interview with Financial Times and Financial T...</td>\n",
       "      <td>Lucas Papademos</td>\n",
       "      <td>https://www.ecb.europa.eu/press/inter/date/200...</td>\n",
       "      <td>Information not found</td>\n",
       "      <td>Mr Papademos, you have responsibility as ECB V...</td>\n",
       "      <td>A comparison of the risks involved when short-...</td>\n",
       "    </tr>\n",
       "    <tr>\n",
       "      <th>3</th>\n",
       "      <td>15 December 2005</td>\n",
       "      <td>Interview with Paris Match</td>\n",
       "      <td>Jean-Claude Trichet</td>\n",
       "      <td>https://www.ecb.europa.eu/press/inter/date/200...</td>\n",
       "      <td>Information not found</td>\n",
       "      <td>Paris Match. After two uneventful years at the...</td>\n",
       "      <td>The publication of the translation was authori...</td>\n",
       "    </tr>\n",
       "    <tr>\n",
       "      <th>4</th>\n",
       "      <td>9 December 2005</td>\n",
       "      <td>Interview in Il Giornale</td>\n",
       "      <td>Lorenzo Bini Smaghi</td>\n",
       "      <td>https://www.ecb.europa.eu/press/inter/date/200...</td>\n",
       "      <td>Information not found</td>\n",
       "      <td>However, Europe’s politicians, with few except...</td>\n",
       "      <td>By Angelo Allegri, our correspondent in Frankf...</td>\n",
       "    </tr>\n",
       "  </tbody>\n",
       "</table>\n",
       "</div>"
      ],
      "text/plain": [
       "               Date                                              Media  \\\n",
       "0  23 December 2005                         Interview with Der Spiegel   \n",
       "1  19 December 2005                  Interview with Hospodářské Noviny   \n",
       "2  19 December 2005  Interview with Financial Times and Financial T...   \n",
       "3  15 December 2005                         Interview with Paris Match   \n",
       "4   9 December 2005                           Interview in Il Giornale   \n",
       "\n",
       "                Member                                               Link  \\\n",
       "0  Jean-Claude Trichet  https://www.ecb.europa.eu/press/inter/date/200...   \n",
       "1         Otmar Issing  https://www.ecb.europa.eu/press/inter/date/200...   \n",
       "2      Lucas Papademos  https://www.ecb.europa.eu/press/inter/date/200...   \n",
       "3  Jean-Claude Trichet  https://www.ecb.europa.eu/press/inter/date/200...   \n",
       "4  Lorenzo Bini Smaghi  https://www.ecb.europa.eu/press/inter/date/200...   \n",
       "\n",
       "             Information                                          Questions  \\\n",
       "0  Information not found  SPIEGEL: Monsieur Trichet, any concrete uttera...   \n",
       "1  Information not found  The new EU member states want to adopt the eur...   \n",
       "2  Information not found  Mr Papademos, you have responsibility as ECB V...   \n",
       "3  Information not found  Paris Match. After two uneventful years at the...   \n",
       "4  Information not found  However, Europe’s politicians, with few except...   \n",
       "\n",
       "                                             Answers  \n",
       "0  The publication of the translation was authori...  \n",
       "1  These questions are all closely related to eac...  \n",
       "2  A comparison of the risks involved when short-...  \n",
       "3  The publication of the translation was authori...  \n",
       "4  By Angelo Allegri, our correspondent in Frankf...  "
      ]
     },
     "execution_count": 3,
     "metadata": {},
     "output_type": "execute_result"
    }
   ],
   "source": [
    "df_copy.head()"
   ]
  },
  {
   "cell_type": "code",
   "execution_count": 3,
   "metadata": {},
   "outputs": [],
   "source": [
    "def preprocess_text(text):\n",
    "    # Remove non-breaking space character '\\xa0' and replace it with a space\n",
    "    text = text.replace('\\xa0', ' ')\n",
    "    return text\n",
    "\n",
    "def uppercase_bold_words(text, word_list):\n",
    "    modified_text = text\n",
    "    for word in word_list:\n",
    "        # Create a regex pattern to match the word\n",
    "        pattern = re.escape(word)\n",
    "        # Use re.sub() to replace all occurrences of the word with its uppercase and bold version\n",
    "        modified_text = re.sub(pattern, lambda match: f\"\\033[1m{match.group().upper()}\\033[0m\", modified_text, flags=re.IGNORECASE)\n",
    "    return modified_text\n",
    "\n",
    "#Maybe try doing bold font and upper to identify easier."
   ]
  },
  {
   "cell_type": "code",
   "execution_count": 4,
   "metadata": {},
   "outputs": [
    {
     "name": "stdout",
     "output_type": "stream",
     "text": [
      "The publication of the translation was autho\u001b[1mRISE\u001b[0md by Der Spiegel.[end_answer] Trichet: (laughs) Of course, the “porte-parole” of the ECB, as well as all members of our decision-making bodies, must be aware that their statements can be hugely significant for large numbers of people. The euro area has 311 million citizens, after all. And when I say something in the SPIEGEL, I’m virtually s\u001b[1mPEAK\u001b[0ming to more than 80 million Germans. But that sort of thing imposes a heavy responsibility not only on us, but also on all those persons who have important responsibilities…[end_answer] It is the contrary! We have to give clear positions and clear answers not only to 311 million fel\u001b[1mLOW\u001b[0m citizens but to the European and global investors and savers.[end_answer] As regards future monetary policy I reiterate what I said on behalf of the Governing Council fol\u001b[1mLOW\u001b[0ming our most recent decision: “We did not decide “ex ante” to engage in a series of interest rate \u001b[1mINCREASE\u001b[0ms. We will in the future take the decisions that will be necessary to deliver price stability, to be credible in delivering price stability over time and to preserve the solid anchoring of \u001b[1mINFLATION\u001b[0mary expectations at levels consistent with price stability”. This is the Governing Council’s position.[end_answer] Again. It is the position of the Governing Council. I think it is pretty well understood both by the people of Europe and by market participants.[end_answer] I’m firmly convinced that the two go well together. Price stability is a prerequisite, a necessary condition, for sustainable growth and job creation. Stable prices protect purchasing power, \u001b[1mINCREASE\u001b[0m trust and consumer confidence, consolidate \u001b[1mLOW\u001b[0m medium and long term market interest rates, and foster investment. All this is good for growth and job creation.[end_answer] When we started out, we had to promise twelve nations that the new currency would be at least as good as their old ones. So the euro had to be at least as good as the \u001b[1mBEST\u001b[0m currency of all. At that time there were a few ‘\u001b[1mBEST\u001b[0m’ currencies, one of which was the Deutschmark. We’ve kept that promise. It is a great success to be able to tell, today, to German journalists that, thanks to our long term credibility, our long term market interest rates are at their \u001b[1mLOW\u001b[0mest ever level since the establishment of the Bundesbank. I am proud that the euro is as trustworthy as the DM was.[end_answer] I think we are well understood by the people of Europe. Our fel\u001b[1mLOW\u001b[0m citizens are very keen on having price stability. They understand that it is better to prevent than to cure. This applies in particular to second-round effects.[end_answer] This is a risk which in turn would affect \u001b[1mINFLATION\u001b[0m permanently in the future. If we waited until such effects materialised before making our decisions, it would already be too late. That is why preventing such effects is always better than having to rectify them later.[end_answer] No, on the contrary. Our decision, by stabilising \u001b[1mINFLATION\u001b[0mary expectations, preserves a financial environment which is favourable to sustainable growth and job creation. But monetary policy cannot solve all problems by itself. We also need bold structural reforms to elevate our growth potential.[end_answer] All in all, both the economy and society as a whole must be al\u001b[1mLOW\u001b[0med – and indeed required to show - greater capacity to adapt to changes, greater flexibility. For the industrialised countries the three main challenges that are calling for permanent adaptation are the ageing population, globalisation and the development of science and technology. All three, incidentally, are the result of \u001b[1mFAN\u001b[0mtastic successes.[end_answer] The fact, that lifetime expectancies are becoming longer and longer, demonstrates the enormous medical advances that have been made. Globalisation shows that market economies have been adopted all over the world and has already led to \u001b[1mFAN\u001b[0mtastic advancements in what we used to call the Third World a few years ago. The successes of cutting-edge science and technologies s\u001b[1mPEAK\u001b[0m for themselves. Each of these successes, precisely because it is very significant, is calling our societies to change ….[end_answer] That’s right. We are profoundly transforming ourselves, we Europeans, both economically and politically. That’s the fourth challenge. And the fifth is the steady widening of our borders, the phenomenon of enlargement. Like the others those two additional challenges are stemming from the success of the concept of European Union itself.[end_answer] I don’t think so. In any case, the Soviet Union has collapsed, partly because of the success of Western Europe, and history does not wait. We must tirelessly explain to the people of Europe, particularly in the founding fathers’ countries, like Germany, or Italy, or Benelux countries, or France, that the area at stake now is far, far larger than that of Charlemagne![end_answer] We are part of an historical process. And it is up to the people of Europe themselves to decide where their borders lie.[end_answer] Nothing is easy. That is clear. And we call for rigorous implementation of the Stability and Growth Pact. But the Brussels budget has just been solved by the last European Council. And Europe is in a period of maturing from the political standpoint. The ECB for its part is preserving confidence in the currency and preparing as professionally as possible the future enlargement of the euro area.[end_answer] And perhaps it tends to attach too much importance to the difficulties. At the same time, it underestimates the things that your country has already achieved. Of course, reunification was a huge task. But a great deal of positive progress has been made with it. Since the launching of the euro, moreover, the cost competitiveness of the German economy has improved significantly compared with the EU average. This is shown, not least, in the export figures. So there’s no reason why this improved economic situation would not at a certain moment materialise also in domestic demand and particularly in consumption.[end_answer] It’s human nature to have fears when confronted with difficult tasks. But perhaps this, in the present German culture, leads to a kind of ‘angst’ that goes beyond what would be justified![end_answer] I take note of the VAT measure as a cross-party agreement that we have already incorporated in our own medium-term projections.[end_answer] You have to find a path between these two extremes. The optimism in the USA is systematic. There the glass is always half-full, while in the euro area and present German culture it is always half-empty. The fact is that our glass is both half-full and half-empty! We still have a massive amount of homework to do. But it can be done, because we already proved that we could. We Europeans simply have to believe in ourselves more.[end_answer] There are two contrary trends. Firstly, the USA is \u001b[1mHIGH\u001b[0mly flexible, which makes it more adaptable and more resilient. It is a very important asset of the US. They have also a big liability: a very \u001b[1mLOW\u001b[0m savings ratio, which leads to a big external deficit. On this side of the Atlantic, our problem is the reverse: much less flexibility in the economy which does not permit to take advantage of today’s opportunities, and, on the other hand a satisfactory level of savings ratio. Fortunately there is a consensus that both sides will have to tackle their respective weaknesses. Unfortunately, though, the two are not yet doing this comprehensively, actively and efficiently enough?[end_answer] First of all, China’s story proves the success of market economics. Many people have already forgotten that not long ago, it still had a fully planned economy which was totally inefficient. Since the Second World War, furthermore, our goal has been for China, India and a number of other very poor countries to catch up with us gradually.[end_answer] That’s why I’m also saying that the speed of the changes in China and India is also a challenge – for our society and for the rest of the world, because it is very profoundly and \u001b[1mRAPID\u001b[0mly changing the structure of the global economy. But we have to confront this task too. We don’t have any choice.[end_answer] That, together with the call that we use the successes of the past 50 years to derive enough energy for the future, so that we take all the opportunities that the world is now offering us. That’s certainly not simple, but it will be worthwhile. Imagine yourself now telling the founding fathers of Europe that well, we’re now 25 nations in the European Union with 459 million people and a parliament elected jointly by all the people of those countries. That we have a Court of Justice, which creates jurisprudence all over the Union and that we have a single currency for 311 million people! Jean Monnet would without a doubt be totally amazed! We have still a lot to do but in a historical perspective there is a lot to be proud of.[end_answer] Well, at least it’s extraordinarily helpful. The structure of a language also reveals patterns of argument. It’s no coincidence that numerous great philosophers are Germans. Their language is well suited to profound thoughts. As a language it is certainly suited to personal reflection and meditation, perhaps over and above than simple communication.[end_answer] Trichet: (laughs) No, certainly not, and neither will ‘nightmare’.\n"
     ]
    }
   ],
   "source": [
    "paper_words = ['ignite','fuel','spark','dampen','stoke','kindle','choke',\n",
    "               'stifle','fan','flare-up','flare-up','douse','snuff','erode','surge',\n",
    "               'subside','simmers','emergence','ebb','dilute','spurt','recede',\n",
    "               'buoy','hedge','nip', 'soar', 'runaway', 'rampant', 'curb', 'tame', 'rein',\n",
    "               'spur', 'creep', 'whip', 'gallop', 'halt', 'roar', 'hover', 'curtail', 'spawn',\n",
    "               'gnaw', 'hibernation', 'plague', 'worsen', 'benign', 'virulent', 'debilitate', \n",
    "               'bout', 'chronically', 'threat', 'subdue', 'target', 'beat', 'preempt', 'vigilant',\n",
    "               'ravage', 'undermine', 'forestall', 'counteract', 'eliminate', 'ferocious',\n",
    "               'ruinous', 'clobber', 'buster', 'eradicate', 'besieged', 'thwart', 'bash',\n",
    "               'beset', 'pace', 'outstrip', 'lag', 'surpass', 'quicken', 'outrun',\n",
    "               'bout', 'best', 'tug-of-war', 'zip', 'overtake', 'accelerate', 'faster',\n",
    "               'control', 'slow', 'trigger', 'skyrocket', 'rapid', 'heat', 'escalate',\n",
    "               'decelerate', 'ratchet', 'unchecked', 'readjusted', 'chug', 'damper',\n",
    "               'zoom', 'low', 'rise', 'high', 'increase', 'reduce', 'decline', 'fall',\n",
    "               'exceed', 'spiral', 'hyper', 'upward', 'uptick', 'downward', 'boost', 'peak',\n",
    "               'diminish', 'upturn', 'hike', 'plummet', 'upswing' ,'inflation']\n",
    "\n",
    "metaphors = [['inflation is fading', 'bringing inflation down', 'anchored INFLATION expectations','peak of transmission','wins of disinflation','last mile of disinflation','slowdown in the disinflationary process','INFLATION will remain sticky','DAMPENing the growth','INFLATION can flare up again','SURGE in European INFLATION','INFLATIONary pressures','INFLATION is at target','INFLATION proves sticky','INFLATION may be more persistent','tool to manage INFLATION','INFLATION was falling','real threat is too high INFLATION and not too low INFLATION'],\n",
    "             ['bring INFLATION back down'],\n",
    "             ['fight against INFLATION','fighting INFLATION','INFLATION abates','pushes INFLATION higher','INFLATION has fallen'],\n",
    "             [],\n",
    "             ['cool down INFLATION','easing of core INFLATION','SURGE in INFLATION','high INFLATION episodes','INFLATION wave'],\n",
    "             ['INFLATION reacceleration','Red Sea on INFLATION','INFLATION has eased','counter-act INFLATION','']]\n",
    "\n",
    "print(uppercase_bold_words(preprocess_text(df_copy['Answers'][0]),paper_words))"
   ]
  },
  {
   "cell_type": "markdown",
   "metadata": {},
   "source": [
    "Mathieu Dictionnary"
   ]
  },
  {
   "cell_type": "code",
   "execution_count": 5,
   "metadata": {},
   "outputs": [],
   "source": [
    "paper_words = ['ignite','fuel','spark','dampen','stoke','kindle','choke',\n",
    "               'stifle','fan','flare-up','flare-up','douse','snuff','erode','surge',\n",
    "               'subside','simmers','emergence','ebb','dilute','spurt','recede',\n",
    "               'buoy','hedge','nip', 'soar', 'runaway', 'rampant', 'curb', 'tame', 'rein',\n",
    "               'spur', 'creep', 'whip', 'gallop', 'halt', 'roar', 'hover', 'curtail', 'spawn',\n",
    "               'gnaw', 'hibernation', 'plague', 'worsen', 'benign', 'virulent', 'debilitate', \n",
    "               'bout', 'chronically', 'threat', 'subdue', 'target', 'beat', 'preempt', 'vigilant',\n",
    "               'ravage', 'undermine', 'forestall', 'counteract', 'eliminate', 'ferocious',\n",
    "               'ruinous', 'clobber', 'buster', 'eradicate', 'besieged', 'thwart', 'bash',\n",
    "               'beset', 'pace', 'outstrip', 'lag', 'surpass', 'quicken', 'outrun',\n",
    "               'bout', 'best', 'tug-of-war', 'zip', 'overtake', 'accelerate', 'faster',\n",
    "               'control', 'slow', 'trigger', 'skyrocket', 'rapid', 'heat', 'escalate',\n",
    "               'decelerate', 'ratchet', 'unchecked', 'readjusted', 'chug', 'damper',\n",
    "               'zoom', 'low', 'rise', 'high', 'increase', 'reduce', 'decline', 'fall',\n",
    "               'exceed', 'spiral', 'hyper', 'upward', 'uptick', 'downward', 'boost', 'peak',\n",
    "               'diminish', 'upturn', 'hike', 'plummet', 'upswing' ,'inflation']"
   ]
  },
  {
   "cell_type": "markdown",
   "metadata": {},
   "source": [
    "________"
   ]
  },
  {
   "cell_type": "markdown",
   "metadata": {},
   "source": [
    "INTERVIEWS INDEXES\n",
    "\n",
    "DONE :\n",
    "439, 133, 73, 385, 388, 373, 158, 168, 138, 210, 149,  79, 346,  434, 380, 65, 85, 406, 421, 357, 402, 136,  47, 462, 226, 245, 338, 516, 170, 463, 313, 416, 172, 491, 116, 169, 268, 490, 477, 509, 354,\n",
    "\n",
    "TO DO : \n",
    " 262\n",
    "\n",
    "\n",
    "Luis:\n",
    "316 , 343,  352, 266, 444, 264, 454, 290, 281, 207, 282, 400, 295, 345,\n",
    "       296,  83, 129, 499, 482, 153, 303, 451, 213, 187, 339, 449, 318,  390"
   ]
  },
  {
   "cell_type": "code",
   "execution_count": 33,
   "metadata": {},
   "outputs": [
    {
     "data": {
      "text/html": [
       "1 September 2021[end_answer] These three years have been extremely interesting, and they have been marked, above all else, by the pandemic – an extraordinary event that has <span style=\"background-color: yel<span style=\"background-color: yellow;\">low</span>;\">spark</span>ed an enormous health crisis. It had an extremely severe economic impact in a short s<span style=\"background-color: yel<span style=\"background-color: yellow;\">low</span>;\">pace</span> of time, which required an unp<span style=\"background-color: yel<span style=\"background-color: yellow;\">low</span>;\">recede</span>nted economic and monetary policy response. The next 18 to 24 months will be defined by attempts to leave the economic consequences of the pandemic behind us and to minimise its structural impact. That will be the main objective.[end_answer] Some of the short-term impact has been successfully mitigated, but the pandemic will have had structural effects on the European and world economies. The fiscal effects will be the most apparent, with the euro area’s average debt-to-GDP ratio 20 percentage points <span style=\"background-color: yellow;\">high</span>er and more pronounced structural deficits. There is also other scarring, which could be structural, in the job market, as well as greater inequality between advanced and emerging economies. The pandemic has had a greater impact on small and medium-sized enterp<span style=\"background-color: yellow;\">rise</span>s, <span style=\"background-color: yellow;\">low</span>-income workers and women.[end_answer] I was talking a<span style=\"background-color: yel<span style=\"background-color: yellow;\">low</span>;\"><span style=\"background-color: yel<span style=\"background-color: yellow;\">low</span>;\">bout</span></span> the medium term in what I just said. The ECB’s primary response to the crisis consisted of action in three different areas. The first focused on liquidity, through the <span style=\"background-color: yel<span style=\"background-color: yellow;\">low</span>;\">target</span>ed longer-term refinancing operations, or TLTROs, supporting banks’ credit provision to households and firms. The second focused on asset purchases through our emergency [purchase] programme. And the third focused on changes in the field of banking supervision to enable banks to free up capital and <span style=\"background-color: yellow;\">increase</span> their lending capacity. These measures were crucial to averting a debt crisis. Bond market fragmentation has been avoided, and we have ensured that financing conditions remain favourable. Future monetary policy decisions will essentially depend on how the economy and <span style=\"background-color: red; color: white;\">inflation</span> develop in the coming months.[end_answer] The monetary policy measures were intended to limit the impact of the pandemic on the economy, maintain favourable financing conditions and ensure we met our <span style=\"background-color: red; color: white;\">inflation</span> <span style=\"background-color: yel<span style=\"background-color: yellow;\">low</span>;\">target</span>. Looking at the European economy, you can see that the recovery was very strong in the second quarter, and we believe it will continue to be fairly strong in the third and fourth quarters. Our emergency [purchase] programme is linked to the pandemic and its economic consequences. But one thing is clear: recent data are very positive. The European economy will be able to recover its pre-pandemic income levels by the end of this year or the beginning of next year. We will have new projections in the coming days and will take our decisions accordingly. In September we will also have to decide on the volume of purchases for the last quarter of this year. If <span style=\"background-color: red; color: white;\">inflation</span> and the economy recover, then there will logically be a gradual normalisation of monetary policy, and of fiscal policy too.[end_answer] It is a nuanced issue – we are talking a<span style=\"background-color: yel<span style=\"background-color: yellow;\">low</span>;\"><span style=\"background-color: yel<span style=\"background-color: yellow;\">low</span>;\">bout</span></span> just a few months. The economy is performing better in 2021 than we expected, and this will be reflected in the projections that will be published in the coming days. The leading indicators are positive, and in the coming days we will see the actual figures. The main uncertainty was the impact the Delta variant would have. What we are seeing is that it is not having as great an impact as we projected four months ago. This is mainly because governments have responded with fewer restrictions on economic activity than we had anticipated.[end_answer] The Spanish economy shrunk by 10.8% in 2020, more than any other euro area economy. So it should logically experience a stronger-than-average recovery. A country’s economic development during the pandemic should be assessed in terms of when it recovers its previous income levels.[end_answer] Inflation will continue to pick up in 2021. Our baseline scenario is that it will <span style=\"background-color: yellow;\">fall</span> back in 2022. We have to check that there are no second-round effects, because that would mean this temporary impact would become structural.[end_answer] In terms of fiscal policy, governments acted in a very similar manner. First, they provided public guarantees, so credit continued to f<span style=\"background-color: yellow;\">low</span>. Second, they granted moratoria, which have also had a positive impact. And third, the temporary layoff schemes that have been introduced in various countries have also been very effective. These measures have taken the sting out of the crisis, the impact of which has been greater on GDP than on employment. In Europe, GDP fell by 7%, but employment by just 2%. However, if we look at the figures for hours worked, the <span style=\"background-color: yellow;\">fall</span> was greater.[end_answer] The measures were appropriate. The <span style=\"background-color: yellow;\">rise</span> in the debt-to-GDP ratio was inevitable. Significant action was needed in the realm of fiscal policy. The alternative would have been worse. And at the European level, this time there was a response that stood out: Next Generation EU. European funds, if used well, will be crucial to the recovery.[end_answer] The premature withdrawal of stimulus should be avoided given that the economic situation is still fragile. Some measures are being gradually withdrawn, such as temporary layoff schemes, debt moratoria and loan guarantee schemes. In that respect, we are seeing how fiscal measures are starting to adjust to a certain degree of normalisation. The withdrawal should be prudent, while also avoiding leaving measures in place for too long leading to the creation of moral hazard or the zombification of the European economy.[end_answer] Once the pandemic and its effects are over, countries are going to find themselves with <span style=\"background-color: yellow;\">high</span>er deficits and, more importantly, with much <span style=\"background-color: yellow;\">high</span>er levels of public debt. Once the effects of the pandemic are behind us, credible budgetary plans will be required. It will be up to the European Commission to set the <span style=\"background-color: yel<span style=\"background-color: yellow;\">low</span>;\">pace</span> in this area, since this is a fiscal policy issue. The general escape clause will apply next year, but once pre-pandemic income levels are reached, the Stability and Growth Pact will once again be taken into consideration.[end_answer] The pandemic has brought a<span style=\"background-color: yel<span style=\"background-color: yellow;\">low</span>;\"><span style=\"background-color: yel<span style=\"background-color: yellow;\">low</span>;\">bout</span></span> an <span style=\"background-color: yellow;\">increase</span> in budget deficits and debt-to-GDP ratios. It has also led to greater divergence between countries. Those with a debt-to-GDP ratio <span style=\"background-color: yellow;\">high</span>er than the European average will have to make a greater effort to rectify this situation through a credible budgetary plan. It’s that simple. The European Commission will decide on the exact form, and in any case, any plan must be implemented gradually and cautiously.[end_answer] At the start of the crisis, one of our main concerns was the risk of a “doom loop”, i.e. the interconnectedness of firms, banks and sovereigns and the risks that could a<span style=\"background-color: yellow;\">rise</span> from it. Fortunately, these risks did not materialise. The non-performing loan ratio has continued to <span style=\"background-color: yellow;\">fall</span>, it has not had an impact on bank balance sheets and credit did not dry up, which would have made the economic situation worse. And this occurred thanks to the fiscal policy measures, the debt moratoria, the government loan guarantee schemes, the liquidity we have provided to banks and the fact that the ECB’s actions have ensured that financing conditions remain favourable.[end_answer] This is the negative link that has been avoided and that we must continue to avoid. How can we do this? By withdrawing stimulus gradually. There must first be an economic recovery before monetary policy and fiscal policy can return to normal. But obviously we will not always have emergency programmes, since that would mean that we had not put the pandemic and related costs behind us.[end_answer] Withdrawal of the extraordinary stimulus measures should be aligned with changes in economic activity levels. If things start to return to normal, as is currently the case, the extraordinary measures will have to be gradually withdrawn. We should monitor economic developments, <span style=\"background-color: red; color: white;\">inflation</span> and economic projections. We will analyse upside and downside risks, then make a decision. We rely on the data. At the end of 2019, before the pandemic, the ECB had its monetary policy and governments had their fiscal policy. When the pandemic is over, we will have to return to using the economic, fiscal and monetary stimulus measures that correspond to a normal economy. We are not there yet, but we are gradually and continually moving towards that point.[end_answer] In a very <span style=\"background-color: yellow;\">high</span> percentage of cases, the ECB’s monetary policy was adopted unanimously. This was the case for the pandemic emergency purchase programme. Different points of view do of course exist; there are 25 of us on the Governing Council. Sometimes we take decisions unanimously and other times with a large majority. The strategy review, for example, was adopted unanimously.[end_answer] I wouldn’t dare make forecasts for the next 20 years. Besides, we have said that the Governing Council intends to assess periodically the appropriateness of its strategy, and the next assessment will take place in 2025.[end_answer] It’s not a question of being more tolerant. We have changed the definition of price stability, but that doesn’t mean that in general we will accept a much <span style=\"background-color: yellow;\">high</span>er rate of <span style=\"background-color: red; color: white;\">inflation</span>. We have set our <span style=\"background-color: yel<span style=\"background-color: yellow;\">low</span>;\">target</span> based on a logical development. The <span style=\"background-color: red; color: white;\">inflation</span> <span style=\"background-color: yel<span style=\"background-color: yellow;\">low</span>;\">target</span> is now 2% over the medium term and not “be<span style=\"background-color: yellow;\">low</span>, but close to, 2%”, as it was before. That’s not revolutionary. We continue to be fully committed to price stability.[end_answer] Yes, but that’s a marginal issue. We have said that our <span style=\"background-color: yel<span style=\"background-color: yellow;\">low</span>;\">target</span> is symmetric, meaning that any negative or positive deviations from the 2% <span style=\"background-color: yel<span style=\"background-color: yellow;\">low</span>;\">target</span> are equally undesirable. This is important because up until now, the perception was that the ECB acted more forcefully when <span style=\"background-color: red; color: white;\">inflation</span> overshot the <span style=\"background-color: yel<span style=\"background-color: yellow;\">low</span>;\">target</span>. But we’re not like the Federal Reserve System and we don’t accept <span style=\"background-color: red; color: white;\">inflation</span> compensation. What we have said is that <span style=\"background-color: red; color: white;\">inflation</span> can be temporarily and moderately <span style=\"background-color: yellow;\">high</span>er than 2% because current interest rates are zero or close to zero. But that does not mean that in general we have raised our level of acceptance of <span style=\"background-color: yellow;\">high</span> <span style=\"background-color: red; color: white;\">inflation</span>.[end_answer] There are certain sectors in the European real estate market, such as residential real estate, where we are seeing prices rising and which we are therefore monitoring. These cases of very specific sectors, which are nevertheless starting to become more common, have to be addressed through macroprudential policy. Monetary policy is not the appropriate tool because it cannot differentiate in that regard.[end_answer] There were some countries, like Germany or France, which had taken measures such as activating the additional capital buffer. But they deactivated it when the pandemic hit, which makes sense. Once things return to normal, it would also make sense to take measures of this kind if there are instances of over<span style=\"background-color: yel<span style=\"background-color: yellow;\">low</span>;\">heat</span>ing.[end_answer] The context is one of <span style=\"background-color: yellow;\">low</span> profitability in the banking sector, and consolidation is a tool that can be used to improve profitability through cost savings. But it is a tool and not an end in itself. It’s the market, not the ECB, that takes decisions a<span style=\"background-color: yel<span style=\"background-color: yellow;\">low</span>;\"><span style=\"background-color: yel<span style=\"background-color: yellow;\">low</span>;\">bout</span></span> bank consolidation. What the ECB has identified – in Europe, not just in Spain – is an environment of <span style=\"background-color: yellow;\">low</span> profitability. This has now improved because the level of provisioning hasn’t been as <span style=\"background-color: yellow;\">high</span> as it initially might have needed to be. From the structural perspective, Europe is facing a situation of overcapacity and excess costs. And consolidation is a tool that can be used to bring a<span style=\"background-color: yel<span style=\"background-color: yellow;\">low</span>;\"><span style=\"background-color: yel<span style=\"background-color: yellow;\">low</span>;\">bout</span></span> improvements in those areas.[end_answer] As ECB Vice-President I can’t comment on that kind of domestic matter. In general, bank consolidation is one of the methods that can help to improve profitability. This sometimes means making adjustments, which can be painful in the short term. But if the adjustments are not made, there’s the possibility of a crisis. Moreover, bank profitability is not only a medium-term problem. It has implications for banks’ ability to generate capital now, and it even ends up affecting their lending capacity. Of course, we must think a<span style=\"background-color: yel<span style=\"background-color: yellow;\">low</span>;\"><span style=\"background-color: yel<span style=\"background-color: yellow;\">low</span>;\">bout</span></span> measures that might minimise the downside of the necessary adjustments. But, if nothing is done, over time that <span style=\"background-color: yellow;\">low</span> profitability ends up becoming a much more structural crisis.[end_answer] The bank bailout al<span style=\"background-color: yellow;\">low</span>ed Spain to grow [at a rate] above the European average for years and has made it easier for Spanish banks to face the stress tests and the crisis with sufficient levels of solvency. Having said that, there is always room for improvement.[end_answer] It’s not a matter of battles. A wave of corporate bankruptcies, as was feared in March or April last year, has been successfully averted. But the fact that developments in non-performing loans <span style=\"background-color: yel<span style=\"background-color: yellow;\">low</span>;\">lag</span> behind economic developments must be taken into account. And this is particularly true in the current circumstances, when there have been moratoria and government guarantees. The current <span style=\"background-color: yellow;\">low</span> levels of non-performing loans don’t appropriately reflect what might happen in the coming months. Non-performing loans are going to <span style=\"background-color: yellow;\">rise</span>. So from the financial stability and supervisory perspectives, caution is the <span style=\"background-color: yel<span style=\"background-color: yellow;\">low</span>;\">best</span> approach. Banks will have to adjust those provisions to an <span style=\"background-color: yellow;\">increase</span> in non-performing loans due to the significant time <span style=\"background-color: yel<span style=\"background-color: yellow;\">low</span>;\">lag</span>s. The “<span style=\"background-color: yellow;\">fall</span>en angels” situation has been avoided, but that doesn’t mean that there won’t be an <span style=\"background-color: yellow;\">increase</span> in non-performing loans in the coming quarters. And if that happens, provisions will have to be adjusted.[end_answer] A bank’s main asset is its reputation. The banks themselves have the greatest interest in their reputation being spotless, since their credibility and business depend crucially on the trust that is placed in them."
      ],
      "text/plain": [
       "<IPython.core.display.HTML object>"
      ]
     },
     "metadata": {},
     "output_type": "display_data"
    }
   ],
   "source": [
    "import pandas as pd\n",
    "from IPython.display import display, HTML\n",
    "\n",
    "\n",
    "# List of words to highlight\n",
    "paper_words = ['ignite', 'fuel', 'spark', 'dampen', 'stoke', 'kindle', 'choke',\n",
    "               'stifle', 'fan', 'flare-up', 'douse', 'snuff', 'erode', 'surge',\n",
    "               'subside', 'simmers', 'emergence', 'ebb', 'dilute', 'spurt', 'recede',\n",
    "               'buoy', 'hedge', 'nip', 'soar', 'runaway', 'rampant', 'curb', 'tame', 'rein',\n",
    "               'spur', 'creep', 'whip', 'gallop', 'halt', 'roar', 'hover', 'curtail', 'spawn',\n",
    "               'gnaw', 'hibernation', 'plague', 'worsen', 'benign', 'virulent', 'debilitate', \n",
    "               'bout', 'chronically', 'threat', 'subdue', 'target', 'beat', 'preempt', 'vigilant',\n",
    "               'ravage', 'undermine', 'forestall', 'counteract', 'eliminate', 'ferocious',\n",
    "               'ruinous', 'clobber', 'buster', 'eradicate', 'besieged', 'thwart', 'bash',\n",
    "               'beset', 'pace', 'outstrip', 'lag', 'surpass', 'quicken', 'outrun',\n",
    "               'bout', 'best', 'tug-of-war', 'zip', 'overtake', 'accelerate', 'faster',\n",
    "               'control', 'slow', 'trigger', 'skyrocket', 'rapid', 'heat', 'escalate',\n",
    "               'decelerate', 'ratchet', 'unchecked', 'readjusted', 'chug', 'damper',\n",
    "               'zoom', 'low', 'rise', 'high', 'increase', 'reduce', 'decline', 'fall',\n",
    "               'exceed', 'spiral', 'hyper', 'upward', 'uptick', 'downward', 'boost', 'peak',\n",
    "               'diminish', 'upturn', 'hike', 'plummet', 'upswing', 'inflation','deflation']\n",
    "\n",
    "def highlight_words(text, words_to_highlight):\n",
    "    highlighted_text = text\n",
    "    for word in words_to_highlight:\n",
    "        if word == 'inflation' or word == 'deflation':\n",
    "            highlighted_text = highlighted_text.replace(word, f'<span style=\"background-color: red; color: white;\">{word}</span>')\n",
    "        else:\n",
    "            highlighted_text = highlighted_text.replace(word, f'<span style=\"background-color: yellow;\">{word}</span>')\n",
    "    return highlighted_text\n",
    "\n",
    "# Function to highlight and display text by index\n",
    "def display_highlighted_text(df, index, words_to_highlight):\n",
    "    text = df.at[index, 'Answers']\n",
    "    highlighted_text = highlight_words(text, words_to_highlight)\n",
    "    display(HTML(highlighted_text))\n",
    "\n",
    "# Specify the index of the text to highlight\n",
    "index_to_highlight = 400  # Change this index to the specific text you want to highlight\n",
    "display_highlighted_text(df, index_to_highlight, paper_words)"
   ]
  },
  {
   "cell_type": "code",
   "execution_count": 32,
   "metadata": {},
   "outputs": [
    {
     "data": {
      "text/html": [
       "<div>\n",
       "<style scoped>\n",
       "    .dataframe tbody tr th:only-of-type {\n",
       "        vertical-align: middle;\n",
       "    }\n",
       "\n",
       "    .dataframe tbody tr th {\n",
       "        vertical-align: top;\n",
       "    }\n",
       "\n",
       "    .dataframe thead th {\n",
       "        text-align: right;\n",
       "    }\n",
       "</style>\n",
       "<table border=\"1\" class=\"dataframe\">\n",
       "  <thead>\n",
       "    <tr style=\"text-align: right;\">\n",
       "      <th></th>\n",
       "      <th>Date</th>\n",
       "      <th>Media</th>\n",
       "      <th>Member</th>\n",
       "      <th>Link</th>\n",
       "      <th>Information</th>\n",
       "      <th>Questions</th>\n",
       "      <th>Answers</th>\n",
       "      <th>Metaphors</th>\n",
       "    </tr>\n",
       "  </thead>\n",
       "  <tbody>\n",
       "    <tr>\n",
       "      <th>282</th>\n",
       "      <td>23 November 2019</td>\n",
       "      <td>Interview with Sky TG24</td>\n",
       "      <td>Philip R. Lane</td>\n",
       "      <td>https://www.ecb.europa.eu/press/inter/date/201...</td>\n",
       "      <td>Transcript of the interview with Philip R. Lan...</td>\n",
       "      <td>Alessandro Marenzi: Sette anni fa Draghi disse...</td>\n",
       "      <td>Philip Lane: What we have seen in the last sev...</td>\n",
       "      <td>[tackle low inflation, inflation rate of 1.6 i...</td>\n",
       "    </tr>\n",
       "  </tbody>\n",
       "</table>\n",
       "</div>"
      ],
      "text/plain": [
       "                 Date                    Media          Member  \\\n",
       "282  23 November 2019  Interview with Sky TG24  Philip R. Lane   \n",
       "\n",
       "                                                  Link  \\\n",
       "282  https://www.ecb.europa.eu/press/inter/date/201...   \n",
       "\n",
       "                                           Information  \\\n",
       "282  Transcript of the interview with Philip R. Lan...   \n",
       "\n",
       "                                             Questions  \\\n",
       "282  Alessandro Marenzi: Sette anni fa Draghi disse...   \n",
       "\n",
       "                                               Answers  \\\n",
       "282  Philip Lane: What we have seen in the last sev...   \n",
       "\n",
       "                                             Metaphors  \n",
       "282  [tackle low inflation, inflation rate of 1.6 i...  "
      ]
     },
     "execution_count": 32,
     "metadata": {},
     "output_type": "execute_result"
    }
   ],
   "source": [
    "# Add 'Metaphors' column to DataFrame if it does not exist\n",
    "if 'Metaphors' not in df.columns:\n",
    "    df['Metaphors'] = [[] for _ in range(len(df))]\n",
    "\n",
    "# Manually specify the metaphors for the selected text index\n",
    "metaphors_to_add = ['']\n",
    "\n",
    "# Add the metaphors to the specified text index\n",
    "df.at[index_to_highlight, 'Metaphors'] = metaphors_to_add\n",
    "\n",
    "# Display the DataFrame with the added metaphors\n",
    "df.loc[[index_to_highlight]]"
   ]
  },
  {
   "cell_type": "code",
   "execution_count": 34,
   "metadata": {},
   "outputs": [],
   "source": [
    "# Save df_copy to a new CSV file \"data_complete_with_metaphors_mathieu.csv\"\n",
    "df.to_csv(workingdir + '/data_complete_with_metaphors_mathieu.csv', index=False)"
   ]
  },
  {
   "cell_type": "markdown",
   "metadata": {},
   "source": [
    "#### Some observations: \n",
    "- 'imported inflation'\n",
    "- many times it appears the 'low;\">tame' symbol for the low target and that messes up our identificator\n",
    "-"
   ]
  }
 ],
 "metadata": {
  "kernelspec": {
   "display_name": "NeuralNet_Env",
   "language": "python",
   "name": "python3"
  },
  "language_info": {
   "codemirror_mode": {
    "name": "ipython",
    "version": 3
   },
   "file_extension": ".py",
   "mimetype": "text/x-python",
   "name": "python",
   "nbconvert_exporter": "python",
   "pygments_lexer": "ipython3",
   "version": "3.9.18"
  }
 },
 "nbformat": 4,
 "nbformat_minor": 2
}
