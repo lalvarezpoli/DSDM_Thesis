{
 "cells": [
  {
   "cell_type": "code",
   "execution_count": 1,
   "metadata": {},
   "outputs": [],
   "source": [
    "# Libraries\n",
    "import numpy as np\n",
    "import matplotlib.pyplot as plt\n",
    "import pandas as pd\n",
    "import seaborn as sns\n",
    "import os\n",
    "import aux_functions \n",
    "import re"
   ]
  },
  {
   "cell_type": "code",
   "execution_count": 2,
   "metadata": {},
   "outputs": [],
   "source": [
    "workingdir = os.getcwd()\n",
    "# read cleaned_data.csv file\n",
    "df = pd.read_csv(workingdir + '/data_complete.csv')\n",
    "\n",
    "#copy the dataset for later verifications\n",
    "df_copy = df.copy()\n",
    "df_copy.reset_index(drop=True, inplace=True)"
   ]
  },
  {
   "cell_type": "code",
   "execution_count": 3,
   "metadata": {},
   "outputs": [
    {
     "data": {
      "text/html": [
       "<div>\n",
       "<style scoped>\n",
       "    .dataframe tbody tr th:only-of-type {\n",
       "        vertical-align: middle;\n",
       "    }\n",
       "\n",
       "    .dataframe tbody tr th {\n",
       "        vertical-align: top;\n",
       "    }\n",
       "\n",
       "    .dataframe thead th {\n",
       "        text-align: right;\n",
       "    }\n",
       "</style>\n",
       "<table border=\"1\" class=\"dataframe\">\n",
       "  <thead>\n",
       "    <tr style=\"text-align: right;\">\n",
       "      <th></th>\n",
       "      <th>Date</th>\n",
       "      <th>Media</th>\n",
       "      <th>Member</th>\n",
       "      <th>Link</th>\n",
       "      <th>Information</th>\n",
       "      <th>Questions</th>\n",
       "      <th>Answers</th>\n",
       "    </tr>\n",
       "  </thead>\n",
       "  <tbody>\n",
       "    <tr>\n",
       "      <th>0</th>\n",
       "      <td>23 December 2005</td>\n",
       "      <td>Interview with Der Spiegel</td>\n",
       "      <td>Jean-Claude Trichet</td>\n",
       "      <td>https://www.ecb.europa.eu/press/inter/date/200...</td>\n",
       "      <td>Information not found</td>\n",
       "      <td>SPIEGEL: Monsieur Trichet, any concrete uttera...</td>\n",
       "      <td>The publication of the translation was authori...</td>\n",
       "    </tr>\n",
       "    <tr>\n",
       "      <th>1</th>\n",
       "      <td>19 December 2005</td>\n",
       "      <td>Interview with Hospodářské Noviny</td>\n",
       "      <td>Otmar Issing</td>\n",
       "      <td>https://www.ecb.europa.eu/press/inter/date/200...</td>\n",
       "      <td>Information not found</td>\n",
       "      <td>The new EU member states want to adopt the eur...</td>\n",
       "      <td>These questions are all closely related to eac...</td>\n",
       "    </tr>\n",
       "    <tr>\n",
       "      <th>2</th>\n",
       "      <td>19 December 2005</td>\n",
       "      <td>Interview with Financial Times and Financial T...</td>\n",
       "      <td>Lucas Papademos</td>\n",
       "      <td>https://www.ecb.europa.eu/press/inter/date/200...</td>\n",
       "      <td>Information not found</td>\n",
       "      <td>Mr Papademos, you have responsibility as ECB V...</td>\n",
       "      <td>A comparison of the risks involved when short-...</td>\n",
       "    </tr>\n",
       "    <tr>\n",
       "      <th>3</th>\n",
       "      <td>15 December 2005</td>\n",
       "      <td>Interview with Paris Match</td>\n",
       "      <td>Jean-Claude Trichet</td>\n",
       "      <td>https://www.ecb.europa.eu/press/inter/date/200...</td>\n",
       "      <td>Information not found</td>\n",
       "      <td>Paris Match. After two uneventful years at the...</td>\n",
       "      <td>The publication of the translation was authori...</td>\n",
       "    </tr>\n",
       "    <tr>\n",
       "      <th>4</th>\n",
       "      <td>9 December 2005</td>\n",
       "      <td>Interview in Il Giornale</td>\n",
       "      <td>Lorenzo Bini Smaghi</td>\n",
       "      <td>https://www.ecb.europa.eu/press/inter/date/200...</td>\n",
       "      <td>Information not found</td>\n",
       "      <td>However, Europe’s politicians, with few except...</td>\n",
       "      <td>By Angelo Allegri, our correspondent in Frankf...</td>\n",
       "    </tr>\n",
       "  </tbody>\n",
       "</table>\n",
       "</div>"
      ],
      "text/plain": [
       "               Date                                              Media  \\\n",
       "0  23 December 2005                         Interview with Der Spiegel   \n",
       "1  19 December 2005                  Interview with Hospodářské Noviny   \n",
       "2  19 December 2005  Interview with Financial Times and Financial T...   \n",
       "3  15 December 2005                         Interview with Paris Match   \n",
       "4   9 December 2005                           Interview in Il Giornale   \n",
       "\n",
       "                Member                                               Link  \\\n",
       "0  Jean-Claude Trichet  https://www.ecb.europa.eu/press/inter/date/200...   \n",
       "1         Otmar Issing  https://www.ecb.europa.eu/press/inter/date/200...   \n",
       "2      Lucas Papademos  https://www.ecb.europa.eu/press/inter/date/200...   \n",
       "3  Jean-Claude Trichet  https://www.ecb.europa.eu/press/inter/date/200...   \n",
       "4  Lorenzo Bini Smaghi  https://www.ecb.europa.eu/press/inter/date/200...   \n",
       "\n",
       "             Information                                          Questions  \\\n",
       "0  Information not found  SPIEGEL: Monsieur Trichet, any concrete uttera...   \n",
       "1  Information not found  The new EU member states want to adopt the eur...   \n",
       "2  Information not found  Mr Papademos, you have responsibility as ECB V...   \n",
       "3  Information not found  Paris Match. After two uneventful years at the...   \n",
       "4  Information not found  However, Europe’s politicians, with few except...   \n",
       "\n",
       "                                             Answers  \n",
       "0  The publication of the translation was authori...  \n",
       "1  These questions are all closely related to eac...  \n",
       "2  A comparison of the risks involved when short-...  \n",
       "3  The publication of the translation was authori...  \n",
       "4  By Angelo Allegri, our correspondent in Frankf...  "
      ]
     },
     "execution_count": 3,
     "metadata": {},
     "output_type": "execute_result"
    }
   ],
   "source": [
    "df_copy.head()"
   ]
  },
  {
   "cell_type": "code",
   "execution_count": 4,
   "metadata": {},
   "outputs": [],
   "source": [
    "def preprocess_text(text):\n",
    "    # Remove non-breaking space character '\\xa0' and replace it with a space\n",
    "    text = text.replace('\\xa0', ' ')\n",
    "    return text\n",
    "\n",
    "def uppercase_bold_words(text, word_list):\n",
    "    modified_text = text\n",
    "    for word in word_list:\n",
    "        # Create a regex pattern to match the word\n",
    "        pattern = re.escape(word)\n",
    "        # Use re.sub() to replace all occurrences of the word with its uppercase and bold version\n",
    "        modified_text = re.sub(pattern, lambda match: f\"\\033[1m{match.group().upper()}\\033[0m\", modified_text, flags=re.IGNORECASE)\n",
    "    return modified_text\n",
    "\n",
    "#Maybe try doing bold font and upper to identify easier."
   ]
  },
  {
   "cell_type": "code",
   "execution_count": 11,
   "metadata": {},
   "outputs": [
    {
     "name": "stdout",
     "output_type": "stream",
     "text": [
      "These questions are all closely related to each other and the answer is always the same: a country should not rush but be well prepared before giving up its monetary policy and the option of changes in the exchange rate by joining the euro. In any case, the country must fulfil the convergence criteria.[end_answer] Flexible markets in general and flexible labour markets in particular are conducive to economic growth and job creation in each country. Flexible markets are a fundamental precondition for a successful monetary union. In this respect, we have seen much progress over the last years – different from country to country. Yet, a lot has to be done.[end_answer] Access to EU was a desire for many years for these ten countries. In the first place, membership means living together in peace under a common roof. Participation in the EU, which is still very recent, will bring great economic advantages – a single market of almost 460 million people offers great chances. The rules have to be the same for every single country – for large and small countries, for old and new members. I personally do not see any need for tax harmonisation.[end_answer] Within the euro area we also have some countries that exhibit \u001b[1mHIGH\u001b[0mer growth rates than others. However, our studies show that differences in growth rates between euro area countries are more or less comparable to those between different regions in the United States.[end_answer] We see ourselves as guardians of macroeconomic stability. The Stability and Growth Pact, also in its revised form, remains a suitable framework for sound fiscal policies in the euro area. What matters is its strict implementation which the ECB has asked for time and again. We will continue to stress the importance of complying with the rules of the Pact.[end_answer] Even if it is not in line with the spirit of the Treaty, I expect “voices” on our policy to continue although not at the level we have experienced over the last few months. The ECB’s independence is enshrined in the Maastricht Treaty which was signed by all 25 governments and ratified by all parliaments. Our monetary policy geared to maintain price stability will be supported by the people because they strongly want to have stable money.[end_answer] The situation in Japan was very different from that we have now in the euro area. We are not confronted with deflation but with \u001b[1mINCREASE\u001b[0md risks to price stability – this in the reason why we raised our interest rates.[end_answer] Signs of a strengthening of economic recovery have improved. The recent projections by our staff confirm the expectation of an ongoing, although moderate recovery. But a lot has still to be done to \u001b[1mINCREASE\u001b[0m the production potential, especially in a number of countries.[end_answer] Money growth has been \u001b[1mHIGH\u001b[0m for quite some time and credit growth has continuously \u001b[1mINCREASE\u001b[0md, supporting our assessment of the risks to price stability. Liquidity in the euro area is more than ample. A central bank with the mandate to maintain price stability cannot ignore these signals.[end_answer] Yes, to be precise every morning but not Sundays and Mondays. My job is very demanding – good physical conditions are indispensable.\n"
     ]
    }
   ],
   "source": [
    "paper_words = ['ignite','fuel','spark','dampen','stoke','kindle','choke',\n",
    "               'stifle','fan','flare-up','flare-up','douse','snuff','erode','surge',\n",
    "               'subside','simmers','emergence','ebb','dilute','spurt','recede',\n",
    "               'buoy','hedge','nip', 'soar', 'runaway', 'rampant', 'curb', 'tame', 'rein',\n",
    "               'spur', 'creep', 'whip', 'gallop', 'halt', 'roar', 'hover', 'curtail', 'spawn',\n",
    "               'gnaw', 'hibernation', 'plague', 'worsen', 'benign', 'virulent', 'debilitate', \n",
    "               'bout', 'chronically', 'threat', 'subdue', 'target', 'beat', 'preempt', 'vigilant',\n",
    "               'ravage', 'undermine', 'forestall', 'counteract', 'eliminate', 'ferocious',\n",
    "               'ruinous', 'clobber', 'buster', 'eradicate', 'besieged', 'thwart', 'bash',\n",
    "               'beset', 'pace', 'outstrip', 'lag', 'surpass', 'quicken', 'outrun',\n",
    "               'bout', 'best', 'tug-of-war', 'zip', 'overtake', 'accelerate', 'faster',\n",
    "               'control', 'slow', 'trigger', 'skyrocket', 'rapid', 'heat', 'escalate',\n",
    "               'decelerate', 'ratchet', 'unchecked', 'readjusted', 'chug', 'damper',\n",
    "               'zoom', 'low', 'rise', 'high', 'increase', 'reduce', 'decline', 'fall',\n",
    "               'exceed', 'spiral', 'hyper', 'upward', 'uptick', 'downward', 'boost', 'peak',\n",
    "               'diminish', 'upturn', 'hike', 'plummet', 'upswing' ,'inflation']\n",
    "\n",
    "metaphors = [['inflation is fading', 'bringing inflation down', 'anchored INFLATION expectations','peak of transmission','wins of disinflation','last mile of disinflation','slowdown in the disinflationary process','INFLATION will remain sticky','DAMPENing the growth','INFLATION can flare up again','SURGE in European INFLATION','INFLATIONary pressures','INFLATION is at target','INFLATION proves sticky','INFLATION may be more persistent','tool to manage INFLATION','INFLATION was falling','real threat is too high INFLATION and not too low INFLATION'],\n",
    "             ['bring INFLATION back down'],\n",
    "             ['fight against INFLATION','fighting INFLATION','INFLATION abates','pushes INFLATION higher','INFLATION has fallen'],\n",
    "             [],\n",
    "             ['cool down INFLATION','easing of core INFLATION','SURGE in INFLATION','high INFLATION episodes','INFLATION wave'],\n",
    "             ['INFLATION reacceleration','Red Sea on INFLATION','INFLATION has eased','counter-act INFLATION','']]\n",
    "\n",
    "print(uppercase_bold_words(preprocess_text(df_copy['Answers'][0]),paper_words))"
   ]
  },
  {
   "cell_type": "code",
   "execution_count": 10,
   "metadata": {},
   "outputs": [
    {
     "ename": "TypeError",
     "evalue": "uppercase_bold_words() missing 1 required positional argument: 'word_list'",
     "output_type": "error",
     "traceback": [
      "\u001b[0;31m---------------------------------------------------------------------------\u001b[0m",
      "\u001b[0;31mTypeError\u001b[0m                                 Traceback (most recent call last)",
      "Cell \u001b[0;32mIn[10], line 3\u001b[0m\n\u001b[1;32m      1\u001b[0m highlighted_interviews \u001b[38;5;241m=\u001b[39m []\n\u001b[1;32m      2\u001b[0m \u001b[38;5;28;01mfor\u001b[39;00m interview \u001b[38;5;129;01min\u001b[39;00m df_copy[\u001b[38;5;124m'\u001b[39m\u001b[38;5;124mAnswers\u001b[39m\u001b[38;5;124m'\u001b[39m]:\n\u001b[0;32m----> 3\u001b[0m     highlighted_interviews\u001b[38;5;241m.\u001b[39mappend(\u001b[43muppercase_bold_words\u001b[49m\u001b[43m(\u001b[49m\u001b[43minterview\u001b[49m\u001b[43m)\u001b[49m, paper_words)\n",
      "\u001b[0;31mTypeError\u001b[0m: uppercase_bold_words() missing 1 required positional argument: 'word_list'"
     ]
    }
   ],
   "source": [
    "highlighted_interviews = []\n",
    "for interview in df_copy['Answers']:\n",
    "    highlighted_interviews.append(uppercase_bold_words(interview), paper_words)"
   ]
  },
  {
   "cell_type": "code",
   "execution_count": 8,
   "metadata": {},
   "outputs": [
    {
     "data": {
      "text/plain": [
       "[]"
      ]
     },
     "execution_count": 8,
     "metadata": {},
     "output_type": "execute_result"
    }
   ],
   "source": [
    "highlighted_interviews[:3]"
   ]
  },
  {
   "cell_type": "markdown",
   "metadata": {},
   "source": [
    "Mathieu Dictionnary"
   ]
  },
  {
   "cell_type": "code",
   "execution_count": null,
   "metadata": {},
   "outputs": [],
   "source": [
    "paper_words = ['ignite','fuel','spark','dampen','stoke','kindle','choke',\n",
    "               'stifle','fan','flare-up','flare-up','douse','snuff','erode','surge',\n",
    "               'subside','simmers','emergence','ebb','dilute','spurt','recede',\n",
    "               'buoy','hedge','nip', 'soar', 'runaway', 'rampant', 'curb', 'tame', 'rein',\n",
    "               'spur', 'creep', 'whip', 'gallop', 'halt', 'roar', 'hover', 'curtail', 'spawn',\n",
    "               'gnaw', 'hibernation', 'plague', 'worsen', 'benign', 'virulent', 'debilitate', \n",
    "               'bout', 'chronically', 'threat', 'subdue', 'target', 'beat', 'preempt', 'vigilant',\n",
    "               'ravage', 'undermine', 'forestall', 'counteract', 'eliminate', 'ferocious',\n",
    "               'ruinous', 'clobber', 'buster', 'eradicate', 'besieged', 'thwart', 'bash',\n",
    "               'beset', 'pace', 'outstrip', 'lag', 'surpass', 'quicken', 'outrun',\n",
    "               'bout', 'best', 'tug-of-war', 'zip', 'overtake', 'accelerate', 'faster',\n",
    "               'control', 'slow', 'trigger', 'skyrocket', 'rapid', 'heat', 'escalate',\n",
    "               'decelerate', 'ratchet', 'unchecked', 'readjusted', 'chug', 'damper',\n",
    "               'zoom', 'low', 'rise', 'high', 'increase', 'reduce', 'decline', 'fall',\n",
    "               'exceed', 'spiral', 'hyper', 'upward', 'uptick', 'downward', 'boost', 'peak',\n",
    "               'diminish', 'upturn', 'hike', 'plummet', 'upswing' ,'inflation']\n",
    "\n",
    "metaphors = [['inflation is fading', 'bringing inflation down', 'anchored INFLATION expectations','peak of transmission','wins of disinflation','last mile of disinflation','slowdown in the disinflationary process','INFLATION will remain sticky','DAMPENing the growth','INFLATION can flare up again','SURGE in European INFLATION','INFLATIONary pressures','INFLATION is at target','INFLATION proves sticky','INFLATION may be more persistent','tool to manage INFLATION','INFLATION was falling','real threat is too high INFLATION and not too low INFLATION'],\n",
    "             ['bring INFLATION back down'],\n",
    "             ['fight against INFLATION','fighting INFLATION','INFLATION abates','pushes INFLATION higher','INFLATION has fallen'],\n",
    "             [],\n",
    "             ['cool down INFLATION','easing of core INFLATION','SURGE in INFLATION','high INFLATION episodes','INFLATION wave'],\n",
    "             ['INFLATION reacceleration','Red Sea on INFLATION','INFLATION has eased','counter-act INFLATION','']]\n",
    "\n",
    "print(uppercase_bold_words(preprocess_text(df_copy['Answers'][0]),paper_words))"
   ]
  },
  {
   "cell_type": "markdown",
   "metadata": {},
   "source": [
    "________"
   ]
  },
  {
   "cell_type": "markdown",
   "metadata": {},
   "source": [
    "INTERVIEWS INDEXES\n",
    "\n",
    "DONE :\n",
    "439, 133, 73, 385, 388, 373, 158, 168, 138, 210, 149,  79, 346,  434, 380, 65, 85, 406, 421, 357, 402, 136,  47, 462, 226, 245, 338, 516, 170, 463, 313, 416, 172, 491, 116, 169, 268, 490, 477, 509, 354,\n",
    "\n",
    "TO DO : \n",
    " 262"
   ]
  },
  {
   "cell_type": "code",
   "execution_count": 118,
   "metadata": {},
   "outputs": [
    {
     "data": {
      "text/html": [
       "No. There were times at the height of the crisis when there were existential doubts a<span style=\"background-color: yel<span style=\"background-color: yellow;\">low</span>;\"><span style=\"background-color: yel<span style=\"background-color: yellow;\">low</span>;\">bout</span></span> how things would turn out. But I was never in any doubt that Monetary Union was the right thing for European countries.[end_answer] The problems were a consequence of the way the euro area was set up to start with, which was very minimalistic. At the time, it was felt that all we needed was a single currency, a central bank and a fiscal brake. But events have shown that that wasn’t enough. For example, a crisis mechanism was not envisaged and there was no banking supervision at the European level. A number of important decisions have been taken in the meantime, for instance on the banking union and the European Stability Mechanism. The euro area has started to fix itself – and we’re still in the middle of that process.[end_answer] Yes. The countries hardest hit by the crisis had <span style=\"background-color: yellow;\">high</span> budget deficits and <span style=\"background-color: yellow;\">high</span> current account deficits at the start of the crisis. So they were importing a lot more than they were exporting. But a great deal has been done since then. In the meantime, all the countries concerned have a primary fiscal surplus, which means that they are reducing their debt bit by bit. And all these countries now have a current account surplus; they are exporting more than they import. That is quite a turnaround.[end_answer] It is certainly a challenge, first and foremost for Italy itself. When financial markets attacked Italy in 2012, it demonstrated that perceptions in the financial markets can be volatile and the risk assessment of a given debtor can change abruptly, sometimes with severe consequences – and this even though Italy already had a primary surplus at the time. We will have to see what happens now.[end_answer] I would like to stress that every intervention has to contribute to the fulfilment of our mandate and is also subject to conditionality. The Outright Monetary Transactions programme for intervening in national sovereign bond markets of vulnerable countries can only be used if the country in question also agrees to an adjustment programme. The rules are very clear on this. Everyone should remember that.[end_answer] I will only say that Italy knows the rules. They should perhaps take another close look at them.[end_answer] There are certainly cultural differences that are rooted in history and are still in evidence. Some countries are against credit and <span style=\"background-color: yellow;\">high</span> levels of debt, while others are less concerned. It is striking, for instance, that Germany has the <span style=\"background-color: yellow;\">low</span>est rate of property ownership in Europe. Why is that? In other countries people take out loans to build houses – especially now, with interest rates so <span style=\"background-color: yellow;\">low</span>. In Germany, you barely see that happening. So, there are big cultural differences in certain respects, but reality has shown that compromises have to be made. And they have happened.[end_answer] Yes, I think so. Germany is a very successful country, and its success is built on a strong set of rules and respect for those rules. And things have gone very well for Germany since the Second World War. But this strict approach also has a weakness in times of crisis, particularly when a fast and flexible reaction is required. The reaction to the financial and sovereign debt crisis could have been quicker, and more flexible. That is my personal view. We have learned from the crisis and are in the process of fixing Monetary Union. But a few more steps still need to be taken. Most of all, we need much closer coordination of fiscal policy – and a stabilisation fund that can absorb sudden significant shocks. And the banking union is not yet complete.[end_answer] I think one of the reasons for hesitation on the part of many European governments is that the euro area is currently going through a phase of very robust economic growth. When times are good, it’s always difficult to undertake reforms, because there doesn’t seem to be any need. In the past, significant EU reforms were always decided on at the height of a crisis. But that also makes them more expensive.[end_answer] You’d think that the banking union would be the easiest of these reforms. What we need most of all here is to introduce a common European deposit insurance scheme, so that the savings of bank customers are protected at the European level if a bank fails. That would further strengthen confidence in the euro, because our money essentially consists of bank deposits.[end_answer] It’s already being solved. We have started to considerably <span style=\"background-color: yellow;\">reduce</span> levels of what are known as non-performing loans in the euro area – by more than €300 billion since 2014. This reduction has come a<span style=\"background-color: yel<span style=\"background-color: yellow;\">low</span>;\"><span style=\"background-color: yel<span style=\"background-color: yellow;\">low</span>;\">bout</span></span> as a result of the pressure exerted by ECB Banking Supervision. And that pressure will remain strong.[end_answer] I understand their concern. But German savers didn’t exactly have it better in the past. They might have got 2.25% interest on their deposits before the euro was introduced, but <span style=\"background-color: red; color: white;\">inflation</span> was also much <span style=\"background-color: yellow;\">high</span>er back then, at 2.4%. So what we call the real interest rate was negative then too.[end_answer] But then there is the other side of the coin. Low interest rates help public and private borrowers. People in Germany are not making use of that. As I said before, the rate of home ownership is pretty <span style=\"background-color: yellow;\">low</span> – and has even <span style=\"background-color: yellow;\">decline</span>d in recent years.[end_answer] Yes, but only in cities, not everywhere. Germans could use the <span style=\"background-color: yellow;\">low</span> lending rates to their own advantage. That would mean borrowing somewhat more, but many people just don’t want to do that. They could have taken much greater advantage of the situation.[end_answer] Yes, people in Germany leave too much money in their account instead of investing it in other, <span style=\"background-color: yellow;\">high</span>er-yielding assets.[end_answer] There will not necessarily be a crash. But history shows that stock markets cannot go up forever. The economy will go into a recession again at some point, and then there will also be a correction in the stock markets. Nobody knows how big that correction will be. But no one is expecting a major crisis – unless there is a huge geopolitical crisis. That would be a different situation.[end_answer] I don’t think that anyone wants a real trade war, because everyone knows that we would all stand to lose."
      ],
      "text/plain": [
       "<IPython.core.display.HTML object>"
      ]
     },
     "metadata": {},
     "output_type": "display_data"
    }
   ],
   "source": [
    "import pandas as pd\n",
    "from IPython.display import display, HTML\n",
    "\n",
    "\n",
    "# List of words to highlight\n",
    "paper_words = ['ignite', 'fuel', 'spark', 'dampen', 'stoke', 'kindle', 'choke',\n",
    "               'stifle', 'fan', 'flare-up', 'douse', 'snuff', 'erode', 'surge',\n",
    "               'subside', 'simmers', 'emergence', 'ebb', 'dilute', 'spurt', 'recede',\n",
    "               'buoy', 'hedge', 'nip', 'soar', 'runaway', 'rampant', 'curb', 'tame', 'rein',\n",
    "               'spur', 'creep', 'whip', 'gallop', 'halt', 'roar', 'hover', 'curtail', 'spawn',\n",
    "               'gnaw', 'hibernation', 'plague', 'worsen', 'benign', 'virulent', 'debilitate', \n",
    "               'bout', 'chronically', 'threat', 'subdue', 'target', 'beat', 'preempt', 'vigilant',\n",
    "               'ravage', 'undermine', 'forestall', 'counteract', 'eliminate', 'ferocious',\n",
    "               'ruinous', 'clobber', 'buster', 'eradicate', 'besieged', 'thwart', 'bash',\n",
    "               'beset', 'pace', 'outstrip', 'lag', 'surpass', 'quicken', 'outrun',\n",
    "               'bout', 'best', 'tug-of-war', 'zip', 'overtake', 'accelerate', 'faster',\n",
    "               'control', 'slow', 'trigger', 'skyrocket', 'rapid', 'heat', 'escalate',\n",
    "               'decelerate', 'ratchet', 'unchecked', 'readjusted', 'chug', 'damper',\n",
    "               'zoom', 'low', 'rise', 'high', 'increase', 'reduce', 'decline', 'fall',\n",
    "               'exceed', 'spiral', 'hyper', 'upward', 'uptick', 'downward', 'boost', 'peak',\n",
    "               'diminish', 'upturn', 'hike', 'plummet', 'upswing', 'inflation','deflation']\n",
    "\n",
    "def highlight_words(text, words_to_highlight):\n",
    "    highlighted_text = text\n",
    "    for word in words_to_highlight:\n",
    "        if word == 'inflation' or word == 'deflation':\n",
    "            highlighted_text = highlighted_text.replace(word, f'<span style=\"background-color: red; color: white;\">{word}</span>')\n",
    "        else:\n",
    "            highlighted_text = highlighted_text.replace(word, f'<span style=\"background-color: yellow;\">{word}</span>')\n",
    "    return highlighted_text\n",
    "\n",
    "# Function to highlight and display text by index\n",
    "def display_highlighted_text(df, index, words_to_highlight):\n",
    "    text = df.at[index, 'Answers']\n",
    "    highlighted_text = highlight_words(text, words_to_highlight)\n",
    "    display(HTML(highlighted_text))\n",
    "\n",
    "# Specify the index of the text to highlight\n",
    "index_to_highlight = 262  # Change this index to the specific text you want to highlight\n",
    "display_highlighted_text(df, index_to_highlight, paper_words)"
   ]
  },
  {
   "cell_type": "code",
   "execution_count": 119,
   "metadata": {},
   "outputs": [
    {
     "data": {
      "text/html": [
       "<div>\n",
       "<style scoped>\n",
       "    .dataframe tbody tr th:only-of-type {\n",
       "        vertical-align: middle;\n",
       "    }\n",
       "\n",
       "    .dataframe tbody tr th {\n",
       "        vertical-align: top;\n",
       "    }\n",
       "\n",
       "    .dataframe thead th {\n",
       "        text-align: right;\n",
       "    }\n",
       "</style>\n",
       "<table border=\"1\" class=\"dataframe\">\n",
       "  <thead>\n",
       "    <tr style=\"text-align: right;\">\n",
       "      <th></th>\n",
       "      <th>Date</th>\n",
       "      <th>Media</th>\n",
       "      <th>Member</th>\n",
       "      <th>Link</th>\n",
       "      <th>Information</th>\n",
       "      <th>Questions</th>\n",
       "      <th>Answers</th>\n",
       "      <th>Metaphors</th>\n",
       "    </tr>\n",
       "  </thead>\n",
       "  <tbody>\n",
       "    <tr>\n",
       "      <th>262</th>\n",
       "      <td>29 May 2018</td>\n",
       "      <td>Interview with Spiegel Online</td>\n",
       "      <td>Vítor Constâncio</td>\n",
       "      <td>https://www.ecb.europa.eu/press/inter/date/201...</td>\n",
       "      <td>Interview with Vítor Constâncio, Vice-Presiden...</td>\n",
       "      <td>Mr Constâncio, you’ve worked at the European C...</td>\n",
       "      <td>No. There were times at the height of the cris...</td>\n",
       "      <td>[None]</td>\n",
       "    </tr>\n",
       "  </tbody>\n",
       "</table>\n",
       "</div>"
      ],
      "text/plain": [
       "            Date                          Media            Member  \\\n",
       "262  29 May 2018  Interview with Spiegel Online  Vítor Constâncio   \n",
       "\n",
       "                                                  Link  \\\n",
       "262  https://www.ecb.europa.eu/press/inter/date/201...   \n",
       "\n",
       "                                           Information  \\\n",
       "262  Interview with Vítor Constâncio, Vice-Presiden...   \n",
       "\n",
       "                                             Questions  \\\n",
       "262  Mr Constâncio, you’ve worked at the European C...   \n",
       "\n",
       "                                               Answers Metaphors  \n",
       "262  No. There were times at the height of the cris...    [None]  "
      ]
     },
     "execution_count": 119,
     "metadata": {},
     "output_type": "execute_result"
    }
   ],
   "source": [
    "# Add 'Metaphors' column to DataFrame if it does not exist\n",
    "if 'Metaphors' not in df.columns:\n",
    "    df['Metaphors'] = [[] for _ in range(len(df))]\n",
    "\n",
    "# Manually specify the metaphors for the selected text index\n",
    "index_to_update = 262  # Change this index as needed for different text entriesinflation\n",
    "metaphors_to_add = ['None']\n",
    "\n",
    "# Add the metaphors to the specified text index\n",
    "df.at[index_to_update, 'Metaphors'] = metaphors_to_add\n",
    "\n",
    "# Display the DataFrame with the added metaphors\n",
    "df.loc[[262]]"
   ]
  },
  {
   "cell_type": "code",
   "execution_count": 120,
   "metadata": {},
   "outputs": [],
   "source": [
    "# Save df_copy to a new CSV file \"data_complete_with_metaphors_mathieu.csv\"\n",
    "df.to_csv(workingdir + '/data_complete_with_metaphors_mathieu.csv', index=False)"
   ]
  }
 ],
 "metadata": {
  "kernelspec": {
   "display_name": "NeuralNet_Env",
   "language": "python",
   "name": "python3"
  },
  "language_info": {
   "codemirror_mode": {
    "name": "ipython",
    "version": 3
   },
   "file_extension": ".py",
   "mimetype": "text/x-python",
   "name": "python",
   "nbconvert_exporter": "python",
   "pygments_lexer": "ipython3",
   "version": "3.11.7"
  }
 },
 "nbformat": 4,
 "nbformat_minor": 2
}
