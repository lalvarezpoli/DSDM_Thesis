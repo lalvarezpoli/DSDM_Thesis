{
 "cells": [
  {
   "cell_type": "markdown",
   "metadata": {},
   "source": [
    "# European Central Bank Interview Scrapper"
   ]
  },
  {
   "cell_type": "markdown",
   "metadata": {},
   "source": [
    "This notebook contains a function named scrape_ecb_interviews(), serving as a pipeline to automate the process of opening the browser, navigating to ecb.europa.eu..."
   ]
  },
  {
   "cell_type": "code",
   "execution_count": 1,
   "metadata": {},
   "outputs": [],
   "source": [
    "#!pip install selenium"
   ]
  },
  {
   "cell_type": "code",
   "execution_count": 2,
   "metadata": {},
   "outputs": [
    {
     "name": "stderr",
     "output_type": "stream",
     "text": [
      "C:\\Users\\School\\AppData\\Roaming\\Python\\Python311\\site-packages\\pandas\\core\\arrays\\masked.py:60: UserWarning: Pandas requires version '1.3.6' or newer of 'bottleneck' (version '1.3.5' currently installed).\n",
      "  from pandas.core import (\n"
     ]
    }
   ],
   "source": [
    "import json\n",
    "import pandas as pd\n",
    "import numpy as np\n",
    "from selenium.webdriver.common.by import By\n",
    "from selenium.common.exceptions import NoSuchElementException, ElementClickInterceptedException, StaleElementReferenceException\n",
    "from selenium import webdriver\n",
    "from bs4 import BeautifulSoup\n",
    "import time\n",
    "from selenium import webdriver\n",
    "from selenium.webdriver.firefox.service import Service\n",
    "from selenium.webdriver.firefox.options import Options\n",
    "from concurrent.futures import ThreadPoolExecutor\n",
    "import requests\n",
    "import os\n",
    "import warnings\n",
    "\n",
    "# Ignore SettingWithCopyWarning\n",
    "warnings.filterwarnings(\"ignore\", category=UserWarning, module=\"pandas\")\n",
    "warnings.filterwarnings(\"ignore\", category=FutureWarning, module=\"pandas\")\n",
    "\n",
    "# Go get geckodriver from : https://github.com/mozilla/geckodriver/releases"
   ]
  },
  {
   "cell_type": "markdown",
   "metadata": {},
   "source": [
    "### Initialization functions:"
   ]
  },
  {
   "cell_type": "code",
   "execution_count": 3,
   "metadata": {},
   "outputs": [],
   "source": [
    "def start_up(link, geko_path, profile_path=None, browser=None):\n",
    "        \"\"\"\n",
    "        Function to set up the browser and open the selected link.\n",
    "\n",
    "        Args:\n",
    "            link (str): The URL to open.\n",
    "            geko_path (str): Path to the Gecko driver executable.\n",
    "            profile_path (str): Path to the Firefox profile to be used if there is any.\n",
    "            browser: Optional existing webdriver instance.\n",
    "\n",
    "        Returns:\n",
    "            browser: The initialized webdriver instance.\n",
    "        \"\"\"\n",
    "        if not browser:\n",
    "            if profile_path:\n",
    "                firefox_options = webdriver.FirefoxOptions()\n",
    "                firefox_options.add_argument(f'--profile={profile_path}')\n",
    "                service = Service(geko_path)\n",
    "                browser = webdriver.Firefox(service=service, options=firefox_options)\n",
    "            else:\n",
    "                profile = webdriver.FirefoxProfile()\n",
    "                options = Options()\n",
    "                options.profile = profile\n",
    "                service = Service(geko_path)\n",
    "                browser = webdriver.Firefox(service=service, options=options)\n",
    "        browser.get(link)\n",
    "        time.sleep(2)\n",
    "        return browser\n"
   ]
  },
  {
   "cell_type": "markdown",
   "metadata": {},
   "source": [
    "### Paths:"
   ]
  },
  {
   "cell_type": "code",
   "execution_count": 4,
   "metadata": {},
   "outputs": [],
   "source": [
    "# Set the path to the geckodriver executable:\n",
    "geko_path='C:/Users/School/Downloads/geckodriver-v0.34.0-win64/geckodriver.exe'\n",
    "\n",
    "# If fifefox profile is needed, set the path to the profile:\n",
    "profile_path = ''"
   ]
  },
  {
   "cell_type": "markdown",
   "metadata": {},
   "source": [
    "### Scrape Metadata:\n",
    "\n",
    "This first part scrappes the content from the selection panel with the available interviews and their metadata, hence the date, the media where the interview has been published, the member of the ECB conducting the interview and the link to the said interview."
   ]
  },
  {
   "cell_type": "code",
   "execution_count": 5,
   "metadata": {},
   "outputs": [],
   "source": [
    "def scroll_to_end(driver, pause_time=2):\n",
    "    # Function to scroll to the end of the page\n",
    "    last_height = driver.execute_script(\"return document.body.scrollHeight\")\n",
    "    while True:\n",
    "        driver.execute_script(\"window.scrollTo(0, document.body.scrollHeight);\")\n",
    "        time.sleep(pause_time)  # Wait for new content to load\n",
    "        new_height = driver.execute_script(\"return document.body.scrollHeight\")\n",
    "        if new_height == last_height:\n",
    "            break\n",
    "        last_height = new_height"
   ]
  },
  {
   "cell_type": "code",
   "execution_count": 6,
   "metadata": {},
   "outputs": [
    {
     "name": "stdout",
     "output_type": "stream",
     "text": [
      "Number of interviews for year:  2005  ->  18.0\n",
      "Number of interviews for year:  2006  ->  6.0\n",
      "Number of interviews for year:  2007  ->  8.0\n",
      "Number of interviews for year:  2008  ->  9.0\n",
      "Number of interviews for year:  2009  ->  12.0\n",
      "Number of interviews for year:  2010  ->  17.0\n",
      "Number of interviews for year:  2011  ->  20.0\n",
      "Number of interviews for year:  2012  ->  8.0\n",
      "Number of interviews for year:  2013  ->  16.0\n",
      "Number of interviews for year:  2014  ->  33.0\n",
      "Number of interviews for year:  2015  ->  42.0\n",
      "Number of interviews for year:  2016  ->  39.0\n",
      "Number of interviews for year:  2017  ->  29.0\n",
      "Number of interviews for year:  2018  ->  28.0\n",
      "Number of interviews for year:  2019  ->  38.0\n",
      "Number of interviews for year:  2020  ->  74.0\n",
      "Number of interviews for year:  2021  ->  46.0\n",
      "Number of interviews for year:  2022  ->  37.0\n",
      "Number of interviews for year:  2023  ->  39.0\n",
      "Number of interviews for year:  2024  ->  9.0\n",
      "Shape of the dataframe:  (528, 4)\n"
     ]
    }
   ],
   "source": [
    "years = [\"2005\",\"2006\",\"2007\",\"2008\",\"2009\",\"2010\",\"2011\",\"2012\",\"2013\",\"2014\",\"2015\",\"2016\",\"2017\",\"2018\",\"2019\",\"2020\",\"2021\",\"2022\",\"2023\",\"2024\"]\n",
    "\n",
    "def scrape_ecb_interviews(geko_path):\n",
    "    data = []\n",
    "    \n",
    "    for year in years:\n",
    "        link_ = f'https://www.ecb.europa.eu/press/pubbydate/html/index.en.html?name_of_publication=Interview&year={year}'\n",
    "\n",
    "        # Start browser\n",
    "        browser=start_up(link=link_,geko_path=geko_path)\n",
    "\n",
    "        # There is a maximum number of interviews loaded per page (if all years are selected) -> need to go year by year!\n",
    "        # The TOPICS on the ECB webpage only go back until 2020\n",
    "\n",
    "        # Scroll to the end of the page to load all content\n",
    "        scroll_to_end(browser)\n",
    "\n",
    "        interviews_placeholders = browser.find_elements('xpath','/html/body/div[3]/main/div[2]/div[3]/div[2]/div[2]/dl/*')\n",
    "        print(\"Number of interviews for year: \", year,\" -> \",len(interviews_placeholders)/2)\n",
    "        for interview in interviews_placeholders:\n",
    "            if interview.tag_name == 'dt':\n",
    "                # This is the date\n",
    "                date = interview.text\n",
    "            if interview.tag_name == 'dd':\n",
    "                # This contains the link, title, and authors\n",
    "                link_element = interview.find_element(By.TAG_NAME, 'a')\n",
    "                url = link_element.get_attribute('href')\n",
    "                content = link_element.text\n",
    "\n",
    "                authors_element = interview.find_element(By.CLASS_NAME, 'authors')\n",
    "                authors_list = authors_element.find_elements(By.TAG_NAME, 'li')\n",
    "                author_name = authors_list[0].text.strip()  # Get the first author's name\n",
    "\n",
    "                # Store the data in a dictionary\n",
    "                data.append({\n",
    "                    \"Date\": date,\n",
    "                    \"Media\": content,\n",
    "                    \"Member\": author_name,\n",
    "                    \"Link\": url\n",
    "                })\n",
    "        \n",
    "        # Close the browser\n",
    "        browser.quit()\n",
    "    \n",
    "    return data\n",
    "\n",
    "data_scrapped = scrape_ecb_interviews(geko_path)\n",
    "df = pd.DataFrame(data_scrapped)\n",
    "print(\"Shape of the dataframe: \",df.shape)"
   ]
  },
  {
   "cell_type": "code",
   "execution_count": 7,
   "metadata": {},
   "outputs": [
    {
     "data": {
      "text/html": [
       "<div>\n",
       "<style scoped>\n",
       "    .dataframe tbody tr th:only-of-type {\n",
       "        vertical-align: middle;\n",
       "    }\n",
       "\n",
       "    .dataframe tbody tr th {\n",
       "        vertical-align: top;\n",
       "    }\n",
       "\n",
       "    .dataframe thead th {\n",
       "        text-align: right;\n",
       "    }\n",
       "</style>\n",
       "<table border=\"1\" class=\"dataframe\">\n",
       "  <thead>\n",
       "    <tr style=\"text-align: right;\">\n",
       "      <th></th>\n",
       "      <th>Date</th>\n",
       "      <th>Media</th>\n",
       "      <th>Member</th>\n",
       "      <th>Link</th>\n",
       "    </tr>\n",
       "  </thead>\n",
       "  <tbody>\n",
       "    <tr>\n",
       "      <th>0</th>\n",
       "      <td>23 December 2005</td>\n",
       "      <td>Interview with Der Spiegel</td>\n",
       "      <td>Jean-Claude Trichet</td>\n",
       "      <td>https://www.ecb.europa.eu/press/inter/date/200...</td>\n",
       "    </tr>\n",
       "    <tr>\n",
       "      <th>1</th>\n",
       "      <td>19 December 2005</td>\n",
       "      <td>Interview with Hospodářské Noviny</td>\n",
       "      <td>Otmar Issing</td>\n",
       "      <td>https://www.ecb.europa.eu/press/inter/date/200...</td>\n",
       "    </tr>\n",
       "    <tr>\n",
       "      <th>2</th>\n",
       "      <td>19 December 2005</td>\n",
       "      <td>Interview with Financial Times and Financial T...</td>\n",
       "      <td>Lucas Papademos</td>\n",
       "      <td>https://www.ecb.europa.eu/press/inter/date/200...</td>\n",
       "    </tr>\n",
       "    <tr>\n",
       "      <th>3</th>\n",
       "      <td>15 December 2005</td>\n",
       "      <td>Interview with Paris Match</td>\n",
       "      <td>Jean-Claude Trichet</td>\n",
       "      <td>https://www.ecb.europa.eu/press/inter/date/200...</td>\n",
       "    </tr>\n",
       "    <tr>\n",
       "      <th>4</th>\n",
       "      <td>9 December 2005</td>\n",
       "      <td>Interview in Il Giornale</td>\n",
       "      <td>Lorenzo Bini Smaghi</td>\n",
       "      <td>https://www.ecb.europa.eu/press/inter/date/200...</td>\n",
       "    </tr>\n",
       "  </tbody>\n",
       "</table>\n",
       "</div>"
      ],
      "text/plain": [
       "               Date                                              Media  \\\n",
       "0  23 December 2005                         Interview with Der Spiegel   \n",
       "1  19 December 2005                  Interview with Hospodářské Noviny   \n",
       "2  19 December 2005  Interview with Financial Times and Financial T...   \n",
       "3  15 December 2005                         Interview with Paris Match   \n",
       "4   9 December 2005                           Interview in Il Giornale   \n",
       "\n",
       "                Member                                               Link  \n",
       "0  Jean-Claude Trichet  https://www.ecb.europa.eu/press/inter/date/200...  \n",
       "1         Otmar Issing  https://www.ecb.europa.eu/press/inter/date/200...  \n",
       "2      Lucas Papademos  https://www.ecb.europa.eu/press/inter/date/200...  \n",
       "3  Jean-Claude Trichet  https://www.ecb.europa.eu/press/inter/date/200...  \n",
       "4  Lorenzo Bini Smaghi  https://www.ecb.europa.eu/press/inter/date/200...  "
      ]
     },
     "execution_count": 7,
     "metadata": {},
     "output_type": "execute_result"
    }
   ],
   "source": [
    "df.head()"
   ]
  },
  {
   "cell_type": "code",
   "execution_count": 8,
   "metadata": {},
   "outputs": [
    {
     "data": {
      "text/plain": [
       "Date      0\n",
       "Media     0\n",
       "Member    0\n",
       "Link      0\n",
       "dtype: int64"
      ]
     },
     "execution_count": 8,
     "metadata": {},
     "output_type": "execute_result"
    }
   ],
   "source": [
    "# Chack for NA values\n",
    "df.isna().sum()"
   ]
  },
  {
   "cell_type": "code",
   "execution_count": 9,
   "metadata": {},
   "outputs": [],
   "source": [
    "# Save the data\n",
    "df.to_csv('data_metadata.csv', index=False)"
   ]
  },
  {
   "cell_type": "markdown",
   "metadata": {},
   "source": [
    "### Scrape the interviews\n",
    "\n",
    "Using the link scrapped in the previous step, we will scrape the content of each interview and make sure we separate the questions of the reporter from the answer of the ECB member."
   ]
  },
  {
   "cell_type": "code",
   "execution_count": 10,
   "metadata": {},
   "outputs": [
    {
     "name": "stdout",
     "output_type": "stream",
     "text": [
      "Shape of the dataframe:  (528, 4)\n"
     ]
    },
    {
     "data": {
      "text/html": [
       "<div>\n",
       "<style scoped>\n",
       "    .dataframe tbody tr th:only-of-type {\n",
       "        vertical-align: middle;\n",
       "    }\n",
       "\n",
       "    .dataframe tbody tr th {\n",
       "        vertical-align: top;\n",
       "    }\n",
       "\n",
       "    .dataframe thead th {\n",
       "        text-align: right;\n",
       "    }\n",
       "</style>\n",
       "<table border=\"1\" class=\"dataframe\">\n",
       "  <thead>\n",
       "    <tr style=\"text-align: right;\">\n",
       "      <th></th>\n",
       "      <th>Date</th>\n",
       "      <th>Media</th>\n",
       "      <th>Member</th>\n",
       "      <th>Link</th>\n",
       "    </tr>\n",
       "  </thead>\n",
       "  <tbody>\n",
       "    <tr>\n",
       "      <th>0</th>\n",
       "      <td>23 December 2005</td>\n",
       "      <td>Interview with Der Spiegel</td>\n",
       "      <td>Jean-Claude Trichet</td>\n",
       "      <td>https://www.ecb.europa.eu/press/inter/date/200...</td>\n",
       "    </tr>\n",
       "    <tr>\n",
       "      <th>1</th>\n",
       "      <td>19 December 2005</td>\n",
       "      <td>Interview with Hospodářské Noviny</td>\n",
       "      <td>Otmar Issing</td>\n",
       "      <td>https://www.ecb.europa.eu/press/inter/date/200...</td>\n",
       "    </tr>\n",
       "    <tr>\n",
       "      <th>2</th>\n",
       "      <td>19 December 2005</td>\n",
       "      <td>Interview with Financial Times and Financial T...</td>\n",
       "      <td>Lucas Papademos</td>\n",
       "      <td>https://www.ecb.europa.eu/press/inter/date/200...</td>\n",
       "    </tr>\n",
       "    <tr>\n",
       "      <th>3</th>\n",
       "      <td>15 December 2005</td>\n",
       "      <td>Interview with Paris Match</td>\n",
       "      <td>Jean-Claude Trichet</td>\n",
       "      <td>https://www.ecb.europa.eu/press/inter/date/200...</td>\n",
       "    </tr>\n",
       "    <tr>\n",
       "      <th>4</th>\n",
       "      <td>9 December 2005</td>\n",
       "      <td>Interview in Il Giornale</td>\n",
       "      <td>Lorenzo Bini Smaghi</td>\n",
       "      <td>https://www.ecb.europa.eu/press/inter/date/200...</td>\n",
       "    </tr>\n",
       "  </tbody>\n",
       "</table>\n",
       "</div>"
      ],
      "text/plain": [
       "               Date                                              Media  \\\n",
       "0  23 December 2005                         Interview with Der Spiegel   \n",
       "1  19 December 2005                  Interview with Hospodářské Noviny   \n",
       "2  19 December 2005  Interview with Financial Times and Financial T...   \n",
       "3  15 December 2005                         Interview with Paris Match   \n",
       "4   9 December 2005                           Interview in Il Giornale   \n",
       "\n",
       "                Member                                               Link  \n",
       "0  Jean-Claude Trichet  https://www.ecb.europa.eu/press/inter/date/200...  \n",
       "1         Otmar Issing  https://www.ecb.europa.eu/press/inter/date/200...  \n",
       "2      Lucas Papademos  https://www.ecb.europa.eu/press/inter/date/200...  \n",
       "3  Jean-Claude Trichet  https://www.ecb.europa.eu/press/inter/date/200...  \n",
       "4  Lorenzo Bini Smaghi  https://www.ecb.europa.eu/press/inter/date/200...  "
      ]
     },
     "execution_count": 10,
     "metadata": {},
     "output_type": "execute_result"
    }
   ],
   "source": [
    "# Load the data\n",
    "df = pd.read_csv('data_metadata.csv')\n",
    "print(\"Shape of the dataframe: \",df.shape)\n",
    "df.head()"
   ]
  },
  {
   "cell_type": "code",
   "execution_count": 11,
   "metadata": {},
   "outputs": [],
   "source": [
    "headers = {'User-Agent': 'Mozilla/5.0 (Windows NT 10.0; Win64; x64) AppleWebKit/537.36 (KHTML, like Gecko) Chrome/75.0.3770.142 Safari/537.36'}\n",
    "\n",
    "# Function to scrape the descriptions using Beautiful Soup\n",
    "def scrape_interviews(url):\n",
    "    try:\n",
    "        response = requests.get(url, headers=headers, timeout=10)\n",
    "        response.raise_for_status() \n",
    "        time.sleep(0.5)\n",
    "    except requests.exceptions.RequestException as e:\n",
    "        print(f\"Error processing {url}: {e}\")\n",
    "        return None\n",
    "\n",
    "    soup = BeautifulSoup(response.text, 'html.parser')\n",
    "    \n",
    "    # Extract the \"Information\" from <h2>\n",
    "    information = soup.find('h2', class_='ecb-pressContentSubtitle')\n",
    "    if information:\n",
    "        information_text = information.get_text(strip=True)\n",
    "    else:\n",
    "        information_text = \"Information not found\"\n",
    "\n",
    "    # Extract questions and answers\n",
    "    questions = []\n",
    "    answers = []\n",
    "    \n",
    "    # Find all <p> tags and classify them based on their content\n",
    "    paragraphs = soup.find_all('p')\n",
    "\n",
    "    if len(paragraphs) > 10:\n",
    "        relevant_paragraphs = paragraphs[5:-5]  # Ignore the first and last five, they contain copyrights elements\n",
    "    else:\n",
    "        relevant_paragraphs = []\n",
    "    \n",
    "    for paragraph in relevant_paragraphs:\n",
    "        strong_tag = paragraph.find('strong')\n",
    "        if strong_tag:\n",
    "            # This is a question\n",
    "            questions.append(strong_tag.get_text(strip=True))\n",
    "        else:\n",
    "            # This is an answer\n",
    "            answers.append(paragraph.get_text(strip=True))\n",
    "    \n",
    "    # Return a dictionary with the structured information\n",
    "    return information_text,\"[end_question] \".join(questions),\"[end_answer] \".join(answers)\n"
   ]
  },
  {
   "cell_type": "code",
   "execution_count": 12,
   "metadata": {},
   "outputs": [
    {
     "name": "stdout",
     "output_type": "stream",
     "text": [
      "Error processing https://www.ecb.europa.eu/press/inter/date/2013/html/sp130916.en.html: 404 Client Error: Not Found for url: https://www.ecb.europa.eu/press/inter/date/2013/html/sp130916.en.html\n",
      "Error processing https://www.ecb.europa.eu/press/inter/date/2014/html/sp141216.en.html: 404 Client Error: Not Found for url: https://www.ecb.europa.eu/press/inter/date/2014/html/sp141216.en.html\n",
      "Error processing https://www.ecb.europa.eu/press/inter/date/2014/html/sp140629.en.html: 404 Client Error: Not Found for url: https://www.ecb.europa.eu/press/inter/date/2014/html/sp140629.en.html\n",
      "Error processing https://www.ecb.europa.eu/press/inter/date/2015/html/sp150110_1.en.html: 404 Client Error: Not Found for url: https://www.ecb.europa.eu/press/inter/date/2015/html/sp150110_1.en.html\n",
      "Error processing https://www.ecb.europa.eu/press/inter/date/2016/html/sp160505.en.html: 404 Client Error: Not Found for url: https://www.ecb.europa.eu/press/inter/date/2016/html/sp160505.en.html\n",
      "Error processing https://www.ecb.europa.eu/press/inter/date/2016/html/sp160705.en.html: 404 Client Error: Not Found for url: https://www.ecb.europa.eu/press/inter/date/2016/html/sp160705.en.html\n",
      "Error processing https://www.ecb.europa.eu/press/inter/date/2019/html/ecb.in190531_1~301c8b9c69.en.html: 404 Client Error: Not Found for url: https://www.ecb.europa.eu/press/inter/date/2019/html/ecb.in190531_1~301c8b9c69.en.html\n",
      "Error processing https://www.ecb.europa.eu/press/inter/date/2019/html/ecb.in190531~4d1849c17f.en.html: 404 Client Error: Not Found for url: https://www.ecb.europa.eu/press/inter/date/2019/html/ecb.in190531~4d1849c17f.en.html\n",
      "Error processing https://www.ecb.europa.eu/press/inter/date/2020/html/ecb.in200606~1b2ad1256c.en.html: 404 Client Error: Not Found for url: https://www.ecb.europa.eu/press/inter/date/2020/html/ecb.in200606~1b2ad1256c.en.html\n",
      "Scraped 528 links\n",
      "Shape of the dataframe:  (528, 7)\n"
     ]
    },
    {
     "data": {
      "text/html": [
       "<div>\n",
       "<style scoped>\n",
       "    .dataframe tbody tr th:only-of-type {\n",
       "        vertical-align: middle;\n",
       "    }\n",
       "\n",
       "    .dataframe tbody tr th {\n",
       "        vertical-align: top;\n",
       "    }\n",
       "\n",
       "    .dataframe thead th {\n",
       "        text-align: right;\n",
       "    }\n",
       "</style>\n",
       "<table border=\"1\" class=\"dataframe\">\n",
       "  <thead>\n",
       "    <tr style=\"text-align: right;\">\n",
       "      <th></th>\n",
       "      <th>Date</th>\n",
       "      <th>Media</th>\n",
       "      <th>Member</th>\n",
       "      <th>Link</th>\n",
       "      <th>Information</th>\n",
       "      <th>Questions</th>\n",
       "      <th>Answers</th>\n",
       "    </tr>\n",
       "  </thead>\n",
       "  <tbody>\n",
       "    <tr>\n",
       "      <th>0</th>\n",
       "      <td>23 December 2005</td>\n",
       "      <td>Interview with Der Spiegel</td>\n",
       "      <td>Jean-Claude Trichet</td>\n",
       "      <td>https://www.ecb.europa.eu/press/inter/date/200...</td>\n",
       "      <td>Information not found</td>\n",
       "      <td>SPIEGEL: Monsieur Trichet, any concrete uttera...</td>\n",
       "      <td>The publication of the translation was authori...</td>\n",
       "    </tr>\n",
       "    <tr>\n",
       "      <th>1</th>\n",
       "      <td>19 December 2005</td>\n",
       "      <td>Interview with Hospodářské Noviny</td>\n",
       "      <td>Otmar Issing</td>\n",
       "      <td>https://www.ecb.europa.eu/press/inter/date/200...</td>\n",
       "      <td>Information not found</td>\n",
       "      <td>The new EU member states want to adopt the eur...</td>\n",
       "      <td>These questions are all closely related to eac...</td>\n",
       "    </tr>\n",
       "    <tr>\n",
       "      <th>2</th>\n",
       "      <td>19 December 2005</td>\n",
       "      <td>Interview with Financial Times and Financial T...</td>\n",
       "      <td>Lucas Papademos</td>\n",
       "      <td>https://www.ecb.europa.eu/press/inter/date/200...</td>\n",
       "      <td>Information not found</td>\n",
       "      <td>Mr Papademos, you have responsibility as ECB V...</td>\n",
       "      <td>A comparison of the risks involved when short-...</td>\n",
       "    </tr>\n",
       "    <tr>\n",
       "      <th>3</th>\n",
       "      <td>15 December 2005</td>\n",
       "      <td>Interview with Paris Match</td>\n",
       "      <td>Jean-Claude Trichet</td>\n",
       "      <td>https://www.ecb.europa.eu/press/inter/date/200...</td>\n",
       "      <td>Information not found</td>\n",
       "      <td>Paris Match. After two uneventful years at the...</td>\n",
       "      <td>The publication of the translation was authori...</td>\n",
       "    </tr>\n",
       "    <tr>\n",
       "      <th>4</th>\n",
       "      <td>9 December 2005</td>\n",
       "      <td>Interview in Il Giornale</td>\n",
       "      <td>Lorenzo Bini Smaghi</td>\n",
       "      <td>https://www.ecb.europa.eu/press/inter/date/200...</td>\n",
       "      <td>Information not found</td>\n",
       "      <td>However, Europe’s politicians, with few except...</td>\n",
       "      <td>By Angelo Allegri, our correspondent in Frankf...</td>\n",
       "    </tr>\n",
       "  </tbody>\n",
       "</table>\n",
       "</div>"
      ],
      "text/plain": [
       "               Date                                              Media  \\\n",
       "0  23 December 2005                         Interview with Der Spiegel   \n",
       "1  19 December 2005                  Interview with Hospodářské Noviny   \n",
       "2  19 December 2005  Interview with Financial Times and Financial T...   \n",
       "3  15 December 2005                         Interview with Paris Match   \n",
       "4   9 December 2005                           Interview in Il Giornale   \n",
       "\n",
       "                Member                                               Link  \\\n",
       "0  Jean-Claude Trichet  https://www.ecb.europa.eu/press/inter/date/200...   \n",
       "1         Otmar Issing  https://www.ecb.europa.eu/press/inter/date/200...   \n",
       "2      Lucas Papademos  https://www.ecb.europa.eu/press/inter/date/200...   \n",
       "3  Jean-Claude Trichet  https://www.ecb.europa.eu/press/inter/date/200...   \n",
       "4  Lorenzo Bini Smaghi  https://www.ecb.europa.eu/press/inter/date/200...   \n",
       "\n",
       "             Information                                          Questions  \\\n",
       "0  Information not found  SPIEGEL: Monsieur Trichet, any concrete uttera...   \n",
       "1  Information not found  The new EU member states want to adopt the eur...   \n",
       "2  Information not found  Mr Papademos, you have responsibility as ECB V...   \n",
       "3  Information not found  Paris Match. After two uneventful years at the...   \n",
       "4  Information not found  However, Europe’s politicians, with few except...   \n",
       "\n",
       "                                             Answers  \n",
       "0  The publication of the translation was authori...  \n",
       "1  These questions are all closely related to eac...  \n",
       "2  A comparison of the risks involved when short-...  \n",
       "3  The publication of the translation was authori...  \n",
       "4  By Angelo Allegri, our correspondent in Frankf...  "
      ]
     },
     "execution_count": 12,
     "metadata": {},
     "output_type": "execute_result"
    }
   ],
   "source": [
    "# Set the number of concurrent threads (adjust this based on the processing power of your computer)\n",
    "num_threads = 16\n",
    "\n",
    "# Create a ThreadPoolExecutor to run operations in parallel\n",
    "with ThreadPoolExecutor(max_workers=num_threads) as executor:\n",
    "    information_data = []\n",
    "    question_data = []\n",
    "    answer_data = []\n",
    "    # Use executor.map to apply the scrape_description function to each URL in parallel\n",
    "    for res in enumerate(executor.map(scrape_interviews, df['Link'])):\n",
    "        if res[1] is None:\n",
    "            information_data.append(\"Information not found\")\n",
    "            question_data.append(\"Questions not found\")\n",
    "            answer_data.append(\"Answers not found\")\n",
    "            continue\n",
    "        information_data.append(res[1][0])\n",
    "        question_data.append(res[1][1])\n",
    "        answer_data.append(res[1][2])\n",
    "\n",
    "# Convert the results into a DataFrame\n",
    "df['Information'] = information_data\n",
    "df['Questions'] = question_data\n",
    "df['Answers'] = answer_data\n",
    "\n",
    "# Print count after all threads have completed\n",
    "print(f\"Scraped {len(df)} links\")\n",
    "print(\"Shape of the dataframe: \",df.shape)\n",
    "df.head()"
   ]
  },
  {
   "cell_type": "code",
   "execution_count": 13,
   "metadata": {},
   "outputs": [
    {
     "data": {
      "text/plain": [
       "Date           0\n",
       "Media          0\n",
       "Member         0\n",
       "Link           0\n",
       "Information    0\n",
       "Questions      0\n",
       "Answers        0\n",
       "dtype: int64"
      ]
     },
     "execution_count": 13,
     "metadata": {},
     "output_type": "execute_result"
    }
   ],
   "source": [
    "# Chack for NA values\n",
    "df.isna().sum()"
   ]
  },
  {
   "cell_type": "code",
   "execution_count": 14,
   "metadata": {},
   "outputs": [
    {
     "name": "stdout",
     "output_type": "stream",
     "text": [
      "Shape of the dataframe:  (519, 7)\n"
     ]
    }
   ],
   "source": [
    "# Drop the rows with \"Answers not found\" in the \"Answers\" column\n",
    "df = df[df['Answers'] != \"Answers not found\"]\n",
    "print(\"Shape of the dataframe: \",df.shape)"
   ]
  },
  {
   "cell_type": "code",
   "execution_count": 15,
   "metadata": {},
   "outputs": [],
   "source": [
    "# Save the complete dataframe\n",
    "df.to_csv('data_complete.csv', index=False)"
   ]
  },
  {
   "cell_type": "code",
   "execution_count": null,
   "metadata": {},
   "outputs": [],
   "source": []
  }
 ],
 "metadata": {
  "kernelspec": {
   "display_name": "base",
   "language": "python",
   "name": "python3"
  },
  "language_info": {
   "codemirror_mode": {
    "name": "ipython",
    "version": 3
   },
   "file_extension": ".py",
   "mimetype": "text/x-python",
   "name": "python",
   "nbconvert_exporter": "python",
   "pygments_lexer": "ipython3",
   "version": "3.11.4"
  }
 },
 "nbformat": 4,
 "nbformat_minor": 2
}
