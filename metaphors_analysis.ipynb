{
 "cells": [
  {
   "cell_type": "markdown",
   "metadata": {},
   "source": [
    "# Notebook: Metaphor analysis\n",
    "\n",
    "This notebook is meant to analyse the metaphors detected by the REGEX and POS approaches.\n",
    "\n",
    "The analysis will focus on:\n",
    "- frequency of the word \"inflation\" related to the inflation rate\n",
    "- Sentiment analysis of the metaphors flagged\n",
    "- Poisson regression, with the metaphors sentiment score "
   ]
  },
  {
   "cell_type": "code",
   "execution_count": 15,
   "metadata": {},
   "outputs": [],
   "source": [
    "import re\n",
    "import pandas as pd\n",
    "import numpy as np\n",
    "import matplotlib.pyplot as plt\n",
    "import seaborn as sns\n",
    "from tqdm import tqdm\n",
    "from ecbdata import ecbdata\n",
    "\n",
    "tqdm.pandas()\n",
    "\n",
    "#ECB Color\n",
    "color = (17/255, 49/255, 147/255)"
   ]
  },
  {
   "cell_type": "code",
   "execution_count": 16,
   "metadata": {},
   "outputs": [],
   "source": [
    "# Target words:\n",
    "words_to_match = [\"inflation\",\"deflation\",\"inflationary\",\"desinflationary\",\"hyperinflation\",\"disinflation\"]"
   ]
  },
  {
   "cell_type": "code",
   "execution_count": 25,
   "metadata": {},
   "outputs": [],
   "source": [
    "# Functions\n",
    "\n",
    "# Function to count the frequency of words from the list in a sentence\n",
    "def count_frequency(answer):\n",
    "    sentence_lower = answer.lower()\n",
    "    return sum(1 for word in words_to_match if word in sentence_lower)"
   ]
  },
  {
   "cell_type": "code",
   "execution_count": 26,
   "metadata": {},
   "outputs": [
    {
     "data": {
      "text/html": [
       "<div>\n",
       "<style scoped>\n",
       "    .dataframe tbody tr th:only-of-type {\n",
       "        vertical-align: middle;\n",
       "    }\n",
       "\n",
       "    .dataframe tbody tr th {\n",
       "        vertical-align: top;\n",
       "    }\n",
       "\n",
       "    .dataframe thead th {\n",
       "        text-align: right;\n",
       "    }\n",
       "</style>\n",
       "<table border=\"1\" class=\"dataframe\">\n",
       "  <thead>\n",
       "    <tr style=\"text-align: right;\">\n",
       "      <th></th>\n",
       "      <th>Date</th>\n",
       "      <th>Media</th>\n",
       "      <th>Member</th>\n",
       "      <th>Link</th>\n",
       "      <th>Information</th>\n",
       "      <th>Questions</th>\n",
       "      <th>Answers</th>\n",
       "      <th>list_regex</th>\n",
       "      <th>list_regex_reduced</th>\n",
       "      <th>list_regex_len</th>\n",
       "      <th>list_regex_reduced_len</th>\n",
       "      <th>text_length</th>\n",
       "      <th>pos_metaphors</th>\n",
       "      <th>pos_metaphors_len</th>\n",
       "    </tr>\n",
       "  </thead>\n",
       "  <tbody>\n",
       "    <tr>\n",
       "      <th>469</th>\n",
       "      <td>2022-01-11</td>\n",
       "      <td>Interview with Il Sole 24 Ore</td>\n",
       "      <td>Philip R. Lane</td>\n",
       "      <td>https://www.ecb.europa.eu/press/inter/date/202...</td>\n",
       "      <td>Interview with Philip R. Lane, Member of the E...</td>\n",
       "      <td>Euro area HICP inflation in December hit anoth...</td>\n",
       "      <td>11 January 2022[end_answer] In our December pr...</td>\n",
       "      <td>['in our December projection we assess that in...</td>\n",
       "      <td>['in our December projection we assess that in...</td>\n",
       "      <td>26</td>\n",
       "      <td>26</td>\n",
       "      <td>10329</td>\n",
       "      <td>[('inflation', 'go'), ('inflation', 'fall'), (...</td>\n",
       "      <td>9</td>\n",
       "    </tr>\n",
       "    <tr>\n",
       "      <th>470</th>\n",
       "      <td>2022-01-07</td>\n",
       "      <td>Interview with RTÉ</td>\n",
       "      <td>Philip R. Lane</td>\n",
       "      <td>https://www.ecb.europa.eu/press/inter/date/202...</td>\n",
       "      <td>Interview with Philip R. Lane, Member of the E...</td>\n",
       "      <td>Philip Lane, what's your response to the Euros...</td>\n",
       "      <td>7 January 2022[end_answer] That number is broa...</td>\n",
       "      <td>['we ve be clear in recent week and month that...</td>\n",
       "      <td>['we ve be clear in recent week and month that...</td>\n",
       "      <td>30</td>\n",
       "      <td>30</td>\n",
       "      <td>11108</td>\n",
       "      <td>[('low', 'inflation'), ('inflation', 'go'), ('...</td>\n",
       "      <td>9</td>\n",
       "    </tr>\n",
       "    <tr>\n",
       "      <th>471</th>\n",
       "      <td>2023-12-22</td>\n",
       "      <td>Interview with Süddeutsche Zeitung</td>\n",
       "      <td>Isabel Schnabel</td>\n",
       "      <td>https://www.ecb.europa.eu/press/inter/date/202...</td>\n",
       "      <td>Interview with Isabel Schnabel, Member of the ...</td>\n",
       "      <td>Inflation has recently fallen to 2.4%, more ra...</td>\n",
       "      <td>22 December 2023[end_answer] We will only be s...</td>\n",
       "      <td>['we will only be satisfied if inflation fall ...</td>\n",
       "      <td>['we will only be satisfied if inflation fall ...</td>\n",
       "      <td>21</td>\n",
       "      <td>21</td>\n",
       "      <td>7811</td>\n",
       "      <td>[('inflation', 'fall'), ('inflation', 'drop'),...</td>\n",
       "      <td>9</td>\n",
       "    </tr>\n",
       "    <tr>\n",
       "      <th>472</th>\n",
       "      <td>2023-12-21</td>\n",
       "      <td>Interview with 20 Minutos</td>\n",
       "      <td>Luis de Guindos</td>\n",
       "      <td>https://www.ecb.europa.eu/press/inter/date/202...</td>\n",
       "      <td>Interview with Luis de Guindos, Vice-President...</td>\n",
       "      <td>Wage cost data in Spain point to an increase o...</td>\n",
       "      <td>21 December 2023[end_answer] A year ago inflat...</td>\n",
       "      <td>['a year ago inflation be above and now it be ...</td>\n",
       "      <td>['a year ago inflation be above and now it be ...</td>\n",
       "      <td>12</td>\n",
       "      <td>12</td>\n",
       "      <td>9440</td>\n",
       "      <td>[('inflation', 'fight'), ('inflation', 'slow')...</td>\n",
       "      <td>4</td>\n",
       "    </tr>\n",
       "    <tr>\n",
       "      <th>473</th>\n",
       "      <td>2023-12-05</td>\n",
       "      <td>Interview with Reuters</td>\n",
       "      <td>Isabel Schnabel</td>\n",
       "      <td>https://www.ecb.europa.eu/press/inter/date/202...</td>\n",
       "      <td>Interview with Isabel Schnabel, Member of the ...</td>\n",
       "      <td>What is your take on the unexpectedly benign N...</td>\n",
       "      <td>5 December 2023[end_answer] “When the facts ch...</td>\n",
       "      <td>['over the past year headline inflation have d...</td>\n",
       "      <td>['over the past year headline inflation have d...</td>\n",
       "      <td>20</td>\n",
       "      <td>19</td>\n",
       "      <td>11805</td>\n",
       "      <td>[('inflation', 'decline'), ('inflation', 'fall...</td>\n",
       "      <td>3</td>\n",
       "    </tr>\n",
       "  </tbody>\n",
       "</table>\n",
       "</div>"
      ],
      "text/plain": [
       "          Date                               Media           Member  \\\n",
       "469 2022-01-11       Interview with Il Sole 24 Ore   Philip R. Lane   \n",
       "470 2022-01-07                  Interview with RTÉ   Philip R. Lane   \n",
       "471 2023-12-22  Interview with Süddeutsche Zeitung  Isabel Schnabel   \n",
       "472 2023-12-21           Interview with 20 Minutos  Luis de Guindos   \n",
       "473 2023-12-05              Interview with Reuters  Isabel Schnabel   \n",
       "\n",
       "                                                  Link  \\\n",
       "469  https://www.ecb.europa.eu/press/inter/date/202...   \n",
       "470  https://www.ecb.europa.eu/press/inter/date/202...   \n",
       "471  https://www.ecb.europa.eu/press/inter/date/202...   \n",
       "472  https://www.ecb.europa.eu/press/inter/date/202...   \n",
       "473  https://www.ecb.europa.eu/press/inter/date/202...   \n",
       "\n",
       "                                           Information  \\\n",
       "469  Interview with Philip R. Lane, Member of the E...   \n",
       "470  Interview with Philip R. Lane, Member of the E...   \n",
       "471  Interview with Isabel Schnabel, Member of the ...   \n",
       "472  Interview with Luis de Guindos, Vice-President...   \n",
       "473  Interview with Isabel Schnabel, Member of the ...   \n",
       "\n",
       "                                             Questions  \\\n",
       "469  Euro area HICP inflation in December hit anoth...   \n",
       "470  Philip Lane, what's your response to the Euros...   \n",
       "471  Inflation has recently fallen to 2.4%, more ra...   \n",
       "472  Wage cost data in Spain point to an increase o...   \n",
       "473  What is your take on the unexpectedly benign N...   \n",
       "\n",
       "                                               Answers  \\\n",
       "469  11 January 2022[end_answer] In our December pr...   \n",
       "470  7 January 2022[end_answer] That number is broa...   \n",
       "471  22 December 2023[end_answer] We will only be s...   \n",
       "472  21 December 2023[end_answer] A year ago inflat...   \n",
       "473  5 December 2023[end_answer] “When the facts ch...   \n",
       "\n",
       "                                            list_regex  \\\n",
       "469  ['in our December projection we assess that in...   \n",
       "470  ['we ve be clear in recent week and month that...   \n",
       "471  ['we will only be satisfied if inflation fall ...   \n",
       "472  ['a year ago inflation be above and now it be ...   \n",
       "473  ['over the past year headline inflation have d...   \n",
       "\n",
       "                                    list_regex_reduced  list_regex_len  \\\n",
       "469  ['in our December projection we assess that in...              26   \n",
       "470  ['we ve be clear in recent week and month that...              30   \n",
       "471  ['we will only be satisfied if inflation fall ...              21   \n",
       "472  ['a year ago inflation be above and now it be ...              12   \n",
       "473  ['over the past year headline inflation have d...              20   \n",
       "\n",
       "     list_regex_reduced_len  text_length  \\\n",
       "469                      26        10329   \n",
       "470                      30        11108   \n",
       "471                      21         7811   \n",
       "472                      12         9440   \n",
       "473                      19        11805   \n",
       "\n",
       "                                         pos_metaphors  pos_metaphors_len  \n",
       "469  [('inflation', 'go'), ('inflation', 'fall'), (...                  9  \n",
       "470  [('low', 'inflation'), ('inflation', 'go'), ('...                  9  \n",
       "471  [('inflation', 'fall'), ('inflation', 'drop'),...                  9  \n",
       "472  [('inflation', 'fight'), ('inflation', 'slow')...                  4  \n",
       "473  [('inflation', 'decline'), ('inflation', 'fall...                  3  "
      ]
     },
     "execution_count": 26,
     "metadata": {},
     "output_type": "execute_result"
    }
   ],
   "source": [
    "# Import dataset containing the interveiw data\n",
    "df = pd.read_csv('data_complete.csv')\n",
    "\n",
    "# Convert 'date' column to datetime format\n",
    "df['Date'] = pd.to_datetime(df['Date'])\n",
    "\n",
    "# For computation speed, limit the data to the last 50 rows:\n",
    "df = df.tail(50)\n",
    "\n",
    "df.head()"
   ]
  },
  {
   "cell_type": "code",
   "execution_count": 27,
   "metadata": {},
   "outputs": [
    {
     "name": "stdout",
     "output_type": "stream",
     "text": [
      "Shape of the dataset before dropping missing values:  (50, 14)\n"
     ]
    },
    {
     "data": {
      "text/plain": [
       "Date                      0\n",
       "Media                     0\n",
       "Member                    0\n",
       "Link                      0\n",
       "Information               0\n",
       "Questions                 2\n",
       "Answers                   0\n",
       "list_regex                0\n",
       "list_regex_reduced        0\n",
       "list_regex_len            0\n",
       "list_regex_reduced_len    0\n",
       "text_length               0\n",
       "pos_metaphors             0\n",
       "pos_metaphors_len         0\n",
       "dtype: int64"
      ]
     },
     "execution_count": 27,
     "metadata": {},
     "output_type": "execute_result"
    }
   ],
   "source": [
    "print(\"Shape of the dataset before dropping missing values: \", df.shape)\n",
    "df.isna().sum()"
   ]
  },
  {
   "cell_type": "code",
   "execution_count": 28,
   "metadata": {},
   "outputs": [
    {
     "name": "stdout",
     "output_type": "stream",
     "text": [
      "Shape of the dataset after dropping missing values:  (50, 14)\n"
     ]
    },
    {
     "data": {
      "text/plain": [
       "Date                      50\n",
       "Media                     42\n",
       "Member                     6\n",
       "Link                      50\n",
       "Information               50\n",
       "Questions                 48\n",
       "Answers                   50\n",
       "list_regex                48\n",
       "list_regex_reduced        48\n",
       "list_regex_len            32\n",
       "list_regex_reduced_len    28\n",
       "text_length               50\n",
       "pos_metaphors             43\n",
       "pos_metaphors_len         13\n",
       "dtype: int64"
      ]
     },
     "execution_count": 28,
     "metadata": {},
     "output_type": "execute_result"
    }
   ],
   "source": [
    "print(\"Shape of the dataset after dropping missing values: \", df.shape)\n",
    "df.nunique()"
   ]
  },
  {
   "cell_type": "code",
   "execution_count": 29,
   "metadata": {},
   "outputs": [
    {
     "data": {
      "text/plain": [
       "Date                      datetime64[ns]\n",
       "Media                             object\n",
       "Member                            object\n",
       "Link                              object\n",
       "Information                       object\n",
       "Questions                         object\n",
       "Answers                           object\n",
       "list_regex                        object\n",
       "list_regex_reduced                object\n",
       "list_regex_len                     int64\n",
       "list_regex_reduced_len             int64\n",
       "text_length                        int64\n",
       "pos_metaphors                     object\n",
       "pos_metaphors_len                  int64\n",
       "dtype: object"
      ]
     },
     "execution_count": 29,
     "metadata": {},
     "output_type": "execute_result"
    }
   ],
   "source": [
    "#types of data\n",
    "df.dtypes"
   ]
  },
  {
   "cell_type": "code",
   "execution_count": 31,
   "metadata": {},
   "outputs": [],
   "source": [
    "# Count the frequency of words from the list words_to_match\n",
    "df[\"Frequency\"] = df[\"Answers\"].apply(count_frequency)\n"
   ]
  },
  {
   "cell_type": "code",
   "execution_count": 32,
   "metadata": {},
   "outputs": [
    {
     "name": "stderr",
     "output_type": "stream",
     "text": [
      "c:\\ProgramData\\anaconda3\\Lib\\site-packages\\seaborn\\_oldcore.py:1119: FutureWarning: use_inf_as_na option is deprecated and will be removed in a future version. Convert inf values to NaN before operating instead.\n",
      "  with pd.option_context('mode.use_inf_as_na', True):\n"
     ]
    },
    {
     "data": {
      "image/png": "[encoded data removed]",
      "text/plain": [
       "<Figure size 1000x600 with 1 Axes>"
      ]
     },
     "metadata": {},
     "output_type": "display_data"
    }
   ],
   "source": [
    "# Plot the frequency of the words\n",
    "plt.figure(figsize=(10,6))\n",
    "sns.set_style(\"whitegrid\")\n",
    "sns.histplot(df[\"Frequency\"], color=color, bins=6)\n",
    "plt.title(\"Frequency of words in the list in the answers\")\n",
    "plt.xlabel(\"Frequency\")\n",
    "plt.ylabel(\"Count\")\n",
    "plt.show()"
   ]
  },
  {
   "cell_type": "code",
   "execution_count": null,
   "metadata": {},
   "outputs": [],
   "source": []
  }
 ],
 "metadata": {
  "kernelspec": {
   "display_name": "base",
   "language": "python",
   "name": "python3"
  },
  "language_info": {
   "codemirror_mode": {
    "name": "ipython",
    "version": 3
   },
   "file_extension": ".py",
   "mimetype": "text/x-python",
   "name": "python",
   "nbconvert_exporter": "python",
   "pygments_lexer": "ipython3",
   "version": "3.11.4"
  }
 },
 "nbformat": 4,
 "nbformat_minor": 2
}
