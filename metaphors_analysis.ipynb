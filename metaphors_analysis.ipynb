{
 "cells": [
  {
   "cell_type": "markdown",
   "metadata": {},
   "source": [
    "# Notebook: Metaphor analysis\n",
    "\n",
    "This notebook is meant to analyse the metaphors detected by the REGEX and POS approaches.\n",
    "\n",
    "The analysis will focus on:\n",
    "- frequency of the word \"inflation\" related to the inflation rate\n",
    "- Sentiment analysis of the metaphors flagged\n",
    "- Poisson regression, with the metaphors sentiment score "
   ]
  },
  {
   "cell_type": "code",
   "execution_count": 9,
   "metadata": {},
   "outputs": [],
   "source": [
    "import re\n",
    "import pandas as pd\n",
    "import numpy as np\n",
    "import matplotlib.pyplot as plt\n",
    "import seaborn as sns\n",
    "from tqdm import tqdm\n",
    "from ecbdata import ecbdata\n",
    "\n",
    "tqdm.pandas()\n",
    "\n",
    "#ECB Color\n",
    "color = (17/255, 49/255, 147/255)"
   ]
  },
  {
   "cell_type": "code",
   "execution_count": null,
   "metadata": {},
   "outputs": [],
   "source": [
    "# Target words:\n",
    "words_to_match = [\"inflation\",\"deflation\",\"inflationary\",\"desinflationary\",\"hyperinflation\",\"disinflation\"]"
   ]
  },
  {
   "cell_type": "code",
   "execution_count": 10,
   "metadata": {},
   "outputs": [],
   "source": [
    "# Functions"
   ]
  },
  {
   "cell_type": "code",
   "execution_count": 11,
   "metadata": {},
   "outputs": [
    {
     "data": {
      "text/html": [
       "<div>\n",
       "<style scoped>\n",
       "    .dataframe tbody tr th:only-of-type {\n",
       "        vertical-align: middle;\n",
       "    }\n",
       "\n",
       "    .dataframe tbody tr th {\n",
       "        vertical-align: top;\n",
       "    }\n",
       "\n",
       "    .dataframe thead th {\n",
       "        text-align: right;\n",
       "    }\n",
       "</style>\n",
       "<table border=\"1\" class=\"dataframe\">\n",
       "  <thead>\n",
       "    <tr style=\"text-align: right;\">\n",
       "      <th></th>\n",
       "      <th>Date</th>\n",
       "      <th>Media</th>\n",
       "      <th>Member</th>\n",
       "      <th>Link</th>\n",
       "      <th>Information</th>\n",
       "      <th>Questions</th>\n",
       "      <th>Answers</th>\n",
       "      <th>list_regex</th>\n",
       "      <th>list_regex_reduced</th>\n",
       "      <th>list_regex_len</th>\n",
       "      <th>list_regex_reduced_len</th>\n",
       "      <th>text_length</th>\n",
       "      <th>pos_metaphors</th>\n",
       "      <th>pos_metaphors_len</th>\n",
       "    </tr>\n",
       "  </thead>\n",
       "  <tbody>\n",
       "    <tr>\n",
       "      <th>0</th>\n",
       "      <td>2005-12-23</td>\n",
       "      <td>Interview with Der Spiegel</td>\n",
       "      <td>Jean-Claude Trichet</td>\n",
       "      <td>https://www.ecb.europa.eu/press/inter/date/200...</td>\n",
       "      <td>Information not found</td>\n",
       "      <td>SPIEGEL: Monsieur Trichet, any concrete uttera...</td>\n",
       "      <td>The publication of the translation was authori...</td>\n",
       "      <td>['we will in the future take the decision that...</td>\n",
       "      <td>['we will in the future take the decision that...</td>\n",
       "      <td>3</td>\n",
       "      <td>3</td>\n",
       "      <td>9371</td>\n",
       "      <td>[]</td>\n",
       "      <td>0</td>\n",
       "    </tr>\n",
       "    <tr>\n",
       "      <th>1</th>\n",
       "      <td>2005-12-19</td>\n",
       "      <td>Interview with Hospodářské Noviny</td>\n",
       "      <td>Otmar Issing</td>\n",
       "      <td>https://www.ecb.europa.eu/press/inter/date/200...</td>\n",
       "      <td>Information not found</td>\n",
       "      <td>The new EU member states want to adopt the eur...</td>\n",
       "      <td>These questions are all closely related to eac...</td>\n",
       "      <td>['we be not confront with deflation but with i...</td>\n",
       "      <td>['we be not confront with deflation but with i...</td>\n",
       "      <td>1</td>\n",
       "      <td>1</td>\n",
       "      <td>3209</td>\n",
       "      <td>[]</td>\n",
       "      <td>0</td>\n",
       "    </tr>\n",
       "    <tr>\n",
       "      <th>2</th>\n",
       "      <td>2005-12-19</td>\n",
       "      <td>Interview with Financial Times and Financial T...</td>\n",
       "      <td>Lucas Papademos</td>\n",
       "      <td>https://www.ecb.europa.eu/press/inter/date/200...</td>\n",
       "      <td>Information not found</td>\n",
       "      <td>Mr Papademos, you have responsibility as ECB V...</td>\n",
       "      <td>A comparison of the risks involved when short-...</td>\n",
       "      <td>['if longterm interest rate remain at a low le...</td>\n",
       "      <td>['if longterm interest rate remain at a low le...</td>\n",
       "      <td>11</td>\n",
       "      <td>10</td>\n",
       "      <td>16231</td>\n",
       "      <td>[('low', 'inflation'), ('current', 'inflation')]</td>\n",
       "      <td>2</td>\n",
       "    </tr>\n",
       "    <tr>\n",
       "      <th>3</th>\n",
       "      <td>2005-12-15</td>\n",
       "      <td>Interview with Paris Match</td>\n",
       "      <td>Jean-Claude Trichet</td>\n",
       "      <td>https://www.ecb.europa.eu/press/inter/date/200...</td>\n",
       "      <td>Information not found</td>\n",
       "      <td>Paris Match. After two uneventful years at the...</td>\n",
       "      <td>The publication of the translation was authori...</td>\n",
       "      <td>['you be exaggerate the increase in the cost o...</td>\n",
       "      <td>['you be exaggerate the increase in the cost o...</td>\n",
       "      <td>5</td>\n",
       "      <td>4</td>\n",
       "      <td>8186</td>\n",
       "      <td>[]</td>\n",
       "      <td>0</td>\n",
       "    </tr>\n",
       "    <tr>\n",
       "      <th>4</th>\n",
       "      <td>2005-12-09</td>\n",
       "      <td>Interview in Il Giornale</td>\n",
       "      <td>Lorenzo Bini Smaghi</td>\n",
       "      <td>https://www.ecb.europa.eu/press/inter/date/200...</td>\n",
       "      <td>Information not found</td>\n",
       "      <td>However, Europe’s politicians, with few except...</td>\n",
       "      <td>By Angelo Allegri, our correspondent in Frankf...</td>\n",
       "      <td>['the rise have help to keep inflation expecta...</td>\n",
       "      <td>['the rise have help to keep inflation expecta...</td>\n",
       "      <td>7</td>\n",
       "      <td>7</td>\n",
       "      <td>6765</td>\n",
       "      <td>[]</td>\n",
       "      <td>0</td>\n",
       "    </tr>\n",
       "  </tbody>\n",
       "</table>\n",
       "</div>"
      ],
      "text/plain": [
       "        Date                                              Media  \\\n",
       "0 2005-12-23                         Interview with Der Spiegel   \n",
       "1 2005-12-19                  Interview with Hospodářské Noviny   \n",
       "2 2005-12-19  Interview with Financial Times and Financial T...   \n",
       "3 2005-12-15                         Interview with Paris Match   \n",
       "4 2005-12-09                           Interview in Il Giornale   \n",
       "\n",
       "                Member                                               Link  \\\n",
       "0  Jean-Claude Trichet  https://www.ecb.europa.eu/press/inter/date/200...   \n",
       "1         Otmar Issing  https://www.ecb.europa.eu/press/inter/date/200...   \n",
       "2      Lucas Papademos  https://www.ecb.europa.eu/press/inter/date/200...   \n",
       "3  Jean-Claude Trichet  https://www.ecb.europa.eu/press/inter/date/200...   \n",
       "4  Lorenzo Bini Smaghi  https://www.ecb.europa.eu/press/inter/date/200...   \n",
       "\n",
       "             Information                                          Questions  \\\n",
       "0  Information not found  SPIEGEL: Monsieur Trichet, any concrete uttera...   \n",
       "1  Information not found  The new EU member states want to adopt the eur...   \n",
       "2  Information not found  Mr Papademos, you have responsibility as ECB V...   \n",
       "3  Information not found  Paris Match. After two uneventful years at the...   \n",
       "4  Information not found  However, Europe’s politicians, with few except...   \n",
       "\n",
       "                                             Answers  \\\n",
       "0  The publication of the translation was authori...   \n",
       "1  These questions are all closely related to eac...   \n",
       "2  A comparison of the risks involved when short-...   \n",
       "3  The publication of the translation was authori...   \n",
       "4  By Angelo Allegri, our correspondent in Frankf...   \n",
       "\n",
       "                                          list_regex  \\\n",
       "0  ['we will in the future take the decision that...   \n",
       "1  ['we be not confront with deflation but with i...   \n",
       "2  ['if longterm interest rate remain at a low le...   \n",
       "3  ['you be exaggerate the increase in the cost o...   \n",
       "4  ['the rise have help to keep inflation expecta...   \n",
       "\n",
       "                                  list_regex_reduced  list_regex_len  \\\n",
       "0  ['we will in the future take the decision that...               3   \n",
       "1  ['we be not confront with deflation but with i...               1   \n",
       "2  ['if longterm interest rate remain at a low le...              11   \n",
       "3  ['you be exaggerate the increase in the cost o...               5   \n",
       "4  ['the rise have help to keep inflation expecta...               7   \n",
       "\n",
       "   list_regex_reduced_len  text_length  \\\n",
       "0                       3         9371   \n",
       "1                       1         3209   \n",
       "2                      10        16231   \n",
       "3                       4         8186   \n",
       "4                       7         6765   \n",
       "\n",
       "                                      pos_metaphors  pos_metaphors_len  \n",
       "0                                                []                  0  \n",
       "1                                                []                  0  \n",
       "2  [('low', 'inflation'), ('current', 'inflation')]                  2  \n",
       "3                                                []                  0  \n",
       "4                                                []                  0  "
      ]
     },
     "execution_count": 11,
     "metadata": {},
     "output_type": "execute_result"
    }
   ],
   "source": [
    "# Import dataset containing the interveiw data\n",
    "df = pd.read_csv('data_complete.csv')\n",
    "\n",
    "# Convert 'date' column to datetime format\n",
    "df['Date'] = pd.to_datetime(df['Date'])\n",
    "\n",
    "# For computation speed, limit the data to the last 50 rows:\n",
    "df = df.tail(50)\n",
    "\n",
    "df.head()"
   ]
  },
  {
   "cell_type": "code",
   "execution_count": 12,
   "metadata": {},
   "outputs": [
    {
     "name": "stdout",
     "output_type": "stream",
     "text": [
      "Shape of the dataset before dropping missing values:  (519, 14)\n"
     ]
    },
    {
     "data": {
      "text/plain": [
       "Date                       0\n",
       "Media                      0\n",
       "Member                     0\n",
       "Link                       0\n",
       "Information                0\n",
       "Questions                 51\n",
       "Answers                   10\n",
       "list_regex                 0\n",
       "list_regex_reduced         0\n",
       "list_regex_len             0\n",
       "list_regex_reduced_len     0\n",
       "text_length                0\n",
       "pos_metaphors              0\n",
       "pos_metaphors_len          0\n",
       "dtype: int64"
      ]
     },
     "execution_count": 12,
     "metadata": {},
     "output_type": "execute_result"
    }
   ],
   "source": [
    "print(\"Shape of the dataset before dropping missing values: \", df.shape)\n",
    "df.isna().sum()"
   ]
  },
  {
   "cell_type": "code",
   "execution_count": 14,
   "metadata": {},
   "outputs": [
    {
     "name": "stdout",
     "output_type": "stream",
     "text": [
      "Shape of the dataset after dropping missing values:  (519, 14)\n"
     ]
    },
    {
     "data": {
      "text/plain": [
       "Date                      489\n",
       "Media                     259\n",
       "Member                     19\n",
       "Link                      519\n",
       "Information               361\n",
       "Questions                 465\n",
       "Answers                   509\n",
       "list_regex                407\n",
       "list_regex_reduced        407\n",
       "list_regex_len             38\n",
       "list_regex_reduced_len     38\n",
       "text_length               504\n",
       "pos_metaphors             175\n",
       "pos_metaphors_len          15\n",
       "dtype: int64"
      ]
     },
     "execution_count": 14,
     "metadata": {},
     "output_type": "execute_result"
    }
   ],
   "source": [
    "print(\"Shape of the dataset after dropping missing values: \", df.shape)\n",
    "df.nunique()"
   ]
  },
  {
   "cell_type": "code",
   "execution_count": 13,
   "metadata": {},
   "outputs": [
    {
     "data": {
      "text/plain": [
       "Date                      datetime64[ns]\n",
       "Media                             object\n",
       "Member                            object\n",
       "Link                              object\n",
       "Information                       object\n",
       "Questions                         object\n",
       "Answers                           object\n",
       "list_regex                        object\n",
       "list_regex_reduced                object\n",
       "list_regex_len                     int64\n",
       "list_regex_reduced_len             int64\n",
       "text_length                        int64\n",
       "pos_metaphors                     object\n",
       "pos_metaphors_len                  int64\n",
       "dtype: object"
      ]
     },
     "execution_count": 13,
     "metadata": {},
     "output_type": "execute_result"
    }
   ],
   "source": [
    "#types of data\n",
    "df.dtypes"
   ]
  },
  {
   "cell_type": "code",
   "execution_count": null,
   "metadata": {},
   "outputs": [],
   "source": [
    "# TODO: RUN both POS and Regex\n",
    "# TODO: Make graph of frequency of \"infaltion\" and frequency of Metaphors and the line of ratio per interview -> change the text length value in the graphs to one of these features -> Scale\n",
    "# TODO: Poisson regression -> with POS and Regex, then labeled\n",
    "# TODO: POS extract_relatiioships() - keep also the whole sentence?\n"
   ]
  }
 ],
 "metadata": {
  "kernelspec": {
   "display_name": "base",
   "language": "python",
   "name": "python3"
  },
  "language_info": {
   "codemirror_mode": {
    "name": "ipython",
    "version": 3
   },
   "file_extension": ".py",
   "mimetype": "text/x-python",
   "name": "python",
   "nbconvert_exporter": "python",
   "pygments_lexer": "ipython3",
   "version": "3.11.4"
  }
 },
 "nbformat": 4,
 "nbformat_minor": 2
}
