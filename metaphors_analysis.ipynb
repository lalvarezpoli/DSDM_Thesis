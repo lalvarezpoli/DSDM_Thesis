{
 "cells": [
  {
   "cell_type": "markdown",
   "metadata": {},
   "source": [
    "# Notebook: Metaphor analysis\n",
    "\n",
    "This notebook is meant to analyse the metaphors detected by the REGEX and POS approaches.\n",
    "\n",
    "The analysis will focus on:\n",
    "- frequency of the word \"inflation\" related to the inflation rate\n",
    "- Sentiment analysis of the metaphors flagged\n",
    "- Poisson regression, with the metaphors sentiment score "
   ]
  },
  {
   "cell_type": "code",
   "execution_count": 3,
   "metadata": {},
   "outputs": [
    {
     "name": "stderr",
     "output_type": "stream",
     "text": [
      "C:\\Users\\School\\AppData\\Roaming\\Python\\Python311\\site-packages\\pandas\\core\\arrays\\masked.py:60: UserWarning: Pandas requires version '1.3.6' or newer of 'bottleneck' (version '1.3.5' currently installed).\n",
      "  from pandas.core import (\n"
     ]
    }
   ],
   "source": [
    "import re\n",
    "import pandas as pd\n",
    "import numpy as np\n",
    "import matplotlib.pyplot as plt\n",
    "import seaborn as sns\n",
    "from tqdm import tqdm\n",
    "from ecbdata import ecbdata\n",
    "\n",
    "tqdm.pandas()\n",
    "\n",
    "#ECB Color\n",
    "color = (17/255, 49/255, 147/255)"
   ]
  },
  {
   "cell_type": "code",
   "execution_count": 4,
   "metadata": {},
   "outputs": [],
   "source": [
    "# Functions"
   ]
  },
  {
   "cell_type": "code",
   "execution_count": 7,
   "metadata": {},
   "outputs": [
    {
     "data": {
      "text/html": [
       "<div>\n",
       "<style scoped>\n",
       "    .dataframe tbody tr th:only-of-type {\n",
       "        vertical-align: middle;\n",
       "    }\n",
       "\n",
       "    .dataframe tbody tr th {\n",
       "        vertical-align: top;\n",
       "    }\n",
       "\n",
       "    .dataframe thead th {\n",
       "        text-align: right;\n",
       "    }\n",
       "</style>\n",
       "<table border=\"1\" class=\"dataframe\">\n",
       "  <thead>\n",
       "    <tr style=\"text-align: right;\">\n",
       "      <th></th>\n",
       "      <th>Date</th>\n",
       "      <th>Media</th>\n",
       "      <th>Member</th>\n",
       "      <th>Link</th>\n",
       "      <th>Information</th>\n",
       "      <th>Questions</th>\n",
       "      <th>Answers</th>\n",
       "    </tr>\n",
       "  </thead>\n",
       "  <tbody>\n",
       "    <tr>\n",
       "      <th>0</th>\n",
       "      <td>2005-12-23</td>\n",
       "      <td>Interview with Der Spiegel</td>\n",
       "      <td>Jean-Claude Trichet</td>\n",
       "      <td>https://www.ecb.europa.eu/press/inter/date/200...</td>\n",
       "      <td>Information not found</td>\n",
       "      <td>SPIEGEL: Monsieur Trichet, any concrete uttera...</td>\n",
       "      <td>The publication of the translation was authori...</td>\n",
       "    </tr>\n",
       "    <tr>\n",
       "      <th>1</th>\n",
       "      <td>2005-12-19</td>\n",
       "      <td>Interview with Hospodářské Noviny</td>\n",
       "      <td>Otmar Issing</td>\n",
       "      <td>https://www.ecb.europa.eu/press/inter/date/200...</td>\n",
       "      <td>Information not found</td>\n",
       "      <td>The new EU member states want to adopt the eur...</td>\n",
       "      <td>These questions are all closely related to eac...</td>\n",
       "    </tr>\n",
       "    <tr>\n",
       "      <th>2</th>\n",
       "      <td>2005-12-19</td>\n",
       "      <td>Interview with Financial Times and Financial T...</td>\n",
       "      <td>Lucas Papademos</td>\n",
       "      <td>https://www.ecb.europa.eu/press/inter/date/200...</td>\n",
       "      <td>Information not found</td>\n",
       "      <td>Mr Papademos, you have responsibility as ECB V...</td>\n",
       "      <td>A comparison of the risks involved when short-...</td>\n",
       "    </tr>\n",
       "    <tr>\n",
       "      <th>3</th>\n",
       "      <td>2005-12-15</td>\n",
       "      <td>Interview with Paris Match</td>\n",
       "      <td>Jean-Claude Trichet</td>\n",
       "      <td>https://www.ecb.europa.eu/press/inter/date/200...</td>\n",
       "      <td>Information not found</td>\n",
       "      <td>Paris Match. After two uneventful years at the...</td>\n",
       "      <td>The publication of the translation was authori...</td>\n",
       "    </tr>\n",
       "    <tr>\n",
       "      <th>4</th>\n",
       "      <td>2005-12-09</td>\n",
       "      <td>Interview in Il Giornale</td>\n",
       "      <td>Lorenzo Bini Smaghi</td>\n",
       "      <td>https://www.ecb.europa.eu/press/inter/date/200...</td>\n",
       "      <td>Information not found</td>\n",
       "      <td>However, Europe’s politicians, with few except...</td>\n",
       "      <td>By Angelo Allegri, our correspondent in Frankf...</td>\n",
       "    </tr>\n",
       "  </tbody>\n",
       "</table>\n",
       "</div>"
      ],
      "text/plain": [
       "        Date                                              Media  \\\n",
       "0 2005-12-23                         Interview with Der Spiegel   \n",
       "1 2005-12-19                  Interview with Hospodářské Noviny   \n",
       "2 2005-12-19  Interview with Financial Times and Financial T...   \n",
       "3 2005-12-15                         Interview with Paris Match   \n",
       "4 2005-12-09                           Interview in Il Giornale   \n",
       "\n",
       "                Member                                               Link  \\\n",
       "0  Jean-Claude Trichet  https://www.ecb.europa.eu/press/inter/date/200...   \n",
       "1         Otmar Issing  https://www.ecb.europa.eu/press/inter/date/200...   \n",
       "2      Lucas Papademos  https://www.ecb.europa.eu/press/inter/date/200...   \n",
       "3  Jean-Claude Trichet  https://www.ecb.europa.eu/press/inter/date/200...   \n",
       "4  Lorenzo Bini Smaghi  https://www.ecb.europa.eu/press/inter/date/200...   \n",
       "\n",
       "             Information                                          Questions  \\\n",
       "0  Information not found  SPIEGEL: Monsieur Trichet, any concrete uttera...   \n",
       "1  Information not found  The new EU member states want to adopt the eur...   \n",
       "2  Information not found  Mr Papademos, you have responsibility as ECB V...   \n",
       "3  Information not found  Paris Match. After two uneventful years at the...   \n",
       "4  Information not found  However, Europe’s politicians, with few except...   \n",
       "\n",
       "                                             Answers  \n",
       "0  The publication of the translation was authori...  \n",
       "1  These questions are all closely related to eac...  \n",
       "2  A comparison of the risks involved when short-...  \n",
       "3  The publication of the translation was authori...  \n",
       "4  By Angelo Allegri, our correspondent in Frankf...  "
      ]
     },
     "execution_count": 7,
     "metadata": {},
     "output_type": "execute_result"
    }
   ],
   "source": [
    "# Import dataset containing the interveiw data\n",
    "df = pd.read_csv('data_complete.csv')\n",
    "\n",
    "# Convert 'date' column to datetime format\n",
    "df['Date'] = pd.to_datetime(df['Date'])\n",
    "\n",
    "# For computation speed, limit the data to the last 30 rows:\n",
    "#df = df.tail(150)\n",
    "\n",
    "df.head()"
   ]
  },
  {
   "cell_type": "code",
   "execution_count": 8,
   "metadata": {},
   "outputs": [
    {
     "name": "stdout",
     "output_type": "stream",
     "text": [
      "Shape of the dataset before dropping missing values:  (519, 7)\n"
     ]
    },
    {
     "data": {
      "text/plain": [
       "Date            0\n",
       "Media           0\n",
       "Member          0\n",
       "Link            0\n",
       "Information     0\n",
       "Questions      51\n",
       "Answers        10\n",
       "dtype: int64"
      ]
     },
     "execution_count": 8,
     "metadata": {},
     "output_type": "execute_result"
    }
   ],
   "source": [
    "print(\"Shape of the dataset before dropping missing values: \", df.shape)\n",
    "df.isna().sum()"
   ]
  },
  {
   "cell_type": "code",
   "execution_count": null,
   "metadata": {},
   "outputs": [],
   "source": []
  }
 ],
 "metadata": {
  "kernelspec": {
   "display_name": "base",
   "language": "python",
   "name": "python3"
  },
  "language_info": {
   "codemirror_mode": {
    "name": "ipython",
    "version": 3
   },
   "file_extension": ".py",
   "mimetype": "text/x-python",
   "name": "python",
   "nbconvert_exporter": "python",
   "pygments_lexer": "ipython3",
   "version": "3.11.4"
  }
 },
 "nbformat": 4,
 "nbformat_minor": 2
}
